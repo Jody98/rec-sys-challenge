{
 "cells": [
  {
   "cell_type": "markdown",
   "metadata": {},
   "source": [
    "# Recommender Systems 2022/23\n",
    "\n",
    "### Practice - AsySVD implemented with Python\n",
    "\n",
    "AsymmetricSVD is a model-based matrix factorization algorithm in which the user latent factors are represented as a function of their user profile and of a second item factor matrix."
   ]
  },
  {
   "cell_type": "code",
   "execution_count": 1,
   "metadata": {
    "ExecuteTime": {
     "end_time": "2023-11-19T13:49:28.894287Z",
     "start_time": "2023-11-19T13:49:28.316088Z"
    }
   },
   "outputs": [],
   "source": [
    "import time\n",
    "import numpy as np"
   ]
  },
  {
   "cell_type": "code",
   "execution_count": 2,
   "metadata": {
    "ExecuteTime": {
     "end_time": "2023-11-19T13:49:36.544312Z",
     "start_time": "2023-11-19T13:49:30.852558Z"
    }
   },
   "outputs": [
    {
     "name": "stdout",
     "output_type": "stream",
     "text": [
      "Warning: 605 (4.64 %) of 13025 users have no train items\n",
      "Warning: 2567 (19.71 %) of 13025 users have no sampled items\n"
     ]
    }
   ],
   "source": [
    "import scipy.sparse as sps\n",
    "\n",
    "from Data_manager.split_functions.split_train_validation_random_holdout import \\\n",
    "    split_train_in_two_percentage_global_sample\n",
    "from challenge.utils.functions import read_data, evaluate_algorithm, generate_submission_csv\n",
    "\n",
    "\n",
    "data_file_path = '../challenge/input_files/data_train.csv'\n",
    "users_file_path = '../challenge/input_files/data_target_users_test.csv'\n",
    "URM_all_dataframe, users_list = read_data(data_file_path, users_file_path)\n",
    "\n",
    "URM_all = sps.coo_matrix(\n",
    "    (URM_all_dataframe['Data'].values, (URM_all_dataframe['UserID'].values, URM_all_dataframe['ItemID'].values)))\n",
    "URM_all = URM_all.tocsr()\n",
    "\n",
    "URM_train, URM_test = split_train_in_two_percentage_global_sample(URM_all, train_percentage=0.80)"
   ]
  },
  {
   "cell_type": "code",
   "execution_count": 3,
   "metadata": {
    "ExecuteTime": {
     "end_time": "2023-11-19T13:49:40.341707Z",
     "start_time": "2023-11-19T13:49:40.305609Z"
    }
   },
   "outputs": [
    {
     "data": {
      "text/plain": "<13025x22348 sparse matrix of type '<class 'numpy.float64'>'\n\twith 382984 stored elements in Compressed Sparse Row format>"
     },
     "execution_count": 3,
     "metadata": {},
     "output_type": "execute_result"
    }
   ],
   "source": [
    "URM_train"
   ]
  },
  {
   "cell_type": "markdown",
   "metadata": {},
   "source": [
    "### What do we need for AsySVD?\n",
    "\n",
    "* Loss function\n",
    "* User factor and Item factor matrices\n",
    "* Computing prediction\n",
    "* Update rule\n",
    "* Training loop and some patience\n"
   ]
  },
  {
   "cell_type": "code",
   "execution_count": 4,
   "metadata": {
    "ExecuteTime": {
     "end_time": "2023-11-19T13:49:47.897928Z",
     "start_time": "2023-11-19T13:49:47.864453Z"
    }
   },
   "outputs": [],
   "source": [
    "n_users, n_items = URM_train.shape"
   ]
  },
  {
   "cell_type": "markdown",
   "metadata": {},
   "source": [
    "#### The two methods are based on two latent factor matrices $ W, V \\in R^{I \\times E}$ with E the embedding size, and biases\n",
    "\n",
    "#### How to compute the predictions\n",
    "$ \\hat{r}_{ui} = \\sum_{k=0}^{E}\\sum_{j=0}^{I} r_{uj}W_{jk}H_{ki}$\n",
    "\n",
    "\n",
    "#### The loss function we are interested in minimizing is\n",
    "$L = |R - RWH|_F + \\alpha|W|_2 + \\beta|H|_2$\n",
    "\n",
    "#### Gradients\n",
    "\n",
    "$\\frac{\\partial}{\\partial W} L = -2(R - RWH)RH + 2\\alpha W $\n",
    "\n",
    "$\\frac{\\partial}{\\partial H} L = -2(R - RWH)RW + 2\\alpha H $\n",
    "\n",
    "\n",
    "#### The update is going to be (we can remove the coefficients)\n",
    "$ W = W - \\frac{\\partial}{\\partial W}$, or \n",
    "\n",
    "$ W = W + l((R - RWH)RH - \\alpha W)$, with $l$ the learning rate\n"
   ]
  },
  {
   "cell_type": "markdown",
   "metadata": {},
   "source": [
    "## Step 1: We create the dense latent factor matrices\n",
    "### In a MF model you have two matrices, one with a row per user and the other with a column per item. The other dimension, columns for the first one and rows for the second one is called latent factors"
   ]
  },
  {
   "cell_type": "code",
   "execution_count": 5,
   "metadata": {
    "ExecuteTime": {
     "end_time": "2023-11-19T13:49:58.224859Z",
     "start_time": "2023-11-19T13:49:58.194168Z"
    }
   },
   "outputs": [],
   "source": [
    "num_factors = 10\n",
    "\n",
    "USER_profile_factors = np.random.random((n_items, num_factors))\n",
    "ITEM_factors = np.random.random((n_items, num_factors))"
   ]
  },
  {
   "cell_type": "code",
   "execution_count": 6,
   "metadata": {
    "ExecuteTime": {
     "end_time": "2023-11-19T13:49:59.250222Z",
     "start_time": "2023-11-19T13:49:59.226570Z"
    }
   },
   "outputs": [
    {
     "data": {
      "text/plain": "array([[0.18856831, 0.90217612, 0.98982947, ..., 0.94541454, 0.90624135,\n        0.31908818],\n       [0.44137743, 0.74073275, 0.44326409, ..., 0.40621576, 0.67268469,\n        0.72549581],\n       [0.8739436 , 0.98006013, 0.12750054, ..., 0.37312061, 0.47513745,\n        0.33573713],\n       ...,\n       [0.42989664, 0.20879702, 0.45678952, ..., 0.34100331, 0.56038007,\n        0.26818248],\n       [0.65313656, 0.61938755, 0.90260646, ..., 0.19837236, 0.48963003,\n        0.45819722],\n       [0.26228609, 0.52205494, 0.70232682, ..., 0.2541192 , 0.04137471,\n        0.38909485]])"
     },
     "execution_count": 6,
     "metadata": {},
     "output_type": "execute_result"
    }
   ],
   "source": [
    "USER_profile_factors"
   ]
  },
  {
   "cell_type": "code",
   "execution_count": 7,
   "metadata": {
    "ExecuteTime": {
     "end_time": "2023-11-19T13:50:01.226874Z",
     "start_time": "2023-11-19T13:50:01.187373Z"
    }
   },
   "outputs": [
    {
     "data": {
      "text/plain": "array([[0.17843541, 0.35820796, 0.6182482 , ..., 0.15115074, 0.17562078,\n        0.12034899],\n       [0.15222427, 0.96352417, 0.44824266, ..., 0.10396651, 0.91391648,\n        0.23865359],\n       [0.96628695, 0.26157372, 0.58548373, ..., 0.52854501, 0.88103944,\n        0.33321637],\n       ...,\n       [0.97229864, 0.7627337 , 0.31020948, ..., 0.23492599, 0.71148478,\n        0.07988665],\n       [0.54613659, 0.98855058, 0.36978015, ..., 0.82541137, 0.97344637,\n        0.82363698],\n       [0.36939083, 0.51889602, 0.54974387, ..., 0.40351463, 0.74113613,\n        0.27692855]])"
     },
     "execution_count": 7,
     "metadata": {},
     "output_type": "execute_result"
    }
   ],
   "source": [
    "ITEM_factors"
   ]
  },
  {
   "cell_type": "markdown",
   "metadata": {},
   "source": [
    "## Step 2: We sample an interaction and compute the prediction of the current model"
   ]
  },
  {
   "cell_type": "code",
   "execution_count": 8,
   "metadata": {
    "ExecuteTime": {
     "end_time": "2023-11-19T13:50:06.214953Z",
     "start_time": "2023-11-19T13:50:06.172345Z"
    }
   },
   "outputs": [
    {
     "data": {
      "text/plain": "268621"
     },
     "execution_count": 8,
     "metadata": {},
     "output_type": "execute_result"
    }
   ],
   "source": [
    "URM_train_coo = URM_train.tocoo()\n",
    "\n",
    "sample_index = np.random.randint(URM_train_coo.nnz)\n",
    "sample_index"
   ]
  },
  {
   "cell_type": "code",
   "execution_count": 9,
   "metadata": {
    "ExecuteTime": {
     "end_time": "2023-11-19T13:50:07.687102Z",
     "start_time": "2023-11-19T13:50:07.669937Z"
    }
   },
   "outputs": [
    {
     "data": {
      "text/plain": "(9009, 101, 1.0)"
     },
     "execution_count": 9,
     "metadata": {},
     "output_type": "execute_result"
    }
   ],
   "source": [
    "user_id = URM_train_coo.row[sample_index]\n",
    "item_id = URM_train_coo.col[sample_index]\n",
    "rating = URM_train_coo.data[sample_index]\n",
    "\n",
    "user_profile = URM_train[user_id]\n",
    "\n",
    "(user_id, item_id, rating)"
   ]
  },
  {
   "cell_type": "code",
   "execution_count": 10,
   "metadata": {
    "ExecuteTime": {
     "end_time": "2023-11-19T13:50:09.130506Z",
     "start_time": "2023-11-19T13:50:09.112770Z"
    }
   },
   "outputs": [
    {
     "data": {
      "text/plain": "array([0.45832024, 0.477863  , 0.53964241, 0.47105518, 0.45585657,\n       0.52164688, 0.49402138, 0.38681631, 0.43618032, 0.53817768])"
     },
     "execution_count": 10,
     "metadata": {},
     "output_type": "execute_result"
    }
   ],
   "source": [
    "# The estimated user factors may be divided by the square root of the profile length or the length itself\n",
    "# to improve learning stability (otherwise the dot product produces an embedding vector with very large numbers)\n",
    "USER_estimated_factors = user_profile.dot(USER_profile_factors).ravel()/user_profile.nnz\n",
    "USER_estimated_factors"
   ]
  },
  {
   "cell_type": "code",
   "execution_count": 11,
   "metadata": {
    "ExecuteTime": {
     "end_time": "2023-11-19T13:50:10.160366Z",
     "start_time": "2023-11-19T13:50:10.125005Z"
    }
   },
   "outputs": [
    {
     "data": {
      "text/plain": "2.668082546888111"
     },
     "execution_count": 11,
     "metadata": {},
     "output_type": "execute_result"
    }
   ],
   "source": [
    "predicted_rating = np.dot(USER_estimated_factors, ITEM_factors[item_id,:])\n",
    "predicted_rating"
   ]
  },
  {
   "cell_type": "markdown",
   "metadata": {},
   "source": [
    "#### The first predicted rating is a random prediction, essentially\n",
    "\n",
    "### Step 3: We compute the prediction error and update the latent factor matrices"
   ]
  },
  {
   "cell_type": "code",
   "execution_count": 12,
   "metadata": {
    "ExecuteTime": {
     "end_time": "2023-11-19T13:50:12.657515Z",
     "start_time": "2023-11-19T13:50:12.622694Z"
    }
   },
   "outputs": [
    {
     "data": {
      "text/plain": "-1.6680825468881109"
     },
     "execution_count": 12,
     "metadata": {},
     "output_type": "execute_result"
    }
   ],
   "source": [
    "prediction_error = rating - predicted_rating\n",
    "prediction_error"
   ]
  },
  {
   "cell_type": "markdown",
   "metadata": {},
   "source": [
    "### The error is positive, so we need to increase the prediction our model computes. Meaning, we have to increase the values latent factor matrices\n",
    "\n",
    "### Which latent factors we modify? All the factors of the item and user we used"
   ]
  },
  {
   "cell_type": "code",
   "execution_count": 13,
   "metadata": {
    "ExecuteTime": {
     "end_time": "2023-11-19T13:50:21.327149Z",
     "start_time": "2023-11-19T13:50:21.309692Z"
    }
   },
   "outputs": [],
   "source": [
    "# Copy original value to avoid messing up the updates\n",
    "H_all = ITEM_factors.copy()\n",
    "W_all = USER_profile_factors.copy()"
   ]
  },
  {
   "cell_type": "code",
   "execution_count": 14,
   "metadata": {
    "ExecuteTime": {
     "end_time": "2023-11-19T13:50:21.745478Z",
     "start_time": "2023-11-19T13:50:21.724665Z"
    }
   },
   "outputs": [
    {
     "data": {
      "text/plain": "array([[0.17843541, 0.35820796, 0.6182482 , ..., 0.15115074, 0.17562078,\n        0.12034899],\n       [0.15222427, 0.96352417, 0.44824266, ..., 0.10396651, 0.91391648,\n        0.23865359],\n       [0.96628695, 0.26157372, 0.58548373, ..., 0.52854501, 0.88103944,\n        0.33321637],\n       ...,\n       [0.97229864, 0.7627337 , 0.31020948, ..., 0.23492599, 0.71148478,\n        0.07988665],\n       [0.54613659, 0.98855058, 0.36978015, ..., 0.82541137, 0.97344637,\n        0.82363698],\n       [0.36939083, 0.51889602, 0.54974387, ..., 0.40351463, 0.74113613,\n        0.27692855]])"
     },
     "execution_count": 14,
     "metadata": {},
     "output_type": "execute_result"
    }
   ],
   "source": [
    "H_all"
   ]
  },
  {
   "cell_type": "code",
   "execution_count": 15,
   "metadata": {
    "ExecuteTime": {
     "end_time": "2023-11-19T13:50:22.379715Z",
     "start_time": "2023-11-19T13:50:22.329838Z"
    }
   },
   "outputs": [
    {
     "data": {
      "text/plain": "array([[0.18856831, 0.90217612, 0.98982947, ..., 0.94541454, 0.90624135,\n        0.31908818],\n       [0.44137743, 0.74073275, 0.44326409, ..., 0.40621576, 0.67268469,\n        0.72549581],\n       [0.8739436 , 0.98006013, 0.12750054, ..., 0.37312061, 0.47513745,\n        0.33573713],\n       ...,\n       [0.42989664, 0.20879702, 0.45678952, ..., 0.34100331, 0.56038007,\n        0.26818248],\n       [0.65313656, 0.61938755, 0.90260646, ..., 0.19837236, 0.48963003,\n        0.45819722],\n       [0.26228609, 0.52205494, 0.70232682, ..., 0.2541192 , 0.04137471,\n        0.38909485]])"
     },
     "execution_count": 15,
     "metadata": {},
     "output_type": "execute_result"
    }
   ],
   "source": [
    "W_all"
   ]
  },
  {
   "cell_type": "markdown",
   "metadata": {},
   "source": [
    "#### Apply the update rule"
   ]
  },
  {
   "cell_type": "code",
   "execution_count": 16,
   "metadata": {
    "ExecuteTime": {
     "end_time": "2023-11-19T13:50:24.358296Z",
     "start_time": "2023-11-19T13:50:24.334561Z"
    }
   },
   "outputs": [],
   "source": [
    "learning_rate = 1e-9    # Notice the low learning rate\n",
    "regularization = 1e-1   # Notice the high regularization"
   ]
  },
  {
   "cell_type": "code",
   "execution_count": 17,
   "metadata": {
    "ExecuteTime": {
     "end_time": "2023-11-19T13:50:32.126736Z",
     "start_time": "2023-11-19T13:50:32.098206Z"
    }
   },
   "outputs": [
    {
     "data": {
      "text/plain": "array([[-54.69393028, -47.95400053, -52.30669633, ..., -49.34506422,\n        -43.52619086, -50.20775832],\n       [-54.71921119, -47.93785619, -52.25203979, ..., -49.29114434,\n        -43.5028352 , -50.24839908],\n       [-54.76246781, -47.96178893, -52.22046344, ..., -49.28783482,\n        -43.48308047, -50.20942321],\n       ...,\n       [-54.71806311, -47.88466262, -52.25339234, ..., -49.28462309,\n        -43.49160473, -50.20266775],\n       [-54.7403871 , -47.92572167, -52.29797403, ..., -49.27036   ,\n        -43.48452973, -50.22166922],\n       [-54.70130206, -47.91598841, -52.27794606, ..., -49.27593468,\n        -43.4397042 , -50.21475898]])"
     },
     "execution_count": 17,
     "metadata": {},
     "output_type": "execute_result"
    }
   ],
   "source": [
    "user_factors_update = prediction_error * user_profile.dot(H_all) - regularization * W_all\n",
    "user_factors_update"
   ]
  },
  {
   "cell_type": "code",
   "execution_count": 18,
   "metadata": {
    "ExecuteTime": {
     "end_time": "2023-11-19T13:50:34.635874Z",
     "start_time": "2023-11-19T13:50:34.609458Z"
    }
   },
   "outputs": [
    {
     "data": {
      "text/plain": "array([[-46.65331867, -48.65983114, -54.97207852, ..., -39.37484917,\n        -44.40023389, -54.7732478 ],\n       [-46.65069756, -48.72036277, -54.95507796, ..., -39.37013075,\n        -44.47406346, -54.78507826],\n       [-46.73210382, -48.65016772, -54.96880207, ..., -39.4125886 ,\n        -44.47077575, -54.79453454],\n       ...,\n       [-46.73270499, -48.70028372, -54.94127465, ..., -39.3832267 ,\n        -44.45382029, -54.76920156],\n       [-46.69008879, -48.72286541, -54.94723171, ..., -39.44227523,\n        -44.48001645, -54.8435766 ],\n       [-46.67241421, -48.67589995, -54.96522808, ..., -39.40008556,\n        -44.45678542, -54.78890575]])"
     },
     "execution_count": 18,
     "metadata": {},
     "output_type": "execute_result"
    }
   ],
   "source": [
    "item_factors_update = prediction_error * user_profile.dot(W_all) - regularization * ITEM_factors\n",
    "item_factors_update"
   ]
  },
  {
   "cell_type": "code",
   "execution_count": 19,
   "metadata": {
    "ExecuteTime": {
     "end_time": "2023-11-19T13:50:36.337456Z",
     "start_time": "2023-11-19T13:50:36.305219Z"
    }
   },
   "outputs": [],
   "source": [
    "USER_profile_factors += learning_rate * user_factors_update \n",
    "ITEM_factors += learning_rate * item_factors_update"
   ]
  },
  {
   "cell_type": "markdown",
   "metadata": {},
   "source": [
    "### Let's check what the new prediction for the same user-item interaction would be"
   ]
  },
  {
   "cell_type": "code",
   "execution_count": 20,
   "metadata": {
    "ExecuteTime": {
     "end_time": "2023-11-19T13:50:38.283040Z",
     "start_time": "2023-11-19T13:50:38.251876Z"
    }
   },
   "outputs": [
    {
     "data": {
      "text/plain": "20.838386778004946"
     },
     "execution_count": 20,
     "metadata": {},
     "output_type": "execute_result"
    }
   ],
   "source": [
    "USER_estimated_factors = user_profile.dot(USER_profile_factors).ravel()/np.sqrt(user_profile.nnz)\n",
    "\n",
    "predicted_rating = np.dot(USER_estimated_factors, ITEM_factors[item_id,:])\n",
    "predicted_rating"
   ]
  },
  {
   "cell_type": "markdown",
   "metadata": {},
   "source": [
    "### We are moving in the right direction"
   ]
  },
  {
   "cell_type": "markdown",
   "metadata": {},
   "source": [
    "### And now? Sample another interaction and repeat... a lot of times"
   ]
  },
  {
   "cell_type": "markdown",
   "metadata": {},
   "source": [
    "### Let's put all together in a training loop."
   ]
  },
  {
   "cell_type": "code",
   "execution_count": 21,
   "metadata": {
    "ExecuteTime": {
     "end_time": "2023-11-19T14:23:53.916712Z",
     "start_time": "2023-11-19T13:50:46.817670Z"
    }
   },
   "outputs": [
    {
     "name": "stdout",
     "output_type": "stream",
     "text": [
      "Iteration 100000 in 206.44 seconds, loss is 359.89. Samples per second 484.40\n",
      "Iteration 200000 in 404.78 seconds, loss is 255.32. Samples per second 494.10\n",
      "Iteration 300000 in 603.30 seconds, loss is 198.04. Samples per second 497.26\n",
      "Iteration 400000 in 807.36 seconds, loss is 161.85. Samples per second 495.44\n",
      "Iteration 500000 in 1009.18 seconds, loss is 136.76. Samples per second 495.45\n",
      "Iteration 600000 in 1206.10 seconds, loss is 118.39. Samples per second 497.47\n",
      "Iteration 700000 in 1401.56 seconds, loss is 104.41. Samples per second 499.44\n",
      "Iteration 800000 in 1596.73 seconds, loss is 93.40. Samples per second 501.02\n",
      "Iteration 900000 in 1791.93 seconds, loss is 84.50. Samples per second 502.25\n",
      "Iteration 1000000 in 1987.08 seconds, loss is 77.17. Samples per second 503.25\n"
     ]
    }
   ],
   "source": [
    "URM_train_coo = URM_train.tocoo()\n",
    "\n",
    "num_factors = 10\n",
    "learning_rate = 1e-9    # Notice the low learning rate\n",
    "regularization = 1e-1   # Notice the high regularization\n",
    "\n",
    "USER_profile_factors = np.random.random((n_items, num_factors))\n",
    "ITEM_factors = np.random.random((n_items, num_factors))\n",
    "\n",
    "loss = 0.0\n",
    "start_time = time.time()\n",
    "\n",
    "for sample_num in range(1000000):\n",
    "    \n",
    "    # Randomly pick sample\n",
    "    sample_index = np.random.randint(URM_train_coo.nnz)\n",
    "\n",
    "    user_id = URM_train_coo.row[sample_index]\n",
    "    item_id = URM_train_coo.col[sample_index]\n",
    "    rating = URM_train_coo.data[sample_index]\n",
    "    \n",
    "    # Compute prediction\n",
    "    user_profile = URM_train[user_id]\n",
    "    \n",
    "    if user_profile.nnz == 0:\n",
    "        continue \n",
    "        \n",
    "    USER_estimated_factors = user_profile.dot(USER_profile_factors).ravel()/np.sqrt(user_profile.nnz)\n",
    "    predicted_rating = np.dot(USER_estimated_factors, ITEM_factors[item_id,:])\n",
    "        \n",
    "    # Compute prediction error, or gradient\n",
    "    prediction_error = rating - predicted_rating\n",
    "    loss += prediction_error**2\n",
    "\n",
    "    if np.isnan(loss):\n",
    "        break \n",
    "        \n",
    "    # Copy original value to avoid messing up the updates\n",
    "    H_all = ITEM_factors.copy()\n",
    "    W_all = USER_profile_factors.copy()\n",
    "    \n",
    "    # Apply the updates\n",
    "    user_factors_update = prediction_error * user_profile.dot(H_all) - regularization * W_all\n",
    "    item_factors_update = prediction_error * user_profile.dot(W_all) - regularization * H_all\n",
    "    \n",
    "    USER_profile_factors += learning_rate * user_factors_update \n",
    "    ITEM_factors += learning_rate * item_factors_update    \n",
    "    \n",
    "    # Print some stats\n",
    "    if (sample_num +1)% 100000 == 0:\n",
    "        elapsed_time = time.time() - start_time\n",
    "        samples_per_second = sample_num/elapsed_time\n",
    "        print(\"Iteration {} in {:.2f} seconds, loss is {:.2f}. Samples per second {:.2f}\".format(sample_num+1, elapsed_time, loss/sample_num, samples_per_second))"
   ]
  },
  {
   "cell_type": "markdown",
   "metadata": {},
   "source": [
    "### What do we see? The loss generally goes down but may oscillate a bit.\n",
    "### With higher learning rates or lower regularization you may see numerical instability (i.e., the loss suddendly explodes and then becomes nan, at which point some model parameters will also become none and the model is ruined)\n",
    "\n",
    "### How long do we train such a model?\n",
    "\n",
    "* An epoch: a complete loop over all the train data\n",
    "* Usually you train for multiple epochs. Depending on the algorithm and data 10s or 100s of epochs."
   ]
  },
  {
   "cell_type": "code",
   "execution_count": 22,
   "metadata": {
    "ExecuteTime": {
     "end_time": "2023-11-19T14:32:35.648858Z",
     "start_time": "2023-11-19T14:32:35.626029Z"
    }
   },
   "outputs": [
    {
     "name": "stdout",
     "output_type": "stream",
     "text": [
      "Estimated time with the previous training speed is 158966.67 seconds (2649.44 minutes, 44.16 hours)\n"
     ]
    }
   ],
   "source": [
    "estimated_seconds = 8e6 * 10 / samples_per_second\n",
    "print(\"Estimated time with the previous training speed is {:.2f} seconds ({:.2f} minutes, {:.2f} hours)\".format(estimated_seconds, estimated_seconds/60, estimated_seconds/3600))"
   ]
  },
  {
   "cell_type": "markdown",
   "metadata": {},
   "source": [
    "### AsySVD can be very slow. Each sample requires to compute dozens (or hundreds) of dot products. Cython does not help in this case because most of the computational cost is already vectorized by numpy. Tools such as PyTorch may become useful in this case because they allow to better parallelize these operations."
   ]
  },
  {
   "cell_type": "code",
   "execution_count": null,
   "metadata": {},
   "outputs": [],
   "source": []
  }
 ],
 "metadata": {
  "kernelspec": {
   "display_name": "Python 3 (ipykernel)",
   "language": "python",
   "name": "python3"
  },
  "language_info": {
   "codemirror_mode": {
    "name": "ipython",
    "version": 3
   },
   "file_extension": ".py",
   "mimetype": "text/x-python",
   "name": "python",
   "nbconvert_exporter": "python",
   "pygments_lexer": "ipython3",
   "version": "3.8.16"
  }
 },
 "nbformat": 4,
 "nbformat_minor": 2
}
