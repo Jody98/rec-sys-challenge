{
 "cells": [
  {
   "cell_type": "markdown",
   "metadata": {},
   "source": [
    "# Recommender Systems 2021/22\n",
    "\n",
    "### Practice - PureSVD\n",
    "\n",
    "PureSVD relies on the SVD decomposition of the URM, which is a well known matrix decompositoin technique available in most numerical libraries.\n",
    "\n",
    "In our case, an SVD decomposition of the URM *R* as ($m \\times n$) is as follows\n",
    "\n",
    "$$ R = U \\Sigma V^* $$\n",
    "\n",
    "Where $U$ is an orthogonal $m \\times m$ matrix, $\\Sigma$ is a rectangular diagonal matrix ($m \\times n$), and $V^*$ is the conjugate transposed of an $n \\times n$ matrix. \n",
    "\n",
    "The SVD decomposition will try to approximate *exactly* the original matrix, this is not what we want! \n",
    "We use instead the *truncated* SVD that will limit the decomposition at the desired number of latent dimensions, approximating the original matrix.\n",
    "\n",
    "\n",
    "$$ \\widehat{R} = U_{t} \\Sigma_{t} V^T_{t} $$\n",
    "\n",
    "Where $U_{t}$ is a $m \\times t$ matrix, $\\Sigma_{t}$ is a $t \\times t$ diagonal matrix, and $V^*_{t}$ is a $t \\times n$ matrix. For this approximation, only the $t$ largest singular values are kept.\n"
   ]
  },
  {
   "cell_type": "code",
   "execution_count": 1,
   "metadata": {
    "ExecuteTime": {
     "end_time": "2023-11-19T14:32:46.171391Z",
     "start_time": "2023-11-19T14:32:46.062086Z"
    }
   },
   "outputs": [],
   "source": [
    "import time\n",
    "import numpy as np"
   ]
  },
  {
   "cell_type": "code",
   "execution_count": 2,
   "metadata": {
    "ExecuteTime": {
     "end_time": "2023-11-19T14:32:59.856746Z",
     "start_time": "2023-11-19T14:32:56.691041Z"
    }
   },
   "outputs": [
    {
     "name": "stdout",
     "output_type": "stream",
     "text": [
      "Warning: 590 (4.53 %) of 13025 users have no train items\n",
      "Warning: 2591 (19.89 %) of 13025 users have no sampled items\n"
     ]
    }
   ],
   "source": [
    "import scipy.sparse as sps\n",
    "\n",
    "from Data_manager.split_functions.split_train_validation_random_holdout import \\\n",
    "    split_train_in_two_percentage_global_sample\n",
    "from challenge.utils.functions import read_data, evaluate_algorithm, generate_submission_csv\n",
    "\n",
    "\n",
    "data_file_path = '../challenge/input_files/data_train.csv'\n",
    "users_file_path = '../challenge/input_files/data_target_users_test.csv'\n",
    "URM_all_dataframe, users_list = read_data(data_file_path, users_file_path)\n",
    "\n",
    "URM_all = sps.coo_matrix(\n",
    "    (URM_all_dataframe['Data'].values, (URM_all_dataframe['UserID'].values, URM_all_dataframe['ItemID'].values)))\n",
    "URM_all = URM_all.tocsr()\n",
    "\n",
    "URM_train, URM_test = split_train_in_two_percentage_global_sample(URM_all, train_percentage=0.80)"
   ]
  },
  {
   "cell_type": "code",
   "execution_count": 3,
   "metadata": {
    "ExecuteTime": {
     "end_time": "2023-11-19T14:33:02.128684Z",
     "start_time": "2023-11-19T14:33:02.109944Z"
    }
   },
   "outputs": [
    {
     "data": {
      "text/plain": "<13025x22348 sparse matrix of type '<class 'numpy.float64'>'\n\twith 382984 stored elements in Compressed Sparse Row format>"
     },
     "execution_count": 3,
     "metadata": {},
     "output_type": "execute_result"
    }
   ],
   "source": [
    "URM_train"
   ]
  },
  {
   "cell_type": "markdown",
   "metadata": {},
   "source": [
    "### What do we need for PureSVD?\n",
    "\n",
    "* A numerical library like sklearn\n",
    "* ... nothing else really\n"
   ]
  },
  {
   "cell_type": "code",
   "execution_count": 4,
   "metadata": {
    "ExecuteTime": {
     "end_time": "2023-11-19T14:33:11.500843Z",
     "start_time": "2023-11-19T14:33:11.471926Z"
    }
   },
   "outputs": [],
   "source": [
    "n_users, n_items = URM_train.shape"
   ]
  },
  {
   "cell_type": "markdown",
   "metadata": {},
   "source": [
    "## Step one and only: Compute the decomposition\n",
    "\n",
    "In this case I use randomized_svd, but other approximate decompositions are also available which may rely on different algorithms to find the result."
   ]
  },
  {
   "cell_type": "code",
   "execution_count": 5,
   "metadata": {
    "ExecuteTime": {
     "end_time": "2023-11-19T14:33:21.364026Z",
     "start_time": "2023-11-19T14:33:18.085633Z"
    }
   },
   "outputs": [],
   "source": [
    "from sklearn.utils.extmath import randomized_svd\n",
    "\n",
    "num_factors = 10\n",
    "\n",
    "U, Sigma, VT = randomized_svd(URM_train,\n",
    "                              n_components=num_factors)"
   ]
  },
  {
   "cell_type": "code",
   "execution_count": 6,
   "metadata": {
    "ExecuteTime": {
     "end_time": "2023-11-19T14:33:22.316487Z",
     "start_time": "2023-11-19T14:33:22.300571Z"
    }
   },
   "outputs": [
    {
     "data": {
      "text/plain": "(13025, 10)"
     },
     "execution_count": 6,
     "metadata": {},
     "output_type": "execute_result"
    }
   ],
   "source": [
    "U.shape"
   ]
  },
  {
   "cell_type": "code",
   "execution_count": 7,
   "metadata": {
    "ExecuteTime": {
     "end_time": "2023-11-19T14:33:24.724522Z",
     "start_time": "2023-11-19T14:33:24.708284Z"
    }
   },
   "outputs": [
    {
     "data": {
      "text/plain": "array([[-2.72106569e-22, -4.18487897e-17,  4.33047705e-17, ...,\n        -2.41135332e-17, -2.37202574e-17, -6.88153980e-17],\n       [ 4.72690591e-03,  1.92523018e-03,  1.04882028e-02, ...,\n        -2.00509468e-03,  1.47185688e-02,  5.17432029e-03],\n       [ 8.63867914e-03, -1.47642260e-03, -4.34668514e-03, ...,\n         2.98645371e-03, -1.64730039e-04,  1.73046738e-02],\n       ...,\n       [ 4.66810686e-04, -1.58179763e-04,  7.03200825e-04, ...,\n         1.25548823e-03,  5.51022239e-04, -4.58113887e-04],\n       [ 3.13774174e-03, -8.97616817e-03,  1.20983074e-03, ...,\n         2.83285195e-04,  4.37172199e-03,  8.08122042e-04],\n       [ 8.27140820e-03, -7.57274630e-03,  1.69962495e-03, ...,\n        -4.39658961e-03,  7.22727818e-03,  2.25175333e-02]])"
     },
     "execution_count": 7,
     "metadata": {},
     "output_type": "execute_result"
    }
   ],
   "source": [
    "U"
   ]
  },
  {
   "cell_type": "code",
   "execution_count": 8,
   "metadata": {
    "ExecuteTime": {
     "end_time": "2023-11-19T14:33:26.396317Z",
     "start_time": "2023-11-19T14:33:26.382768Z"
    }
   },
   "outputs": [
    {
     "data": {
      "text/plain": "(10,)"
     },
     "execution_count": 8,
     "metadata": {},
     "output_type": "execute_result"
    }
   ],
   "source": [
    "Sigma.shape"
   ]
  },
  {
   "cell_type": "code",
   "execution_count": 9,
   "metadata": {
    "ExecuteTime": {
     "end_time": "2023-11-19T14:33:27.536709Z",
     "start_time": "2023-11-19T14:33:27.517419Z"
    }
   },
   "outputs": [
    {
     "data": {
      "text/plain": "array([101.60006644,  47.21173338,  44.66348356,  42.94781498,\n        40.31941692,  37.3720142 ,  36.11159596,  34.43984243,\n        34.07263947,  33.89340424])"
     },
     "execution_count": 9,
     "metadata": {},
     "output_type": "execute_result"
    }
   ],
   "source": [
    "Sigma"
   ]
  },
  {
   "cell_type": "code",
   "execution_count": 10,
   "metadata": {
    "ExecuteTime": {
     "end_time": "2023-11-19T14:33:28.382517Z",
     "start_time": "2023-11-19T14:33:28.370079Z"
    }
   },
   "outputs": [
    {
     "data": {
      "text/plain": "(10, 22348)"
     },
     "execution_count": 10,
     "metadata": {},
     "output_type": "execute_result"
    }
   ],
   "source": [
    "VT.shape"
   ]
  },
  {
   "cell_type": "code",
   "execution_count": 11,
   "metadata": {
    "ExecuteTime": {
     "end_time": "2023-11-19T14:33:28.945809Z",
     "start_time": "2023-11-19T14:33:28.934048Z"
    }
   },
   "outputs": [
    {
     "data": {
      "text/plain": "array([[-1.65635163e-20,  1.61777459e-01,  1.72030577e-01, ...,\n         6.73208221e-04,  6.11715793e-04,  2.23837680e-04],\n       [-7.69604078e-16,  5.29609305e-02, -6.25371398e-02, ...,\n         1.22124071e-03, -4.92033908e-04,  2.34458775e-04],\n       [ 5.25656840e-16, -1.68278339e-01, -1.79118662e-01, ...,\n         1.08070255e-03,  1.62397931e-03,  2.09941353e-04],\n       ...,\n       [ 1.77767016e-16,  2.72219644e-01, -5.79364188e-01, ...,\n        -2.09366006e-05, -2.27946114e-04, -1.41072195e-04],\n       [ 1.91223208e-15, -4.05063213e-02, -1.07312172e-01, ...,\n        -3.56570933e-04,  1.23632994e-03, -3.89602086e-04],\n       [ 5.63826782e-15,  1.90724859e-01, -5.23786898e-01, ...,\n         1.02843488e-03, -9.24358007e-04,  2.73045369e-04]])"
     },
     "execution_count": 11,
     "metadata": {},
     "output_type": "execute_result"
    }
   ],
   "source": [
    "VT"
   ]
  },
  {
   "cell_type": "markdown",
   "metadata": {},
   "source": [
    "### Now we can compute the predictions\n",
    "\n",
    "In order to compute the prediction we simply have to \"reconstruct\" the URM starting from the decomposition we have obtained, hence:\n",
    "\n",
    "$$ \\widehat{URM} = U_{t} \\Sigma_{t} V^T_{t} $$"
   ]
  },
  {
   "cell_type": "code",
   "execution_count": 12,
   "metadata": {
    "ExecuteTime": {
     "end_time": "2023-11-19T14:33:40.576449Z",
     "start_time": "2023-11-19T14:33:40.511759Z"
    }
   },
   "outputs": [
    {
     "data": {
      "text/plain": "0.00020851681385360846"
     },
     "execution_count": 12,
     "metadata": {},
     "output_type": "execute_result"
    }
   ],
   "source": [
    "user_id = 7025\n",
    "item_id = 468\n",
    "\n",
    "user_factors = np.dot(U, np.diag(Sigma))\n",
    "item_factors = VT\n",
    "\n",
    "predicted_rating_mf = np.dot(user_factors[user_id,:], item_factors[:,item_id])\n",
    "predicted_rating_mf"
   ]
  },
  {
   "cell_type": "markdown",
   "metadata": {},
   "source": [
    "## Item-based version of PureSVD\n",
    "\n",
    "It is proven that via folding-in you can construct a matematically equivalent version of PureSVD that is item-based.\n",
    "See for example: Paolo Cremonesi, Yehuda Koren, and Roberto Turrin. 2010. Performance of recommender algorithms on top-n recommendation tasks. https://doi.org/10.1145/1864708.1864721\n",
    "\n",
    "Why would you want to do that?\n",
    "* Allows to compute recommendations for users that did not exist when you trained the model (you still need some interactions in their user profile to be able to compute recommendations)\n",
    "* Allows to create hybrid item-item similarities"
   ]
  },
  {
   "cell_type": "markdown",
   "metadata": {},
   "source": [
    "You can represent the user embeddings as $U_t \\Sigma_t$ and the item embeddings as $V$.\n",
    "\n",
    "The equivalence tells you that you can write $$ R = U_t \\Sigma_t V^T_t = R V V^T $$"
   ]
  },
  {
   "cell_type": "code",
   "execution_count": 13,
   "metadata": {
    "ExecuteTime": {
     "end_time": "2023-11-19T14:33:55.436566Z",
     "start_time": "2023-11-19T14:33:50.554919Z"
    }
   },
   "outputs": [
    {
     "data": {
      "text/plain": "(22348, 22348)"
     },
     "execution_count": 13,
     "metadata": {},
     "output_type": "execute_result"
    }
   ],
   "source": [
    "item_item_similarity = np.dot(VT.T,VT)\n",
    "item_item_similarity.shape"
   ]
  },
  {
   "cell_type": "code",
   "execution_count": 14,
   "metadata": {
    "ExecuteTime": {
     "end_time": "2023-11-19T14:34:21.063207Z",
     "start_time": "2023-11-19T14:34:20.704038Z"
    }
   },
   "outputs": [
    {
     "data": {
      "text/plain": "array([0.00020852])"
     },
     "execution_count": 14,
     "metadata": {},
     "output_type": "execute_result"
    }
   ],
   "source": [
    "predicted_rating_similarity = URM_train[user_id,:].dot(item_item_similarity[:,item_id])\n",
    "predicted_rating_similarity"
   ]
  },
  {
   "cell_type": "markdown",
   "metadata": {},
   "source": [
    "The predictios are almost identical, some small numerical diffrences can occur as the representation is always approximate"
   ]
  },
  {
   "cell_type": "markdown",
   "metadata": {},
   "source": [
    "### Non-Negative MF\n",
    "\n",
    "Another strategy for matrix decomposition that guarantees no latent dimension will be negative"
   ]
  },
  {
   "cell_type": "code",
   "execution_count": 15,
   "metadata": {
    "ExecuteTime": {
     "end_time": "2023-11-19T14:34:42.796156Z",
     "start_time": "2023-11-19T14:34:41.333768Z"
    }
   },
   "outputs": [],
   "source": [
    "from sklearn.decomposition import NMF\n",
    "\n",
    "nmf_solver = NMF(n_components  = num_factors,\n",
    "                 init = \"random\",\n",
    "                 solver = \"mu\", #\"multiplicative_update\",\n",
    "                 beta_loss = \"frobenius\",\n",
    "                 l1_ratio = 0.01,\n",
    "                 shuffle = True,\n",
    "                 verbose = True,\n",
    "                 max_iter = 500)"
   ]
  },
  {
   "cell_type": "code",
   "execution_count": 16,
   "metadata": {
    "ExecuteTime": {
     "end_time": "2023-11-19T14:34:44.878009Z",
     "start_time": "2023-11-19T14:34:43.876474Z"
    }
   },
   "outputs": [
    {
     "name": "stdout",
     "output_type": "stream",
     "text": [
      "Epoch 10 reached after 0.147 seconds, error: 604.735427\n",
      "Epoch 20 reached after 0.254 seconds, error: 601.350458\n",
      "Epoch 30 reached after 0.477 seconds, error: 600.794741\n",
      "Epoch 40 reached after 0.599 seconds, error: 600.586821\n",
      "Epoch 50 reached after 0.707 seconds, error: 600.405068\n",
      "Epoch 60 reached after 0.809 seconds, error: 600.304905\n",
      "Epoch 70 reached after 0.916 seconds, error: 600.249983\n",
      "Epoch 10 reached after 0.023 seconds, error: 600.235101\n",
      "Epoch 20 reached after 0.037 seconds, error: 600.226007\n"
     ]
    }
   ],
   "source": [
    "nmf_solver.fit(URM_train)\n",
    "\n",
    "ITEM_factors = nmf_solver.components_.copy().T\n",
    "USER_factors = nmf_solver.transform(URM_train)"
   ]
  },
  {
   "cell_type": "code",
   "execution_count": 17,
   "metadata": {
    "ExecuteTime": {
     "end_time": "2023-11-19T14:34:51.421652Z",
     "start_time": "2023-11-19T14:34:51.405863Z"
    }
   },
   "outputs": [
    {
     "data": {
      "text/plain": "array([[0.00000000e+000, 0.00000000e+000, 0.00000000e+000, ...,\n        0.00000000e+000, 0.00000000e+000, 0.00000000e+000],\n       [7.19912642e+000, 4.30240554e-002, 2.69232526e-006, ...,\n        6.49353288e-008, 4.24488458e-007, 2.05075625e-006],\n       [6.21699396e-006, 5.72464478e-008, 5.47480240e-011, ...,\n        3.06196903e-007, 1.60249340e-005, 7.51788887e+000],\n       ...,\n       [5.19952877e-031, 1.13725364e-002, 4.64658782e-050, ...,\n        3.78744000e-003, 2.49029316e-058, 1.07392635e-256],\n       [1.02165337e-194, 8.75857841e-003, 1.79533244e-066, ...,\n        3.56268415e-024, 2.69698846e-002, 5.38118948e-071],\n       [3.07422951e-060, 1.13600711e-011, 3.43841284e-003, ...,\n        7.67372451e-013, 1.84436770e-003, 1.94073731e-041]])"
     },
     "execution_count": 17,
     "metadata": {},
     "output_type": "execute_result"
    }
   ],
   "source": [
    "ITEM_factors"
   ]
  },
  {
   "cell_type": "code",
   "execution_count": 18,
   "metadata": {
    "ExecuteTime": {
     "end_time": "2023-11-19T14:34:52.570323Z",
     "start_time": "2023-11-19T14:34:52.543535Z"
    }
   },
   "outputs": [
    {
     "data": {
      "text/plain": "array([[0.00000000e+00, 0.00000000e+00, 0.00000000e+00, ...,\n        0.00000000e+00, 0.00000000e+00, 0.00000000e+00],\n       [2.42688093e-03, 2.89559573e-03, 6.02239920e-05, ...,\n        8.22544805e-02, 1.65710033e-02, 8.50579630e-08],\n       [1.17744433e-01, 4.71639825e-06, 1.53048314e-07, ...,\n        1.50077577e-01, 1.67079135e-10, 1.67842970e-05],\n       ...,\n       [1.82770220e-04, 7.87588237e-22, 6.23362844e-03, ...,\n        2.26645260e-19, 6.16167550e-04, 9.31241848e-24],\n       [4.61724209e-03, 4.13542298e-16, 7.62467511e-04, ...,\n        7.46440104e-03, 4.40928671e-02, 3.24309059e-03],\n       [1.10601794e-01, 1.31657839e-02, 1.61557761e-06, ...,\n        7.62565022e-02, 1.56916615e-01, 2.97565212e-08]])"
     },
     "execution_count": 18,
     "metadata": {},
     "output_type": "execute_result"
    }
   ],
   "source": [
    "USER_factors"
   ]
  },
  {
   "cell_type": "code",
   "execution_count": null,
   "metadata": {},
   "outputs": [],
   "source": []
  }
 ],
 "metadata": {
  "kernelspec": {
   "display_name": "Python 3",
   "language": "python",
   "name": "python3"
  },
  "language_info": {
   "codemirror_mode": {
    "name": "ipython",
    "version": 3
   },
   "file_extension": ".py",
   "mimetype": "text/x-python",
   "name": "python",
   "nbconvert_exporter": "python",
   "pygments_lexer": "ipython3",
   "version": "3.8.8"
  }
 },
 "nbformat": 4,
 "nbformat_minor": 2
}
