{
 "cells": [
  {
   "cell_type": "markdown",
   "metadata": {},
   "source": [
    "## Simple XGBoost tutorial\n"
   ]
  },
  {
   "cell_type": "markdown",
   "metadata": {},
   "source": [
    "We will use the trivial **Iris Dataset** which you can get from directly from sklearn or from the UCI repository.\n",
    "\n",
    "First of all, let's import what is needed:"
   ]
  },
  {
   "cell_type": "code",
   "execution_count": 1,
   "metadata": {
    "ExecuteTime": {
     "end_time": "2023-12-01T15:02:51.780784Z",
     "start_time": "2023-12-01T15:02:49.573465Z"
    }
   },
   "outputs": [],
   "source": [
    "import numpy as np\n",
    "import xgboost as xgb\n",
    "from sklearn import datasets\n",
    "from sklearn.model_selection import train_test_split"
   ]
  },
  {
   "cell_type": "markdown",
   "metadata": {},
   "source": [
    "Load the Iris dataset and split in train and test following the thumb rule of 80/20:"
   ]
  },
  {
   "cell_type": "code",
   "execution_count": 2,
   "metadata": {
    "ExecuteTime": {
     "end_time": "2023-12-01T15:02:54.397365Z",
     "start_time": "2023-12-01T15:02:54.340002Z"
    }
   },
   "outputs": [
    {
     "data": {
      "text/plain": "{'data': array([[5.1, 3.5, 1.4, 0.2],\n        [4.9, 3. , 1.4, 0.2],\n        [4.7, 3.2, 1.3, 0.2],\n        [4.6, 3.1, 1.5, 0.2],\n        [5. , 3.6, 1.4, 0.2],\n        [5.4, 3.9, 1.7, 0.4],\n        [4.6, 3.4, 1.4, 0.3],\n        [5. , 3.4, 1.5, 0.2],\n        [4.4, 2.9, 1.4, 0.2],\n        [4.9, 3.1, 1.5, 0.1],\n        [5.4, 3.7, 1.5, 0.2],\n        [4.8, 3.4, 1.6, 0.2],\n        [4.8, 3. , 1.4, 0.1],\n        [4.3, 3. , 1.1, 0.1],\n        [5.8, 4. , 1.2, 0.2],\n        [5.7, 4.4, 1.5, 0.4],\n        [5.4, 3.9, 1.3, 0.4],\n        [5.1, 3.5, 1.4, 0.3],\n        [5.7, 3.8, 1.7, 0.3],\n        [5.1, 3.8, 1.5, 0.3],\n        [5.4, 3.4, 1.7, 0.2],\n        [5.1, 3.7, 1.5, 0.4],\n        [4.6, 3.6, 1. , 0.2],\n        [5.1, 3.3, 1.7, 0.5],\n        [4.8, 3.4, 1.9, 0.2],\n        [5. , 3. , 1.6, 0.2],\n        [5. , 3.4, 1.6, 0.4],\n        [5.2, 3.5, 1.5, 0.2],\n        [5.2, 3.4, 1.4, 0.2],\n        [4.7, 3.2, 1.6, 0.2],\n        [4.8, 3.1, 1.6, 0.2],\n        [5.4, 3.4, 1.5, 0.4],\n        [5.2, 4.1, 1.5, 0.1],\n        [5.5, 4.2, 1.4, 0.2],\n        [4.9, 3.1, 1.5, 0.2],\n        [5. , 3.2, 1.2, 0.2],\n        [5.5, 3.5, 1.3, 0.2],\n        [4.9, 3.6, 1.4, 0.1],\n        [4.4, 3. , 1.3, 0.2],\n        [5.1, 3.4, 1.5, 0.2],\n        [5. , 3.5, 1.3, 0.3],\n        [4.5, 2.3, 1.3, 0.3],\n        [4.4, 3.2, 1.3, 0.2],\n        [5. , 3.5, 1.6, 0.6],\n        [5.1, 3.8, 1.9, 0.4],\n        [4.8, 3. , 1.4, 0.3],\n        [5.1, 3.8, 1.6, 0.2],\n        [4.6, 3.2, 1.4, 0.2],\n        [5.3, 3.7, 1.5, 0.2],\n        [5. , 3.3, 1.4, 0.2],\n        [7. , 3.2, 4.7, 1.4],\n        [6.4, 3.2, 4.5, 1.5],\n        [6.9, 3.1, 4.9, 1.5],\n        [5.5, 2.3, 4. , 1.3],\n        [6.5, 2.8, 4.6, 1.5],\n        [5.7, 2.8, 4.5, 1.3],\n        [6.3, 3.3, 4.7, 1.6],\n        [4.9, 2.4, 3.3, 1. ],\n        [6.6, 2.9, 4.6, 1.3],\n        [5.2, 2.7, 3.9, 1.4],\n        [5. , 2. , 3.5, 1. ],\n        [5.9, 3. , 4.2, 1.5],\n        [6. , 2.2, 4. , 1. ],\n        [6.1, 2.9, 4.7, 1.4],\n        [5.6, 2.9, 3.6, 1.3],\n        [6.7, 3.1, 4.4, 1.4],\n        [5.6, 3. , 4.5, 1.5],\n        [5.8, 2.7, 4.1, 1. ],\n        [6.2, 2.2, 4.5, 1.5],\n        [5.6, 2.5, 3.9, 1.1],\n        [5.9, 3.2, 4.8, 1.8],\n        [6.1, 2.8, 4. , 1.3],\n        [6.3, 2.5, 4.9, 1.5],\n        [6.1, 2.8, 4.7, 1.2],\n        [6.4, 2.9, 4.3, 1.3],\n        [6.6, 3. , 4.4, 1.4],\n        [6.8, 2.8, 4.8, 1.4],\n        [6.7, 3. , 5. , 1.7],\n        [6. , 2.9, 4.5, 1.5],\n        [5.7, 2.6, 3.5, 1. ],\n        [5.5, 2.4, 3.8, 1.1],\n        [5.5, 2.4, 3.7, 1. ],\n        [5.8, 2.7, 3.9, 1.2],\n        [6. , 2.7, 5.1, 1.6],\n        [5.4, 3. , 4.5, 1.5],\n        [6. , 3.4, 4.5, 1.6],\n        [6.7, 3.1, 4.7, 1.5],\n        [6.3, 2.3, 4.4, 1.3],\n        [5.6, 3. , 4.1, 1.3],\n        [5.5, 2.5, 4. , 1.3],\n        [5.5, 2.6, 4.4, 1.2],\n        [6.1, 3. , 4.6, 1.4],\n        [5.8, 2.6, 4. , 1.2],\n        [5. , 2.3, 3.3, 1. ],\n        [5.6, 2.7, 4.2, 1.3],\n        [5.7, 3. , 4.2, 1.2],\n        [5.7, 2.9, 4.2, 1.3],\n        [6.2, 2.9, 4.3, 1.3],\n        [5.1, 2.5, 3. , 1.1],\n        [5.7, 2.8, 4.1, 1.3],\n        [6.3, 3.3, 6. , 2.5],\n        [5.8, 2.7, 5.1, 1.9],\n        [7.1, 3. , 5.9, 2.1],\n        [6.3, 2.9, 5.6, 1.8],\n        [6.5, 3. , 5.8, 2.2],\n        [7.6, 3. , 6.6, 2.1],\n        [4.9, 2.5, 4.5, 1.7],\n        [7.3, 2.9, 6.3, 1.8],\n        [6.7, 2.5, 5.8, 1.8],\n        [7.2, 3.6, 6.1, 2.5],\n        [6.5, 3.2, 5.1, 2. ],\n        [6.4, 2.7, 5.3, 1.9],\n        [6.8, 3. , 5.5, 2.1],\n        [5.7, 2.5, 5. , 2. ],\n        [5.8, 2.8, 5.1, 2.4],\n        [6.4, 3.2, 5.3, 2.3],\n        [6.5, 3. , 5.5, 1.8],\n        [7.7, 3.8, 6.7, 2.2],\n        [7.7, 2.6, 6.9, 2.3],\n        [6. , 2.2, 5. , 1.5],\n        [6.9, 3.2, 5.7, 2.3],\n        [5.6, 2.8, 4.9, 2. ],\n        [7.7, 2.8, 6.7, 2. ],\n        [6.3, 2.7, 4.9, 1.8],\n        [6.7, 3.3, 5.7, 2.1],\n        [7.2, 3.2, 6. , 1.8],\n        [6.2, 2.8, 4.8, 1.8],\n        [6.1, 3. , 4.9, 1.8],\n        [6.4, 2.8, 5.6, 2.1],\n        [7.2, 3. , 5.8, 1.6],\n        [7.4, 2.8, 6.1, 1.9],\n        [7.9, 3.8, 6.4, 2. ],\n        [6.4, 2.8, 5.6, 2.2],\n        [6.3, 2.8, 5.1, 1.5],\n        [6.1, 2.6, 5.6, 1.4],\n        [7.7, 3. , 6.1, 2.3],\n        [6.3, 3.4, 5.6, 2.4],\n        [6.4, 3.1, 5.5, 1.8],\n        [6. , 3. , 4.8, 1.8],\n        [6.9, 3.1, 5.4, 2.1],\n        [6.7, 3.1, 5.6, 2.4],\n        [6.9, 3.1, 5.1, 2.3],\n        [5.8, 2.7, 5.1, 1.9],\n        [6.8, 3.2, 5.9, 2.3],\n        [6.7, 3.3, 5.7, 2.5],\n        [6.7, 3. , 5.2, 2.3],\n        [6.3, 2.5, 5. , 1.9],\n        [6.5, 3. , 5.2, 2. ],\n        [6.2, 3.4, 5.4, 2.3],\n        [5.9, 3. , 5.1, 1.8]]),\n 'target': array([0, 0, 0, 0, 0, 0, 0, 0, 0, 0, 0, 0, 0, 0, 0, 0, 0, 0, 0, 0, 0, 0,\n        0, 0, 0, 0, 0, 0, 0, 0, 0, 0, 0, 0, 0, 0, 0, 0, 0, 0, 0, 0, 0, 0,\n        0, 0, 0, 0, 0, 0, 1, 1, 1, 1, 1, 1, 1, 1, 1, 1, 1, 1, 1, 1, 1, 1,\n        1, 1, 1, 1, 1, 1, 1, 1, 1, 1, 1, 1, 1, 1, 1, 1, 1, 1, 1, 1, 1, 1,\n        1, 1, 1, 1, 1, 1, 1, 1, 1, 1, 1, 1, 2, 2, 2, 2, 2, 2, 2, 2, 2, 2,\n        2, 2, 2, 2, 2, 2, 2, 2, 2, 2, 2, 2, 2, 2, 2, 2, 2, 2, 2, 2, 2, 2,\n        2, 2, 2, 2, 2, 2, 2, 2, 2, 2, 2, 2, 2, 2, 2, 2, 2, 2]),\n 'frame': None,\n 'target_names': array(['setosa', 'versicolor', 'virginica'], dtype='<U10'),\n 'DESCR': '.. _iris_dataset:\\n\\nIris plants dataset\\n--------------------\\n\\n**Data Set Characteristics:**\\n\\n    :Number of Instances: 150 (50 in each of three classes)\\n    :Number of Attributes: 4 numeric, predictive attributes and the class\\n    :Attribute Information:\\n        - sepal length in cm\\n        - sepal width in cm\\n        - petal length in cm\\n        - petal width in cm\\n        - class:\\n                - Iris-Setosa\\n                - Iris-Versicolour\\n                - Iris-Virginica\\n                \\n    :Summary Statistics:\\n\\n    ============== ==== ==== ======= ===== ====================\\n                    Min  Max   Mean    SD   Class Correlation\\n    ============== ==== ==== ======= ===== ====================\\n    sepal length:   4.3  7.9   5.84   0.83    0.7826\\n    sepal width:    2.0  4.4   3.05   0.43   -0.4194\\n    petal length:   1.0  6.9   3.76   1.76    0.9490  (high!)\\n    petal width:    0.1  2.5   1.20   0.76    0.9565  (high!)\\n    ============== ==== ==== ======= ===== ====================\\n\\n    :Missing Attribute Values: None\\n    :Class Distribution: 33.3% for each of 3 classes.\\n    :Creator: R.A. Fisher\\n    :Donor: Michael Marshall (MARSHALL%PLU@io.arc.nasa.gov)\\n    :Date: July, 1988\\n\\nThe famous Iris database, first used by Sir R.A. Fisher. The dataset is taken\\nfrom Fisher\\'s paper. Note that it\\'s the same as in R, but not as in the UCI\\nMachine Learning Repository, which has two wrong data points.\\n\\nThis is perhaps the best known database to be found in the\\npattern recognition literature.  Fisher\\'s paper is a classic in the field and\\nis referenced frequently to this day.  (See Duda & Hart, for example.)  The\\ndata set contains 3 classes of 50 instances each, where each class refers to a\\ntype of iris plant.  One class is linearly separable from the other 2; the\\nlatter are NOT linearly separable from each other.\\n\\n|details-start|\\n**References**\\n|details-split|\\n\\n- Fisher, R.A. \"The use of multiple measurements in taxonomic problems\"\\n  Annual Eugenics, 7, Part II, 179-188 (1936); also in \"Contributions to\\n  Mathematical Statistics\" (John Wiley, NY, 1950).\\n- Duda, R.O., & Hart, P.E. (1973) Pattern Classification and Scene Analysis.\\n  (Q327.D83) John Wiley & Sons.  ISBN 0-471-22361-1.  See page 218.\\n- Dasarathy, B.V. (1980) \"Nosing Around the Neighborhood: A New System\\n  Structure and Classification Rule for Recognition in Partially Exposed\\n  Environments\".  IEEE Transactions on Pattern Analysis and Machine\\n  Intelligence, Vol. PAMI-2, No. 1, 67-71.\\n- Gates, G.W. (1972) \"The Reduced Nearest Neighbor Rule\".  IEEE Transactions\\n  on Information Theory, May 1972, 431-433.\\n- See also: 1988 MLC Proceedings, 54-64.  Cheeseman et al\"s AUTOCLASS II\\n  conceptual clustering system finds 3 classes in the data.\\n- Many, many more ...\\n\\n|details-end|',\n 'feature_names': ['sepal length (cm)',\n  'sepal width (cm)',\n  'petal length (cm)',\n  'petal width (cm)'],\n 'filename': 'iris.csv',\n 'data_module': 'sklearn.datasets.data'}"
     },
     "execution_count": 2,
     "metadata": {},
     "output_type": "execute_result"
    }
   ],
   "source": [
    "iris = datasets.load_iris()\n",
    "iris"
   ]
  },
  {
   "cell_type": "code",
   "execution_count": 3,
   "metadata": {
    "ExecuteTime": {
     "end_time": "2023-12-01T15:03:02.673942Z",
     "start_time": "2023-12-01T15:03:02.646028Z"
    }
   },
   "outputs": [],
   "source": [
    "X = iris.data\n",
    "y = iris.target\n",
    "\n",
    "X_train, X_test, y_train, y_test = train_test_split(X, y, test_size=0.2, random_state=1)"
   ]
  },
  {
   "cell_type": "markdown",
   "metadata": {},
   "source": [
    "Use **DMatrix** as data structures for both train and test. \n",
    "\n",
    "DMatrix is a internal data structure that used by XGBoost which is optimized for both memory efficiency and training speed.\n",
    "You can construct DMatrix from numpy.arrays:"
   ]
  },
  {
   "cell_type": "code",
   "execution_count": 4,
   "metadata": {
    "ExecuteTime": {
     "end_time": "2023-12-01T15:07:48.294487Z",
     "start_time": "2023-12-01T15:07:48.232204Z"
    }
   },
   "outputs": [],
   "source": [
    "dtrain = xgb.DMatrix(X_train, label=y_train)\n",
    "dtest = xgb.DMatrix(X_test, label=y_test)"
   ]
  },
  {
   "cell_type": "markdown",
   "metadata": {},
   "source": [
    "Set XGBoost parameters:\n",
    "\n",
    "merror: Multiclass classification error rate. It is calculated as #(wrong cases)/#(all cases)."
   ]
  },
  {
   "cell_type": "code",
   "execution_count": 5,
   "metadata": {
    "ExecuteTime": {
     "end_time": "2023-12-01T15:08:14.675627Z",
     "start_time": "2023-12-01T15:08:14.632485Z"
    }
   },
   "outputs": [],
   "source": [
    "params = {\n",
    "    'max_depth': 3,  # the maximum depth of each tree\n",
    "    'eta': 0.3,  # step for each iteration\n",
    "    'silent': 1, # keep it quiet\n",
    "    'objective': 'multi:softprob',  # error evaluation for multiclass training\n",
    "    'num_class': 3, # the number of classes \n",
    "    'eval_metric': 'merror'} # evaluation metric \n",
    "\n",
    "num_round = 20  # the number of training iterations (number of trees)"
   ]
  },
  {
   "cell_type": "markdown",
   "metadata": {},
   "source": [
    "Create a model and fit it with params:\n",
    "\n",
    "(We could have used also XGBClassifier, which is a scikit-learn compatible class. It is basically just a wrapper over the xgb.train function)."
   ]
  },
  {
   "cell_type": "code",
   "execution_count": 6,
   "metadata": {
    "ExecuteTime": {
     "end_time": "2023-12-01T15:08:24.298977Z",
     "start_time": "2023-12-01T15:08:23.957578Z"
    }
   },
   "outputs": [
    {
     "name": "stdout",
     "output_type": "stream",
     "text": [
      "[0]\ttrain-merror:0.01667\n",
      "[2]\ttrain-merror:0.01667\n",
      "[4]\ttrain-merror:0.01667\n",
      "[6]\ttrain-merror:0.01667\n"
     ]
    },
    {
     "name": "stderr",
     "output_type": "stream",
     "text": [
      "/Library/Frameworks/Python.framework/Versions/3.11/lib/python3.11/site-packages/xgboost/core.py:160: UserWarning: [16:08:23] WARNING: /Users/runner/work/xgboost/xgboost/src/learner.cc:742: \n",
      "Parameters: { \"silent\" } are not used.\n",
      "\n",
      "  warnings.warn(smsg, UserWarning)\n"
     ]
    },
    {
     "name": "stdout",
     "output_type": "stream",
     "text": [
      "[8]\ttrain-merror:0.01667\n",
      "[10]\ttrain-merror:0.01667\n",
      "[12]\ttrain-merror:0.01667\n",
      "[14]\ttrain-merror:0.01667\n",
      "[16]\ttrain-merror:0.01667\n",
      "[18]\ttrain-merror:0.00833\n",
      "[19]\ttrain-merror:0.00833\n"
     ]
    }
   ],
   "source": [
    "model = xgb.train(params,\n",
    "                  dtrain,\n",
    "                  num_round,\n",
    "                  verbose_eval=2,\n",
    "                  evals=[(dtrain, 'train')])"
   ]
  },
  {
   "cell_type": "code",
   "execution_count": 7,
   "metadata": {
    "ExecuteTime": {
     "end_time": "2023-12-01T15:08:37.134729Z",
     "start_time": "2023-12-01T15:08:37.094141Z"
    }
   },
   "outputs": [
    {
     "name": "stdout",
     "output_type": "stream",
     "text": [
      "Precision: 0.92 %\n"
     ]
    }
   ],
   "source": [
    "from sklearn.metrics import precision_score\n",
    "\n",
    "preds = model.predict(dtest)\n",
    "best_preds = np.asarray([np.argmax(line) for line in preds])\n",
    "print(\"Precision: {:.2f} %\".format(precision_score(y_test, best_preds, average='macro')))"
   ]
  },
  {
   "cell_type": "markdown",
   "metadata": {},
   "source": [
    "It is possible to show with an histogram the importance of each feature:"
   ]
  },
  {
   "cell_type": "code",
   "execution_count": 8,
   "metadata": {
    "ExecuteTime": {
     "end_time": "2023-12-01T15:08:47.722169Z",
     "start_time": "2023-12-01T15:08:47.000225Z"
    }
   },
   "outputs": [],
   "source": [
    "%matplotlib inline\n",
    "from xgboost import plot_importance"
   ]
  },
  {
   "cell_type": "markdown",
   "metadata": {},
   "source": [
    "**Gain:** it implies the relative contribution of the corresponding feature to the model calculated by taking each feature's contribution for each tree in the model. A higher value of this metric when compared to another feature implies it is more important for generating a prediction."
   ]
  },
  {
   "cell_type": "code",
   "execution_count": 9,
   "metadata": {
    "ExecuteTime": {
     "end_time": "2023-12-01T15:09:03.929756Z",
     "start_time": "2023-12-01T15:09:03.745364Z"
    }
   },
   "outputs": [
    {
     "data": {
      "text/plain": "<Axes: title={'center': 'Gain'}, xlabel='F score', ylabel='Features'>"
     },
     "execution_count": 9,
     "metadata": {},
     "output_type": "execute_result"
    },
    {
     "data": {
      "text/plain": "<Figure size 640x480 with 1 Axes>",
      "image/png": "[encoded data removed]"
     },
     "metadata": {},
     "output_type": "display_data"
    }
   ],
   "source": [
    "plot_importance(model, importance_type='gain', title='Gain')"
   ]
  },
  {
   "cell_type": "markdown",
   "metadata": {},
   "source": [
    "**Cover:** The Cover metric means the relative number of observations related to this feature. Therefore is the number of observations for which the leaf node is determined by the feature. This number will be calculated for all the features in the dataset and the cover will be expressed as a percentage over all features' cover metrics."
   ]
  },
  {
   "cell_type": "code",
   "execution_count": 10,
   "metadata": {
    "ExecuteTime": {
     "end_time": "2023-12-01T15:09:59.297261Z",
     "start_time": "2023-12-01T15:09:59.143112Z"
    }
   },
   "outputs": [
    {
     "data": {
      "text/plain": "<Axes: title={'center': 'Cover'}, xlabel='F score', ylabel='Features'>"
     },
     "execution_count": 10,
     "metadata": {},
     "output_type": "execute_result"
    },
    {
     "data": {
      "text/plain": "<Figure size 640x480 with 1 Axes>",
      "image/png": "[encoded data removed]"
     },
     "metadata": {},
     "output_type": "display_data"
    }
   ],
   "source": [
    "plot_importance(model, importance_type='cover', title='Cover')"
   ]
  },
  {
   "cell_type": "markdown",
   "metadata": {},
   "source": [
    "**Weight (Frequence):** is the percentage representing the relative number of times a particular feature occurs in the trees of the model. Is the number of splits in which the particular feature occurred."
   ]
  },
  {
   "cell_type": "code",
   "execution_count": 11,
   "metadata": {
    "ExecuteTime": {
     "end_time": "2023-12-01T15:10:12.814291Z",
     "start_time": "2023-12-01T15:10:12.639352Z"
    }
   },
   "outputs": [
    {
     "data": {
      "text/plain": "<Axes: title={'center': 'Weight (Frequence)'}, xlabel='F score', ylabel='Features'>"
     },
     "execution_count": 11,
     "metadata": {},
     "output_type": "execute_result"
    },
    {
     "data": {
      "text/plain": "<Figure size 640x480 with 1 Axes>",
      "image/png": "[encoded data removed]"
     },
     "metadata": {},
     "output_type": "display_data"
    }
   ],
   "source": [
    "plot_importance(model, importance_type='weight', title='Weight (Frequence)')"
   ]
  },
  {
   "cell_type": "markdown",
   "metadata": {},
   "source": [
    "In order to avoid overfitting, we can use the early stopping technique looking at the error on our local validation set. Let's try it:"
   ]
  },
  {
   "cell_type": "code",
   "execution_count": 12,
   "metadata": {
    "ExecuteTime": {
     "end_time": "2023-12-01T15:10:26.864442Z",
     "start_time": "2023-12-01T15:10:26.842757Z"
    }
   },
   "outputs": [],
   "source": [
    "X_train, X_val, y_train, y_val = train_test_split(X_train, y_train, test_size=0.2, random_state=3)\n",
    "\n",
    "dtrain = xgb.DMatrix(X_train, label=y_train)\n",
    "dval = xgb.DMatrix(X_val, label=y_val)"
   ]
  },
  {
   "cell_type": "code",
   "execution_count": 13,
   "metadata": {
    "ExecuteTime": {
     "end_time": "2023-12-01T15:10:27.678847Z",
     "start_time": "2023-12-01T15:10:27.550354Z"
    }
   },
   "outputs": [
    {
     "name": "stdout",
     "output_type": "stream",
     "text": [
      "[0]\ttrain-merror:0.02083\tvalidation-merror:0.00000\n",
      "[2]\ttrain-merror:0.02083\tvalidation-merror:0.00000\n",
      "[4]\ttrain-merror:0.02083\tvalidation-merror:0.00000\n",
      "[6]\ttrain-merror:0.01042\tvalidation-merror:0.04167\n",
      "[8]\ttrain-merror:0.01042\tvalidation-merror:0.04167\n",
      "[10]\ttrain-merror:0.00000\tvalidation-merror:0.08333\n",
      "[12]\ttrain-merror:0.00000\tvalidation-merror:0.04167\n",
      "[14]\ttrain-merror:0.00000\tvalidation-merror:0.08333\n",
      "[16]\ttrain-merror:0.00000\tvalidation-merror:0.08333\n",
      "[18]\ttrain-merror:0.00000\tvalidation-merror:0.08333\n",
      "[19]\ttrain-merror:0.00000\tvalidation-merror:0.08333\n"
     ]
    },
    {
     "name": "stderr",
     "output_type": "stream",
     "text": [
      "/Library/Frameworks/Python.framework/Versions/3.11/lib/python3.11/site-packages/xgboost/core.py:160: UserWarning: [16:10:27] WARNING: /Users/runner/work/xgboost/xgboost/src/learner.cc:742: \n",
      "Parameters: { \"silent\" } are not used.\n",
      "\n",
      "  warnings.warn(smsg, UserWarning)\n"
     ]
    }
   ],
   "source": [
    "model = xgb.train(params,\n",
    "                  dtrain,\n",
    "                  num_round,\n",
    "                  verbose_eval=2,\n",
    "                  evals=[(dtrain, 'train'), (dval, 'validation')],\n",
    "                  early_stopping_rounds=20)"
   ]
  },
  {
   "cell_type": "markdown",
   "metadata": {},
   "source": [
    "### If we plot the precision and feature weight we may see changes in the values"
   ]
  },
  {
   "cell_type": "code",
   "execution_count": 15,
   "outputs": [
    {
     "data": {
      "text/plain": "array([[5. , 3.3, 1.4, 0.2],\n       [4.8, 3.4, 1.9, 0.2],\n       [4.7, 3.2, 1.3, 0.2],\n       [4.8, 3.1, 1.6, 0.2],\n       [5.4, 3.4, 1.7, 0.2],\n       [6.9, 3.1, 5.4, 2.1],\n       [7.7, 2.6, 6.9, 2.3],\n       [5.5, 2.4, 3.8, 1.1],\n       [6.7, 2.5, 5.8, 1.8],\n       [4.9, 3. , 1.4, 0.2],\n       [6.5, 3. , 5.2, 2. ],\n       [5.8, 2.7, 3.9, 1.2],\n       [7.2, 3.6, 6.1, 2.5],\n       [5.7, 2.8, 4.5, 1.3],\n       [4.3, 3. , 1.1, 0.1],\n       [4.9, 2.4, 3.3, 1. ],\n       [5.2, 3.5, 1.5, 0.2],\n       [6.8, 2.8, 4.8, 1.4],\n       [4.4, 2.9, 1.4, 0.2],\n       [6.7, 3. , 5.2, 2.3],\n       [4.8, 3.4, 1.6, 0.2],\n       [6.2, 3.4, 5.4, 2.3],\n       [6.3, 2.9, 5.6, 1.8],\n       [5.7, 2.5, 5. , 2. ],\n       [5.8, 2.7, 5.1, 1.9],\n       [5.1, 3.5, 1.4, 0.3],\n       [6.3, 2.8, 5.1, 1.5],\n       [5.4, 3.7, 1.5, 0.2],\n       [5. , 3.4, 1.6, 0.4],\n       [6.3, 2.7, 4.9, 1.8],\n       [4.9, 3.1, 1.5, 0.1],\n       [5.7, 3.8, 1.7, 0.3],\n       [6. , 3.4, 4.5, 1.6],\n       [6.5, 3. , 5.8, 2.2],\n       [4.6, 3.4, 1.4, 0.3],\n       [5.9, 3.2, 4.8, 1.8],\n       [5.8, 2.7, 5.1, 1.9],\n       [6. , 2.7, 5.1, 1.6],\n       [6.7, 3.3, 5.7, 2.1],\n       [5. , 3.5, 1.6, 0.6],\n       [6.4, 3.2, 5.3, 2.3],\n       [5.1, 3.7, 1.5, 0.4],\n       [6.5, 3. , 5.5, 1.8],\n       [5.7, 4.4, 1.5, 0.4],\n       [4.9, 2.5, 4.5, 1.7],\n       [6.4, 3.1, 5.5, 1.8],\n       [5.6, 2.8, 4.9, 2. ],\n       [6.1, 2.9, 4.7, 1.4],\n       [4.8, 3. , 1.4, 0.3],\n       [7.6, 3. , 6.6, 2.1],\n       [5.7, 2.6, 3.5, 1. ],\n       [4.4, 3. , 1.3, 0.2],\n       [7.7, 2.8, 6.7, 2. ],\n       [5. , 3. , 1.6, 0.2],\n       [5.5, 2.5, 4. , 1.3],\n       [6.7, 3.1, 4.7, 1.5],\n       [6.1, 3. , 4.9, 1.8],\n       [6.3, 3.3, 6. , 2.5],\n       [6.3, 3.4, 5.6, 2.4],\n       [4.8, 3. , 1.4, 0.1],\n       [5.1, 3.8, 1.6, 0.2],\n       [5.2, 3.4, 1.4, 0.2],\n       [7.4, 2.8, 6.1, 1.9],\n       [6.7, 3.1, 5.6, 2.4],\n       [5.7, 3. , 4.2, 1.2],\n       [5.6, 2.9, 3.6, 1.3],\n       [4.9, 3.1, 1.5, 0.2],\n       [7.7, 3. , 6.1, 2.3],\n       [5.8, 2.7, 4.1, 1. ],\n       [6.2, 2.9, 4.3, 1.3],\n       [5.6, 2.5, 3.9, 1.1],\n       [6.3, 2.3, 4.4, 1.3],\n       [7.7, 3.8, 6.7, 2.2],\n       [4.6, 3.2, 1.4, 0.2],\n       [6.8, 3.2, 5.9, 2.3],\n       [6.2, 2.8, 4.8, 1.8],\n       [6.6, 2.9, 4.6, 1.3],\n       [6.7, 3.1, 4.4, 1.4],\n       [5.6, 3. , 4.1, 1.3],\n       [6. , 2.2, 4. , 1. ],\n       [5.1, 3.4, 1.5, 0.2],\n       [5. , 2. , 3.5, 1. ],\n       [6.5, 3.2, 5.1, 2. ],\n       [7.2, 3. , 5.8, 1.6],\n       [6.8, 3. , 5.5, 2.1],\n       [6.7, 3.3, 5.7, 2.5],\n       [7. , 3.2, 4.7, 1.4],\n       [6.9, 3.1, 4.9, 1.5],\n       [5.2, 2.7, 3.9, 1.4],\n       [5.5, 3.5, 1.3, 0.2],\n       [6.1, 3. , 4.6, 1.4],\n       [4.5, 2.3, 1.3, 0.3],\n       [6.4, 2.7, 5.3, 1.9],\n       [6.4, 2.8, 5.6, 2.1],\n       [7.3, 2.9, 6.3, 1.8],\n       [6.2, 2.2, 4.5, 1.5]])"
     },
     "execution_count": 15,
     "metadata": {},
     "output_type": "execute_result"
    }
   ],
   "source": [
    "X_train"
   ],
   "metadata": {
    "collapsed": false,
    "ExecuteTime": {
     "end_time": "2023-12-01T15:11:33.790857Z",
     "start_time": "2023-12-01T15:11:33.767363Z"
    }
   }
  },
  {
   "cell_type": "code",
   "execution_count": 16,
   "metadata": {
    "ExecuteTime": {
     "end_time": "2023-12-01T15:11:45.286935Z",
     "start_time": "2023-12-01T15:11:45.263205Z"
    }
   },
   "outputs": [
    {
     "name": "stdout",
     "output_type": "stream",
     "text": [
      "Precision: 0.92 %\n"
     ]
    }
   ],
   "source": [
    "preds = model.predict(dtest)\n",
    "best_preds = np.asarray([np.argmax(line) for line in preds])\n",
    "print(\"Precision: {:.2f} %\".format(precision_score(y_test, best_preds, average='macro')))"
   ]
  },
  {
   "cell_type": "code",
   "execution_count": 17,
   "metadata": {
    "ExecuteTime": {
     "end_time": "2023-12-01T15:11:48.284278Z",
     "start_time": "2023-12-01T15:11:48.121748Z"
    }
   },
   "outputs": [
    {
     "data": {
      "text/plain": "<Axes: title={'center': 'Weight (Frequence)'}, xlabel='F score', ylabel='Features'>"
     },
     "execution_count": 17,
     "metadata": {},
     "output_type": "execute_result"
    },
    {
     "data": {
      "text/plain": "<Figure size 640x480 with 1 Axes>",
      "image/png": "[encoded data removed]"
     },
     "metadata": {},
     "output_type": "display_data"
    }
   ],
   "source": [
    "plot_importance(model, importance_type='weight', title='Weight (Frequence)')"
   ]
  },
  {
   "cell_type": "markdown",
   "metadata": {},
   "source": [
    "## How to use XGBoost in RecSys?"
   ]
  },
  {
   "cell_type": "markdown",
   "metadata": {},
   "source": [
    "## Hint: reranking and hybridization\n",
    "\n",
    "### Steps:\n",
    "* Run your best algorithm and select a number of recommendations higher than the target cutoff, for example if you have to compute MAP@10, get 20 recommendations\n",
    "* Build a dataframe whose samples are the user-item recommendations\n",
    "* Add for each interaction some content features: item features, user features\n",
    "* Add for each interaction some features derived by other algorithms: CBF prediction, hybrid prediction\n",
    "* Add for each interaction other miscellaneous information: profile length, item popularity .."
   ]
  },
  {
   "cell_type": "markdown",
   "metadata": {},
   "source": [
    "## Dummy example"
   ]
  },
  {
   "cell_type": "code",
   "execution_count": 19,
   "metadata": {
    "ExecuteTime": {
     "end_time": "2023-12-01T15:16:34.377284Z",
     "start_time": "2023-12-01T15:16:31.168569Z"
    }
   },
   "outputs": [
    {
     "name": "stdout",
     "output_type": "stream",
     "text": [
      "Warning: 632 (4.85 %) of 13025 users have no train items\n",
      "Warning: 2541 (19.51 %) of 13025 users have no sampled items\n",
      "Warning: 878 (6.74 %) of 13025 users have no train items\n",
      "Warning: 2987 (22.93 %) of 13025 users have no sampled items\n",
      "EvaluatorHoldout: Ignoring 2541 (19.5%) Users that have less than 1 test interactions\n"
     ]
    }
   ],
   "source": [
    "from Data_manager.split_functions.split_train_validation_random_holdout import \\\n",
    "    split_train_in_two_percentage_global_sample\n",
    "from Evaluation.Evaluator import EvaluatorHoldout\n",
    "import numpy as np\n",
    "import scipy.sparse as sps\n",
    "from challenge.utils.functions import read_data\n",
    "\n",
    "cutoff_list = [10]\n",
    "data_file_path = '../challenge/input_files/data_train.csv'\n",
    "users_file_path = '../challenge/input_files/data_target_users_test.csv'\n",
    "URM_all_dataframe, users_list = read_data(data_file_path, users_file_path)\n",
    "\n",
    "URM_all = sps.coo_matrix(\n",
    "    (URM_all_dataframe['Data'].values, (URM_all_dataframe['UserID'].values, URM_all_dataframe['ItemID'].values)))\n",
    "URM_all = URM_all.tocsr()\n",
    "\n",
    "URM_train_validation, URM_test = split_train_in_two_percentage_global_sample(URM_all, train_percentage=0.80)\n",
    "URM_train, URM_validation = split_train_in_two_percentage_global_sample(URM_train_validation, train_percentage=0.80)\n",
    "\n",
    "evaluator = EvaluatorHoldout(URM_test, cutoff_list=cutoff_list)"
   ]
  },
  {
   "cell_type": "markdown",
   "metadata": {},
   "source": [
    "### Let's select the recommendations to use to train XGBoost\n",
    "\n",
    "Several options are possible:\n",
    "- Take the best recommender and select, say, the top-100 recommended items\n",
    "- Take multiple recommenders and use the union of their recommendations\n",
    "- ...\n",
    "\n",
    "In this example a single model will be used to select the candidate user-item interactions to use for XGBoost"
   ]
  },
  {
   "cell_type": "code",
   "execution_count": 20,
   "metadata": {
    "ExecuteTime": {
     "end_time": "2023-12-01T15:19:57.730898Z",
     "start_time": "2023-12-01T15:19:51.805314Z"
    }
   },
   "outputs": [
    {
     "name": "stdout",
     "output_type": "stream",
     "text": [
      "RP3betaRecommender: URM Detected 878 ( 6.7%) users with no interactions.\n",
      "RP3betaRecommender: URM Detected 466 ( 2.1%) items with no interactions.\n",
      "RP3betaRecommender: Similarity column 22348 (100.0%), 4473.26 column/sec. Elapsed time 5.00 sec\n"
     ]
    }
   ],
   "source": [
    "from Recommenders.GraphBased import RP3betaRecommender, P3alphaRecommender\n",
    "\n",
    "RP3_recommender = RP3betaRecommender.RP3betaRecommender(URM_train)\n",
    "RP3_recommender.fit(topK=30, alpha=0.26362900188025656, beta=0.17133265585189086, min_rating=0.2588031389774553,\n",
    "                    implicit=True, normalize_similarity=True)\n",
    "RP3_Wsparse = RP3_recommender.W_sparse"
   ]
  },
  {
   "cell_type": "markdown",
   "metadata": {},
   "source": [
    "## Build the dataframe with the predictions\n",
    "\n",
    "Creating dataframes can be quite computationally expensive. Never use \"append\" or iteratively concatenate new elements when you have to run a significant number of iterations, it will take forever. Initialize instead the dimension you want."
   ]
  },
  {
   "cell_type": "code",
   "execution_count": 21,
   "metadata": {
    "ExecuteTime": {
     "end_time": "2023-12-01T15:20:51.788342Z",
     "start_time": "2023-12-01T15:20:51.751008Z"
    }
   },
   "outputs": [],
   "source": [
    "import pandas as pd\n",
    "from tqdm import tqdm\n",
    "import scipy.sparse as sps\n",
    "import numpy as np\n",
    "from xgboost import XGBRanker\n",
    "\n",
    "n_users, n_items = URM_train.shape\n",
    "\n",
    "training_dataframe = pd.DataFrame(index=range(0,n_users), columns = [\"ItemID\"])\n",
    "training_dataframe.index.name='UserID'"
   ]
  },
  {
   "cell_type": "code",
   "execution_count": 22,
   "metadata": {
    "ExecuteTime": {
     "end_time": "2023-12-01T15:20:55.112462Z",
     "start_time": "2023-12-01T15:20:55.093495Z"
    }
   },
   "outputs": [
    {
     "data": {
      "text/plain": "       ItemID\nUserID       \n0         NaN\n1         NaN\n2         NaN\n3         NaN\n4         NaN\n...       ...\n13020     NaN\n13021     NaN\n13022     NaN\n13023     NaN\n13024     NaN\n\n[13025 rows x 1 columns]",
      "text/html": "<div>\n<style scoped>\n    .dataframe tbody tr th:only-of-type {\n        vertical-align: middle;\n    }\n\n    .dataframe tbody tr th {\n        vertical-align: top;\n    }\n\n    .dataframe thead th {\n        text-align: right;\n    }\n</style>\n<table border=\"1\" class=\"dataframe\">\n  <thead>\n    <tr style=\"text-align: right;\">\n      <th></th>\n      <th>ItemID</th>\n    </tr>\n    <tr>\n      <th>UserID</th>\n      <th></th>\n    </tr>\n  </thead>\n  <tbody>\n    <tr>\n      <th>0</th>\n      <td>NaN</td>\n    </tr>\n    <tr>\n      <th>1</th>\n      <td>NaN</td>\n    </tr>\n    <tr>\n      <th>2</th>\n      <td>NaN</td>\n    </tr>\n    <tr>\n      <th>3</th>\n      <td>NaN</td>\n    </tr>\n    <tr>\n      <th>4</th>\n      <td>NaN</td>\n    </tr>\n    <tr>\n      <th>...</th>\n      <td>...</td>\n    </tr>\n    <tr>\n      <th>13020</th>\n      <td>NaN</td>\n    </tr>\n    <tr>\n      <th>13021</th>\n      <td>NaN</td>\n    </tr>\n    <tr>\n      <th>13022</th>\n      <td>NaN</td>\n    </tr>\n    <tr>\n      <th>13023</th>\n      <td>NaN</td>\n    </tr>\n    <tr>\n      <th>13024</th>\n      <td>NaN</td>\n    </tr>\n  </tbody>\n</table>\n<p>13025 rows × 1 columns</p>\n</div>"
     },
     "execution_count": 22,
     "metadata": {},
     "output_type": "execute_result"
    }
   ],
   "source": [
    "training_dataframe"
   ]
  },
  {
   "cell_type": "code",
   "execution_count": 23,
   "metadata": {
    "ExecuteTime": {
     "end_time": "2023-12-01T15:21:37.555821Z",
     "start_time": "2023-12-01T15:21:31.146457Z"
    }
   },
   "outputs": [
    {
     "name": "stderr",
     "output_type": "stream",
     "text": [
      "100%|██████████| 13025/13025 [00:06<00:00, 2039.81it/s]\n"
     ]
    }
   ],
   "source": [
    "cutoff = 20\n",
    "\n",
    "for user_id in tqdm(range(n_users)):    \n",
    "    recommendations = RP3_recommender.recommend(user_id, cutoff = cutoff)\n",
    "    training_dataframe.loc[user_id, \"ItemID\"] = recommendations"
   ]
  },
  {
   "cell_type": "code",
   "execution_count": 24,
   "metadata": {
    "ExecuteTime": {
     "end_time": "2023-12-01T15:21:39.873196Z",
     "start_time": "2023-12-01T15:21:39.836493Z"
    }
   },
   "outputs": [
    {
     "data": {
      "text/plain": "                                                   ItemID\nUserID                                                   \n0       [14897, 14894, 14892, 14908, 14889, 14888, 148...\n1       [15, 36, 101, 506, 123, 1546, 3311, 429, 1057,...\n2       [47, 11, 196, 50, 1522, 28, 949, 16, 1227, 109...\n3       [4252, 857, 375, 970, 239, 511, 159, 750, 128,...\n4       [2, 17, 11, 28, 119, 4, 42, 146, 50, 299, 249,...\n...                                                   ...\n13020   [6450, 6452, 6198, 5725, 6749, 105, 1422, 155,...\n13021   [6429, 6451, 6179, 5915, 20505, 7027, 175, 133...\n13022   [1411, 1668, 1446, 1767, 809, 1674, 1555, 4688...\n13023   [129, 236, 242, 837, 639, 936, 1051, 1107, 329...\n13024   [733, 4076, 2120, 4082, 2196, 7472, 1776, 9590...\n\n[13025 rows x 1 columns]",
      "text/html": "<div>\n<style scoped>\n    .dataframe tbody tr th:only-of-type {\n        vertical-align: middle;\n    }\n\n    .dataframe tbody tr th {\n        vertical-align: top;\n    }\n\n    .dataframe thead th {\n        text-align: right;\n    }\n</style>\n<table border=\"1\" class=\"dataframe\">\n  <thead>\n    <tr style=\"text-align: right;\">\n      <th></th>\n      <th>ItemID</th>\n    </tr>\n    <tr>\n      <th>UserID</th>\n      <th></th>\n    </tr>\n  </thead>\n  <tbody>\n    <tr>\n      <th>0</th>\n      <td>[14897, 14894, 14892, 14908, 14889, 14888, 148...</td>\n    </tr>\n    <tr>\n      <th>1</th>\n      <td>[15, 36, 101, 506, 123, 1546, 3311, 429, 1057,...</td>\n    </tr>\n    <tr>\n      <th>2</th>\n      <td>[47, 11, 196, 50, 1522, 28, 949, 16, 1227, 109...</td>\n    </tr>\n    <tr>\n      <th>3</th>\n      <td>[4252, 857, 375, 970, 239, 511, 159, 750, 128,...</td>\n    </tr>\n    <tr>\n      <th>4</th>\n      <td>[2, 17, 11, 28, 119, 4, 42, 146, 50, 299, 249,...</td>\n    </tr>\n    <tr>\n      <th>...</th>\n      <td>...</td>\n    </tr>\n    <tr>\n      <th>13020</th>\n      <td>[6450, 6452, 6198, 5725, 6749, 105, 1422, 155,...</td>\n    </tr>\n    <tr>\n      <th>13021</th>\n      <td>[6429, 6451, 6179, 5915, 20505, 7027, 175, 133...</td>\n    </tr>\n    <tr>\n      <th>13022</th>\n      <td>[1411, 1668, 1446, 1767, 809, 1674, 1555, 4688...</td>\n    </tr>\n    <tr>\n      <th>13023</th>\n      <td>[129, 236, 242, 837, 639, 936, 1051, 1107, 329...</td>\n    </tr>\n    <tr>\n      <th>13024</th>\n      <td>[733, 4076, 2120, 4082, 2196, 7472, 1776, 9590...</td>\n    </tr>\n  </tbody>\n</table>\n<p>13025 rows × 1 columns</p>\n</div>"
     },
     "execution_count": 24,
     "metadata": {},
     "output_type": "execute_result"
    }
   ],
   "source": [
    "training_dataframe"
   ]
  },
  {
   "cell_type": "markdown",
   "metadata": {},
   "source": [
    "### Let's transform the dataframe so that we have one recommendation per row"
   ]
  },
  {
   "cell_type": "code",
   "execution_count": 25,
   "metadata": {
    "ExecuteTime": {
     "end_time": "2023-12-01T15:34:26.528512Z",
     "start_time": "2023-12-01T15:34:26.450019Z"
    }
   },
   "outputs": [
    {
     "data": {
      "text/plain": "       ItemID\nUserID       \n0       14897\n0       14894\n0       14892\n0       14908\n0       14889\n...       ...\n13024   15122\n13024     554\n13024    6215\n13024     706\n13024   11654\n\n[260500 rows x 1 columns]",
      "text/html": "<div>\n<style scoped>\n    .dataframe tbody tr th:only-of-type {\n        vertical-align: middle;\n    }\n\n    .dataframe tbody tr th {\n        vertical-align: top;\n    }\n\n    .dataframe thead th {\n        text-align: right;\n    }\n</style>\n<table border=\"1\" class=\"dataframe\">\n  <thead>\n    <tr style=\"text-align: right;\">\n      <th></th>\n      <th>ItemID</th>\n    </tr>\n    <tr>\n      <th>UserID</th>\n      <th></th>\n    </tr>\n  </thead>\n  <tbody>\n    <tr>\n      <th>0</th>\n      <td>14897</td>\n    </tr>\n    <tr>\n      <th>0</th>\n      <td>14894</td>\n    </tr>\n    <tr>\n      <th>0</th>\n      <td>14892</td>\n    </tr>\n    <tr>\n      <th>0</th>\n      <td>14908</td>\n    </tr>\n    <tr>\n      <th>0</th>\n      <td>14889</td>\n    </tr>\n    <tr>\n      <th>...</th>\n      <td>...</td>\n    </tr>\n    <tr>\n      <th>13024</th>\n      <td>15122</td>\n    </tr>\n    <tr>\n      <th>13024</th>\n      <td>554</td>\n    </tr>\n    <tr>\n      <th>13024</th>\n      <td>6215</td>\n    </tr>\n    <tr>\n      <th>13024</th>\n      <td>706</td>\n    </tr>\n    <tr>\n      <th>13024</th>\n      <td>11654</td>\n    </tr>\n  </tbody>\n</table>\n<p>260500 rows × 1 columns</p>\n</div>"
     },
     "execution_count": 25,
     "metadata": {},
     "output_type": "execute_result"
    }
   ],
   "source": [
    "training_dataframe = training_dataframe.explode(\"ItemID\")\n",
    "training_dataframe"
   ]
  },
  {
   "cell_type": "markdown",
   "metadata": {},
   "source": [
    "### We should add the target column, which is the correct recommendation as contained in the validation data"
   ]
  },
  {
   "cell_type": "code",
   "execution_count": 26,
   "metadata": {
    "ExecuteTime": {
     "end_time": "2023-12-01T16:03:07.302496Z",
     "start_time": "2023-12-01T16:03:07.265124Z"
    }
   },
   "outputs": [
    {
     "data": {
      "text/plain": "       UserID  ItemID\n0           1      15\n1           1     354\n2           1     429\n3           1    1108\n4           1    1217\n...       ...     ...\n76592   13024    7472\n76593   13024    8431\n76594   13024   13605\n76595   13024   13823\n76596   13024   15122\n\n[76597 rows x 2 columns]",
      "text/html": "<div>\n<style scoped>\n    .dataframe tbody tr th:only-of-type {\n        vertical-align: middle;\n    }\n\n    .dataframe tbody tr th {\n        vertical-align: top;\n    }\n\n    .dataframe thead th {\n        text-align: right;\n    }\n</style>\n<table border=\"1\" class=\"dataframe\">\n  <thead>\n    <tr style=\"text-align: right;\">\n      <th></th>\n      <th>UserID</th>\n      <th>ItemID</th>\n    </tr>\n  </thead>\n  <tbody>\n    <tr>\n      <th>0</th>\n      <td>1</td>\n      <td>15</td>\n    </tr>\n    <tr>\n      <th>1</th>\n      <td>1</td>\n      <td>354</td>\n    </tr>\n    <tr>\n      <th>2</th>\n      <td>1</td>\n      <td>429</td>\n    </tr>\n    <tr>\n      <th>3</th>\n      <td>1</td>\n      <td>1108</td>\n    </tr>\n    <tr>\n      <th>4</th>\n      <td>1</td>\n      <td>1217</td>\n    </tr>\n    <tr>\n      <th>...</th>\n      <td>...</td>\n      <td>...</td>\n    </tr>\n    <tr>\n      <th>76592</th>\n      <td>13024</td>\n      <td>7472</td>\n    </tr>\n    <tr>\n      <th>76593</th>\n      <td>13024</td>\n      <td>8431</td>\n    </tr>\n    <tr>\n      <th>76594</th>\n      <td>13024</td>\n      <td>13605</td>\n    </tr>\n    <tr>\n      <th>76595</th>\n      <td>13024</td>\n      <td>13823</td>\n    </tr>\n    <tr>\n      <th>76596</th>\n      <td>13024</td>\n      <td>15122</td>\n    </tr>\n  </tbody>\n</table>\n<p>76597 rows × 2 columns</p>\n</div>"
     },
     "execution_count": 26,
     "metadata": {},
     "output_type": "execute_result"
    }
   ],
   "source": [
    "URM_validation_coo = sps.coo_matrix(URM_validation)\n",
    "\n",
    "correct_recommendations = pd.DataFrame({\"UserID\": URM_validation_coo.row,\n",
    "                                        \"ItemID\": URM_validation_coo.col})\n",
    "correct_recommendations"
   ]
  },
  {
   "cell_type": "code",
   "execution_count": 27,
   "metadata": {
    "ExecuteTime": {
     "end_time": "2023-12-01T16:03:33.717302Z",
     "start_time": "2023-12-01T16:03:33.576686Z"
    }
   },
   "outputs": [
    {
     "data": {
      "text/plain": "        UserID ItemID      Exist\n0            0  14897  left_only\n1            0  14894  left_only\n2            0  14892  left_only\n3            0  14908  left_only\n4            0  14889  left_only\n...        ...    ...        ...\n260495   13024  15122       both\n260496   13024    554       both\n260497   13024   6215  left_only\n260498   13024    706  left_only\n260499   13024  11654  left_only\n\n[260500 rows x 3 columns]",
      "text/html": "<div>\n<style scoped>\n    .dataframe tbody tr th:only-of-type {\n        vertical-align: middle;\n    }\n\n    .dataframe tbody tr th {\n        vertical-align: top;\n    }\n\n    .dataframe thead th {\n        text-align: right;\n    }\n</style>\n<table border=\"1\" class=\"dataframe\">\n  <thead>\n    <tr style=\"text-align: right;\">\n      <th></th>\n      <th>UserID</th>\n      <th>ItemID</th>\n      <th>Exist</th>\n    </tr>\n  </thead>\n  <tbody>\n    <tr>\n      <th>0</th>\n      <td>0</td>\n      <td>14897</td>\n      <td>left_only</td>\n    </tr>\n    <tr>\n      <th>1</th>\n      <td>0</td>\n      <td>14894</td>\n      <td>left_only</td>\n    </tr>\n    <tr>\n      <th>2</th>\n      <td>0</td>\n      <td>14892</td>\n      <td>left_only</td>\n    </tr>\n    <tr>\n      <th>3</th>\n      <td>0</td>\n      <td>14908</td>\n      <td>left_only</td>\n    </tr>\n    <tr>\n      <th>4</th>\n      <td>0</td>\n      <td>14889</td>\n      <td>left_only</td>\n    </tr>\n    <tr>\n      <th>...</th>\n      <td>...</td>\n      <td>...</td>\n      <td>...</td>\n    </tr>\n    <tr>\n      <th>260495</th>\n      <td>13024</td>\n      <td>15122</td>\n      <td>both</td>\n    </tr>\n    <tr>\n      <th>260496</th>\n      <td>13024</td>\n      <td>554</td>\n      <td>both</td>\n    </tr>\n    <tr>\n      <th>260497</th>\n      <td>13024</td>\n      <td>6215</td>\n      <td>left_only</td>\n    </tr>\n    <tr>\n      <th>260498</th>\n      <td>13024</td>\n      <td>706</td>\n      <td>left_only</td>\n    </tr>\n    <tr>\n      <th>260499</th>\n      <td>13024</td>\n      <td>11654</td>\n      <td>left_only</td>\n    </tr>\n  </tbody>\n</table>\n<p>260500 rows × 3 columns</p>\n</div>"
     },
     "execution_count": 27,
     "metadata": {},
     "output_type": "execute_result"
    }
   ],
   "source": [
    "training_dataframe = pd.merge(training_dataframe, correct_recommendations, on=['UserID','ItemID'], how='left', indicator='Exist')\n",
    "training_dataframe"
   ]
  },
  {
   "cell_type": "code",
   "execution_count": 28,
   "metadata": {
    "ExecuteTime": {
     "end_time": "2023-12-01T16:04:10.648147Z",
     "start_time": "2023-12-01T16:04:10.598658Z"
    }
   },
   "outputs": [
    {
     "data": {
      "text/plain": "        UserID ItemID  Label\n0            0  14897  False\n1            0  14894  False\n2            0  14892  False\n3            0  14908  False\n4            0  14889  False\n...        ...    ...    ...\n260495   13024  15122   True\n260496   13024    554   True\n260497   13024   6215  False\n260498   13024    706  False\n260499   13024  11654  False\n\n[260500 rows x 3 columns]",
      "text/html": "<div>\n<style scoped>\n    .dataframe tbody tr th:only-of-type {\n        vertical-align: middle;\n    }\n\n    .dataframe tbody tr th {\n        vertical-align: top;\n    }\n\n    .dataframe thead th {\n        text-align: right;\n    }\n</style>\n<table border=\"1\" class=\"dataframe\">\n  <thead>\n    <tr style=\"text-align: right;\">\n      <th></th>\n      <th>UserID</th>\n      <th>ItemID</th>\n      <th>Label</th>\n    </tr>\n  </thead>\n  <tbody>\n    <tr>\n      <th>0</th>\n      <td>0</td>\n      <td>14897</td>\n      <td>False</td>\n    </tr>\n    <tr>\n      <th>1</th>\n      <td>0</td>\n      <td>14894</td>\n      <td>False</td>\n    </tr>\n    <tr>\n      <th>2</th>\n      <td>0</td>\n      <td>14892</td>\n      <td>False</td>\n    </tr>\n    <tr>\n      <th>3</th>\n      <td>0</td>\n      <td>14908</td>\n      <td>False</td>\n    </tr>\n    <tr>\n      <th>4</th>\n      <td>0</td>\n      <td>14889</td>\n      <td>False</td>\n    </tr>\n    <tr>\n      <th>...</th>\n      <td>...</td>\n      <td>...</td>\n      <td>...</td>\n    </tr>\n    <tr>\n      <th>260495</th>\n      <td>13024</td>\n      <td>15122</td>\n      <td>True</td>\n    </tr>\n    <tr>\n      <th>260496</th>\n      <td>13024</td>\n      <td>554</td>\n      <td>True</td>\n    </tr>\n    <tr>\n      <th>260497</th>\n      <td>13024</td>\n      <td>6215</td>\n      <td>False</td>\n    </tr>\n    <tr>\n      <th>260498</th>\n      <td>13024</td>\n      <td>706</td>\n      <td>False</td>\n    </tr>\n    <tr>\n      <th>260499</th>\n      <td>13024</td>\n      <td>11654</td>\n      <td>False</td>\n    </tr>\n  </tbody>\n</table>\n<p>260500 rows × 3 columns</p>\n</div>"
     },
     "execution_count": 28,
     "metadata": {},
     "output_type": "execute_result"
    }
   ],
   "source": [
    "training_dataframe[\"Label\"] = training_dataframe[\"Exist\"] == \"both\"\n",
    "training_dataframe.drop(columns = ['Exist'], inplace=True)\n",
    "training_dataframe"
   ]
  },
  {
   "cell_type": "markdown",
   "metadata": {},
   "source": [
    "## Now let's add some features. For example, the prediction of other algorithms\n",
    "\n",
    "This may take some time so it is a good idea to save this data and load it instead of calculating the scores every time."
   ]
  },
  {
   "cell_type": "code",
   "execution_count": 29,
   "metadata": {
    "ExecuteTime": {
     "end_time": "2023-12-01T16:33:22.697304Z",
     "start_time": "2023-12-01T16:24:16.956865Z"
    }
   },
   "outputs": [
    {
     "name": "stdout",
     "output_type": "stream",
     "text": [
      "TopPopRecommender: URM Detected 878 ( 6.7%) users with no interactions.\n",
      "TopPopRecommender: URM Detected 466 ( 2.1%) items with no interactions.\n",
      "P3alphaRecommender: URM Detected 878 ( 6.7%) users with no interactions.\n",
      "P3alphaRecommender: URM Detected 466 ( 2.1%) items with no interactions.\n",
      "P3alphaRecommender: Similarity column 22348 (100.0%), 4476.40 column/sec. Elapsed time 4.99 sec\n",
      "SLIMElasticNetRecommender: URM Detected 878 ( 6.7%) users with no interactions.\n",
      "SLIMElasticNetRecommender: URM Detected 466 ( 2.1%) items with no interactions.\n",
      "SLIMElasticNetRecommender: Processed 13431 (60.1%) in 5.00 min. Items per second: 44.76\n",
      "SLIMElasticNetRecommender: Processed 22348 (100.0%) in 8.98 min. Items per second: 41.46\n"
     ]
    }
   ],
   "source": [
    "from Recommenders.NonPersonalizedRecommender import TopPop\n",
    "from Recommenders.GraphBased import P3alphaRecommender\n",
    "from Recommenders.SLIM import SLIMElasticNetRecommender\n",
    "\n",
    "topPop = TopPop(URM_train)\n",
    "topPop.fit()\n",
    "\n",
    "p3alpha = P3alphaRecommender.P3alphaRecommender(URM_train)\n",
    "p3alpha.fit(topK=64, alpha=0.35496275558011753, min_rating=0.1, implicit=True,\n",
    "                       normalize_similarity=True)\n",
    "\n",
    "slim = SLIMElasticNetRecommender.SLIMElasticNetRecommender(URM_train)\n",
    "slim.fit(l1_ratio=0.005997129498003861, alpha=0.004503120402472539,\n",
    "                         positive_only=True, topK=45)\n",
    "\n",
    "\n",
    "other_algorithms = {\n",
    "    \"TopPop\": topPop,\n",
    "    \"P3alpha\": p3alpha,\n",
    "    \"SLIM\": slim,\n",
    "}\n"
   ]
  },
  {
   "cell_type": "code",
   "execution_count": 30,
   "metadata": {
    "ExecuteTime": {
     "end_time": "2023-12-01T16:35:33.339361Z",
     "start_time": "2023-12-01T16:35:13.443376Z"
    }
   },
   "outputs": [
    {
     "name": "stderr",
     "output_type": "stream",
     "text": [
      "100%|██████████| 13025/13025 [00:19<00:00, 655.39it/s]\n"
     ]
    },
    {
     "data": {
      "text/plain": "        UserID ItemID  Label  TopPop   P3alpha      SLIM\n0            0  14897  False     3.0  0.000000  0.000000\n1            0  14894  False     2.0  0.000000  0.000000\n2            0  14892  False     6.0  0.000000  0.000000\n3            0  14908  False     3.0  0.000000  0.000000\n4            0  14889  False     5.0  0.000000  0.000000\n...        ...    ...    ...     ...       ...       ...\n260495   13024  15122   True     4.0  0.045660  0.068497\n260496   13024    554   True    84.0  0.085318  0.106295\n260497   13024   6215  False    13.0  0.120551  0.090609\n260498   13024    706  False    70.0  0.084170  0.086307\n260499   13024  11654  False     8.0  0.065210  0.078316\n\n[260500 rows x 6 columns]",
      "text/html": "<div>\n<style scoped>\n    .dataframe tbody tr th:only-of-type {\n        vertical-align: middle;\n    }\n\n    .dataframe tbody tr th {\n        vertical-align: top;\n    }\n\n    .dataframe thead th {\n        text-align: right;\n    }\n</style>\n<table border=\"1\" class=\"dataframe\">\n  <thead>\n    <tr style=\"text-align: right;\">\n      <th></th>\n      <th>UserID</th>\n      <th>ItemID</th>\n      <th>Label</th>\n      <th>TopPop</th>\n      <th>P3alpha</th>\n      <th>SLIM</th>\n    </tr>\n  </thead>\n  <tbody>\n    <tr>\n      <th>0</th>\n      <td>0</td>\n      <td>14897</td>\n      <td>False</td>\n      <td>3.0</td>\n      <td>0.000000</td>\n      <td>0.000000</td>\n    </tr>\n    <tr>\n      <th>1</th>\n      <td>0</td>\n      <td>14894</td>\n      <td>False</td>\n      <td>2.0</td>\n      <td>0.000000</td>\n      <td>0.000000</td>\n    </tr>\n    <tr>\n      <th>2</th>\n      <td>0</td>\n      <td>14892</td>\n      <td>False</td>\n      <td>6.0</td>\n      <td>0.000000</td>\n      <td>0.000000</td>\n    </tr>\n    <tr>\n      <th>3</th>\n      <td>0</td>\n      <td>14908</td>\n      <td>False</td>\n      <td>3.0</td>\n      <td>0.000000</td>\n      <td>0.000000</td>\n    </tr>\n    <tr>\n      <th>4</th>\n      <td>0</td>\n      <td>14889</td>\n      <td>False</td>\n      <td>5.0</td>\n      <td>0.000000</td>\n      <td>0.000000</td>\n    </tr>\n    <tr>\n      <th>...</th>\n      <td>...</td>\n      <td>...</td>\n      <td>...</td>\n      <td>...</td>\n      <td>...</td>\n      <td>...</td>\n    </tr>\n    <tr>\n      <th>260495</th>\n      <td>13024</td>\n      <td>15122</td>\n      <td>True</td>\n      <td>4.0</td>\n      <td>0.045660</td>\n      <td>0.068497</td>\n    </tr>\n    <tr>\n      <th>260496</th>\n      <td>13024</td>\n      <td>554</td>\n      <td>True</td>\n      <td>84.0</td>\n      <td>0.085318</td>\n      <td>0.106295</td>\n    </tr>\n    <tr>\n      <th>260497</th>\n      <td>13024</td>\n      <td>6215</td>\n      <td>False</td>\n      <td>13.0</td>\n      <td>0.120551</td>\n      <td>0.090609</td>\n    </tr>\n    <tr>\n      <th>260498</th>\n      <td>13024</td>\n      <td>706</td>\n      <td>False</td>\n      <td>70.0</td>\n      <td>0.084170</td>\n      <td>0.086307</td>\n    </tr>\n    <tr>\n      <th>260499</th>\n      <td>13024</td>\n      <td>11654</td>\n      <td>False</td>\n      <td>8.0</td>\n      <td>0.065210</td>\n      <td>0.078316</td>\n    </tr>\n  </tbody>\n</table>\n<p>260500 rows × 6 columns</p>\n</div>"
     },
     "execution_count": 30,
     "metadata": {},
     "output_type": "execute_result"
    }
   ],
   "source": [
    "training_dataframe = training_dataframe.set_index('UserID')\n",
    "\n",
    "for user_id in tqdm(range(n_users)):  \n",
    "    for rec_label, rec_instance in other_algorithms.items():\n",
    "        \n",
    "        item_list = training_dataframe.loc[user_id, \"ItemID\"].values.tolist()\n",
    "        \n",
    "        all_item_scores = rec_instance._compute_item_score([user_id], items_to_compute = item_list)\n",
    "\n",
    "        training_dataframe.loc[user_id, rec_label] = all_item_scores[0, item_list] \n",
    "\n",
    "training_dataframe = training_dataframe.reset_index()\n",
    "training_dataframe = training_dataframe.rename(columns = {\"index\": \"UserID\"})\n",
    "training_dataframe"
   ]
  },
  {
   "cell_type": "markdown",
   "metadata": {},
   "source": [
    "## The popularity of the item, the user activity etc.."
   ]
  },
  {
   "cell_type": "code",
   "execution_count": 31,
   "metadata": {
    "ExecuteTime": {
     "end_time": "2023-12-01T16:36:26.873382Z",
     "start_time": "2023-12-01T16:36:26.803385Z"
    }
   },
   "outputs": [
    {
     "data": {
      "text/plain": "        UserID ItemID  Label  TopPop   P3alpha      SLIM  item_popularity\n0            0  14897  False     3.0  0.000000  0.000000                3\n1            0  14894  False     2.0  0.000000  0.000000                2\n2            0  14892  False     6.0  0.000000  0.000000                6\n3            0  14908  False     3.0  0.000000  0.000000                3\n4            0  14889  False     5.0  0.000000  0.000000                5\n...        ...    ...    ...     ...       ...       ...              ...\n260495   13024  15122   True     4.0  0.045660  0.068497                4\n260496   13024    554   True    84.0  0.085318  0.106295               84\n260497   13024   6215  False    13.0  0.120551  0.090609               13\n260498   13024    706  False    70.0  0.084170  0.086307               70\n260499   13024  11654  False     8.0  0.065210  0.078316                8\n\n[260500 rows x 7 columns]",
      "text/html": "<div>\n<style scoped>\n    .dataframe tbody tr th:only-of-type {\n        vertical-align: middle;\n    }\n\n    .dataframe tbody tr th {\n        vertical-align: top;\n    }\n\n    .dataframe thead th {\n        text-align: right;\n    }\n</style>\n<table border=\"1\" class=\"dataframe\">\n  <thead>\n    <tr style=\"text-align: right;\">\n      <th></th>\n      <th>UserID</th>\n      <th>ItemID</th>\n      <th>Label</th>\n      <th>TopPop</th>\n      <th>P3alpha</th>\n      <th>SLIM</th>\n      <th>item_popularity</th>\n    </tr>\n  </thead>\n  <tbody>\n    <tr>\n      <th>0</th>\n      <td>0</td>\n      <td>14897</td>\n      <td>False</td>\n      <td>3.0</td>\n      <td>0.000000</td>\n      <td>0.000000</td>\n      <td>3</td>\n    </tr>\n    <tr>\n      <th>1</th>\n      <td>0</td>\n      <td>14894</td>\n      <td>False</td>\n      <td>2.0</td>\n      <td>0.000000</td>\n      <td>0.000000</td>\n      <td>2</td>\n    </tr>\n    <tr>\n      <th>2</th>\n      <td>0</td>\n      <td>14892</td>\n      <td>False</td>\n      <td>6.0</td>\n      <td>0.000000</td>\n      <td>0.000000</td>\n      <td>6</td>\n    </tr>\n    <tr>\n      <th>3</th>\n      <td>0</td>\n      <td>14908</td>\n      <td>False</td>\n      <td>3.0</td>\n      <td>0.000000</td>\n      <td>0.000000</td>\n      <td>3</td>\n    </tr>\n    <tr>\n      <th>4</th>\n      <td>0</td>\n      <td>14889</td>\n      <td>False</td>\n      <td>5.0</td>\n      <td>0.000000</td>\n      <td>0.000000</td>\n      <td>5</td>\n    </tr>\n    <tr>\n      <th>...</th>\n      <td>...</td>\n      <td>...</td>\n      <td>...</td>\n      <td>...</td>\n      <td>...</td>\n      <td>...</td>\n      <td>...</td>\n    </tr>\n    <tr>\n      <th>260495</th>\n      <td>13024</td>\n      <td>15122</td>\n      <td>True</td>\n      <td>4.0</td>\n      <td>0.045660</td>\n      <td>0.068497</td>\n      <td>4</td>\n    </tr>\n    <tr>\n      <th>260496</th>\n      <td>13024</td>\n      <td>554</td>\n      <td>True</td>\n      <td>84.0</td>\n      <td>0.085318</td>\n      <td>0.106295</td>\n      <td>84</td>\n    </tr>\n    <tr>\n      <th>260497</th>\n      <td>13024</td>\n      <td>6215</td>\n      <td>False</td>\n      <td>13.0</td>\n      <td>0.120551</td>\n      <td>0.090609</td>\n      <td>13</td>\n    </tr>\n    <tr>\n      <th>260498</th>\n      <td>13024</td>\n      <td>706</td>\n      <td>False</td>\n      <td>70.0</td>\n      <td>0.084170</td>\n      <td>0.086307</td>\n      <td>70</td>\n    </tr>\n    <tr>\n      <th>260499</th>\n      <td>13024</td>\n      <td>11654</td>\n      <td>False</td>\n      <td>8.0</td>\n      <td>0.065210</td>\n      <td>0.078316</td>\n      <td>8</td>\n    </tr>\n  </tbody>\n</table>\n<p>260500 rows × 7 columns</p>\n</div>"
     },
     "execution_count": 31,
     "metadata": {},
     "output_type": "execute_result"
    }
   ],
   "source": [
    "item_popularity = np.ediff1d(sps.csc_matrix(URM_train).indptr)\n",
    "\n",
    "training_dataframe['item_popularity'] = item_popularity[training_dataframe[\"ItemID\"].values.astype(int)]\n",
    "training_dataframe"
   ]
  },
  {
   "cell_type": "markdown",
   "metadata": {},
   "source": [
    "## Or the profile length"
   ]
  },
  {
   "cell_type": "code",
   "execution_count": 32,
   "metadata": {
    "ExecuteTime": {
     "end_time": "2023-12-01T16:36:36.373505Z",
     "start_time": "2023-12-01T16:36:36.316536Z"
    }
   },
   "outputs": [
    {
     "data": {
      "text/plain": "        UserID ItemID  Label  TopPop   P3alpha      SLIM  item_popularity  \\\n0            0  14897  False     3.0  0.000000  0.000000                3   \n1            0  14894  False     2.0  0.000000  0.000000                2   \n2            0  14892  False     6.0  0.000000  0.000000                6   \n3            0  14908  False     3.0  0.000000  0.000000                3   \n4            0  14889  False     5.0  0.000000  0.000000                5   \n...        ...    ...    ...     ...       ...       ...              ...   \n260495   13024  15122   True     4.0  0.045660  0.068497                4   \n260496   13024    554   True    84.0  0.085318  0.106295               84   \n260497   13024   6215  False    13.0  0.120551  0.090609               13   \n260498   13024    706  False    70.0  0.084170  0.086307               70   \n260499   13024  11654  False     8.0  0.065210  0.078316                8   \n\n        user_profile_len  \n0                      0  \n1                      0  \n2                      0  \n3                      0  \n4                      0  \n...                  ...  \n260495                45  \n260496                45  \n260497                45  \n260498                45  \n260499                45  \n\n[260500 rows x 8 columns]",
      "text/html": "<div>\n<style scoped>\n    .dataframe tbody tr th:only-of-type {\n        vertical-align: middle;\n    }\n\n    .dataframe tbody tr th {\n        vertical-align: top;\n    }\n\n    .dataframe thead th {\n        text-align: right;\n    }\n</style>\n<table border=\"1\" class=\"dataframe\">\n  <thead>\n    <tr style=\"text-align: right;\">\n      <th></th>\n      <th>UserID</th>\n      <th>ItemID</th>\n      <th>Label</th>\n      <th>TopPop</th>\n      <th>P3alpha</th>\n      <th>SLIM</th>\n      <th>item_popularity</th>\n      <th>user_profile_len</th>\n    </tr>\n  </thead>\n  <tbody>\n    <tr>\n      <th>0</th>\n      <td>0</td>\n      <td>14897</td>\n      <td>False</td>\n      <td>3.0</td>\n      <td>0.000000</td>\n      <td>0.000000</td>\n      <td>3</td>\n      <td>0</td>\n    </tr>\n    <tr>\n      <th>1</th>\n      <td>0</td>\n      <td>14894</td>\n      <td>False</td>\n      <td>2.0</td>\n      <td>0.000000</td>\n      <td>0.000000</td>\n      <td>2</td>\n      <td>0</td>\n    </tr>\n    <tr>\n      <th>2</th>\n      <td>0</td>\n      <td>14892</td>\n      <td>False</td>\n      <td>6.0</td>\n      <td>0.000000</td>\n      <td>0.000000</td>\n      <td>6</td>\n      <td>0</td>\n    </tr>\n    <tr>\n      <th>3</th>\n      <td>0</td>\n      <td>14908</td>\n      <td>False</td>\n      <td>3.0</td>\n      <td>0.000000</td>\n      <td>0.000000</td>\n      <td>3</td>\n      <td>0</td>\n    </tr>\n    <tr>\n      <th>4</th>\n      <td>0</td>\n      <td>14889</td>\n      <td>False</td>\n      <td>5.0</td>\n      <td>0.000000</td>\n      <td>0.000000</td>\n      <td>5</td>\n      <td>0</td>\n    </tr>\n    <tr>\n      <th>...</th>\n      <td>...</td>\n      <td>...</td>\n      <td>...</td>\n      <td>...</td>\n      <td>...</td>\n      <td>...</td>\n      <td>...</td>\n      <td>...</td>\n    </tr>\n    <tr>\n      <th>260495</th>\n      <td>13024</td>\n      <td>15122</td>\n      <td>True</td>\n      <td>4.0</td>\n      <td>0.045660</td>\n      <td>0.068497</td>\n      <td>4</td>\n      <td>45</td>\n    </tr>\n    <tr>\n      <th>260496</th>\n      <td>13024</td>\n      <td>554</td>\n      <td>True</td>\n      <td>84.0</td>\n      <td>0.085318</td>\n      <td>0.106295</td>\n      <td>84</td>\n      <td>45</td>\n    </tr>\n    <tr>\n      <th>260497</th>\n      <td>13024</td>\n      <td>6215</td>\n      <td>False</td>\n      <td>13.0</td>\n      <td>0.120551</td>\n      <td>0.090609</td>\n      <td>13</td>\n      <td>45</td>\n    </tr>\n    <tr>\n      <th>260498</th>\n      <td>13024</td>\n      <td>706</td>\n      <td>False</td>\n      <td>70.0</td>\n      <td>0.084170</td>\n      <td>0.086307</td>\n      <td>70</td>\n      <td>45</td>\n    </tr>\n    <tr>\n      <th>260499</th>\n      <td>13024</td>\n      <td>11654</td>\n      <td>False</td>\n      <td>8.0</td>\n      <td>0.065210</td>\n      <td>0.078316</td>\n      <td>8</td>\n      <td>45</td>\n    </tr>\n  </tbody>\n</table>\n<p>260500 rows × 8 columns</p>\n</div>"
     },
     "execution_count": 32,
     "metadata": {},
     "output_type": "execute_result"
    }
   ],
   "source": [
    "user_popularity = np.ediff1d(sps.csr_matrix(URM_train).indptr)\n",
    "\n",
    "training_dataframe['user_profile_len'] = user_popularity[training_dataframe[\"UserID\"].values.astype(int)]\n",
    "training_dataframe"
   ]
  },
  {
   "cell_type": "markdown",
   "metadata": {},
   "source": [
    "## The same can be done with item features\n",
    "\n",
    "It is better in this case to first create a sparse matrix replicating the rows needed and ten transform it into a sparse dataframe\n",
    "\n",
    "**WARNING** dataframes are not sparse structures and this may cause the memory requirements to explode"
   ]
  },
  {
   "cell_type": "markdown",
   "source": [
    "features_df = pd.DataFrame.sparse.from_spmatrix(ICM_genres)\n",
    "features_df"
   ],
   "metadata": {
    "collapsed": false
   }
  },
  {
   "cell_type": "markdown",
   "source": [
    "training_dataframe = training_dataframe.set_index('ItemID').join(features_df, how='inner')\n",
    "training_dataframe = training_dataframe.reset_index()\n",
    "training_dataframe = training_dataframe.rename(columns = {\"index\": \"ItemID\"})\n",
    "training_dataframe"
   ],
   "metadata": {
    "collapsed": false
   }
  },
  {
   "cell_type": "markdown",
   "metadata": {},
   "source": [
    "## Then you can train XGBoost to rerank those prediction using as lable whether they should be recommended or not"
   ]
  },
  {
   "cell_type": "code",
   "execution_count": 33,
   "metadata": {
    "ExecuteTime": {
     "end_time": "2023-12-01T16:37:26.229746Z",
     "start_time": "2023-12-01T16:37:26.144838Z"
    }
   },
   "outputs": [
    {
     "data": {
      "text/plain": "        UserID ItemID  Label  TopPop   P3alpha      SLIM  item_popularity  \\\n0            0  14897  False     3.0  0.000000  0.000000                3   \n1            0  14905  False     4.0  0.000000  0.000000                4   \n2            0  14893  False     2.0  0.000000  0.000000                2   \n3            0  14895  False     3.0  0.000000  0.000000                3   \n4            0  14904  False     2.0  0.000000  0.000000                2   \n...        ...    ...    ...     ...       ...       ...              ...   \n260495   13024   4076  False    20.0  0.214790  0.205201               20   \n260496   13024    733  False    74.0  0.292493  0.265903               74   \n260497   13024    706  False    70.0  0.084170  0.086307               70   \n260498   13024    350  False   135.0  0.147043  0.159330              135   \n260499   13024  11654  False     8.0  0.065210  0.078316                8   \n\n        user_profile_len  \n0                      0  \n1                      0  \n2                      0  \n3                      0  \n4                      0  \n...                  ...  \n260495                45  \n260496                45  \n260497                45  \n260498                45  \n260499                45  \n\n[260500 rows x 8 columns]",
      "text/html": "<div>\n<style scoped>\n    .dataframe tbody tr th:only-of-type {\n        vertical-align: middle;\n    }\n\n    .dataframe tbody tr th {\n        vertical-align: top;\n    }\n\n    .dataframe thead th {\n        text-align: right;\n    }\n</style>\n<table border=\"1\" class=\"dataframe\">\n  <thead>\n    <tr style=\"text-align: right;\">\n      <th></th>\n      <th>UserID</th>\n      <th>ItemID</th>\n      <th>Label</th>\n      <th>TopPop</th>\n      <th>P3alpha</th>\n      <th>SLIM</th>\n      <th>item_popularity</th>\n      <th>user_profile_len</th>\n    </tr>\n  </thead>\n  <tbody>\n    <tr>\n      <th>0</th>\n      <td>0</td>\n      <td>14897</td>\n      <td>False</td>\n      <td>3.0</td>\n      <td>0.000000</td>\n      <td>0.000000</td>\n      <td>3</td>\n      <td>0</td>\n    </tr>\n    <tr>\n      <th>1</th>\n      <td>0</td>\n      <td>14905</td>\n      <td>False</td>\n      <td>4.0</td>\n      <td>0.000000</td>\n      <td>0.000000</td>\n      <td>4</td>\n      <td>0</td>\n    </tr>\n    <tr>\n      <th>2</th>\n      <td>0</td>\n      <td>14893</td>\n      <td>False</td>\n      <td>2.0</td>\n      <td>0.000000</td>\n      <td>0.000000</td>\n      <td>2</td>\n      <td>0</td>\n    </tr>\n    <tr>\n      <th>3</th>\n      <td>0</td>\n      <td>14895</td>\n      <td>False</td>\n      <td>3.0</td>\n      <td>0.000000</td>\n      <td>0.000000</td>\n      <td>3</td>\n      <td>0</td>\n    </tr>\n    <tr>\n      <th>4</th>\n      <td>0</td>\n      <td>14904</td>\n      <td>False</td>\n      <td>2.0</td>\n      <td>0.000000</td>\n      <td>0.000000</td>\n      <td>2</td>\n      <td>0</td>\n    </tr>\n    <tr>\n      <th>...</th>\n      <td>...</td>\n      <td>...</td>\n      <td>...</td>\n      <td>...</td>\n      <td>...</td>\n      <td>...</td>\n      <td>...</td>\n      <td>...</td>\n    </tr>\n    <tr>\n      <th>260495</th>\n      <td>13024</td>\n      <td>4076</td>\n      <td>False</td>\n      <td>20.0</td>\n      <td>0.214790</td>\n      <td>0.205201</td>\n      <td>20</td>\n      <td>45</td>\n    </tr>\n    <tr>\n      <th>260496</th>\n      <td>13024</td>\n      <td>733</td>\n      <td>False</td>\n      <td>74.0</td>\n      <td>0.292493</td>\n      <td>0.265903</td>\n      <td>74</td>\n      <td>45</td>\n    </tr>\n    <tr>\n      <th>260497</th>\n      <td>13024</td>\n      <td>706</td>\n      <td>False</td>\n      <td>70.0</td>\n      <td>0.084170</td>\n      <td>0.086307</td>\n      <td>70</td>\n      <td>45</td>\n    </tr>\n    <tr>\n      <th>260498</th>\n      <td>13024</td>\n      <td>350</td>\n      <td>False</td>\n      <td>135.0</td>\n      <td>0.147043</td>\n      <td>0.159330</td>\n      <td>135</td>\n      <td>45</td>\n    </tr>\n    <tr>\n      <th>260499</th>\n      <td>13024</td>\n      <td>11654</td>\n      <td>False</td>\n      <td>8.0</td>\n      <td>0.065210</td>\n      <td>0.078316</td>\n      <td>8</td>\n      <td>45</td>\n    </tr>\n  </tbody>\n</table>\n<p>260500 rows × 8 columns</p>\n</div>"
     },
     "execution_count": 33,
     "metadata": {},
     "output_type": "execute_result"
    }
   ],
   "source": [
    "training_dataframe = training_dataframe.sort_values(\"UserID\").reset_index()\n",
    "training_dataframe.drop(columns = ['index'], inplace=True)\n",
    "training_dataframe"
   ]
  },
  {
   "cell_type": "markdown",
   "metadata": {},
   "source": [
    "### To use the ranker one first needs to specify the size of the groups, a group is the dimension you rank on, in this case each group corresponds to a user. Since we have generated a fixed number of candidates for each user (30) all groups have the same length."
   ]
  },
  {
   "cell_type": "code",
   "execution_count": 34,
   "metadata": {
    "ExecuteTime": {
     "end_time": "2023-12-01T16:37:51.563548Z",
     "start_time": "2023-12-01T16:37:51.543405Z"
    }
   },
   "outputs": [
    {
     "data": {
      "text/plain": "array([20, 20, 20, ..., 20, 20, 20])"
     },
     "execution_count": 34,
     "metadata": {},
     "output_type": "execute_result"
    }
   ],
   "source": [
    "groups = training_dataframe.groupby(\"UserID\").size().values\n",
    "groups"
   ]
  },
  {
   "cell_type": "code",
   "execution_count": 35,
   "metadata": {
    "ExecuteTime": {
     "end_time": "2023-12-01T16:37:55.247521Z",
     "start_time": "2023-12-01T16:37:55.225667Z"
    }
   },
   "outputs": [],
   "source": [
    "from xgboost import XGBRanker"
   ]
  },
  {
   "cell_type": "code",
   "execution_count": 36,
   "metadata": {
    "ExecuteTime": {
     "end_time": "2023-12-01T16:38:03.906164Z",
     "start_time": "2023-12-01T16:38:03.888616Z"
    }
   },
   "outputs": [],
   "source": [
    "n_estimators = 50\n",
    "learning_rate = 1e-1\n",
    "reg_alpha = 1e-1\n",
    "reg_lambda = 1e-1\n",
    "max_depth = 5\n",
    "max_leaves = 0\n",
    "grow_policy = \"depthwise\"\n",
    "objective = \"pairwise\"\n",
    "booster = \"gbtree\"\n",
    "use_user_profile = False\n",
    "random_seed = None\n",
    "\n",
    "XGB_model = XGBRanker(objective='rank:{}'.format(objective),\n",
    "                      n_estimators = int(n_estimators),\n",
    "                      random_state = random_seed,\n",
    "                      learning_rate = learning_rate,\n",
    "                      reg_alpha = reg_alpha,\n",
    "                      reg_lambda = reg_lambda,\n",
    "                      max_depth = int(max_depth),\n",
    "                      max_leaves = int(max_leaves),\n",
    "                      grow_policy = grow_policy,\n",
    "                      verbosity = 0, # 2 if self.verbose else 0,\n",
    "                      booster = booster,\n",
    "                      )"
   ]
  },
  {
   "cell_type": "code",
   "execution_count": 39,
   "outputs": [
    {
     "data": {
      "text/plain": "        UserID ItemID  TopPop   P3alpha      SLIM  item_popularity  \\\n0            0  14897     3.0  0.000000  0.000000                3   \n1            0  14905     4.0  0.000000  0.000000                4   \n2            0  14893     2.0  0.000000  0.000000                2   \n3            0  14895     3.0  0.000000  0.000000                3   \n4            0  14904     2.0  0.000000  0.000000                2   \n...        ...    ...     ...       ...       ...              ...   \n260495   13024   4076    20.0  0.214790  0.205201               20   \n260496   13024    733    74.0  0.292493  0.265903               74   \n260497   13024    706    70.0  0.084170  0.086307               70   \n260498   13024    350   135.0  0.147043  0.159330              135   \n260499   13024  11654     8.0  0.065210  0.078316                8   \n\n        user_profile_len  \n0                      0  \n1                      0  \n2                      0  \n3                      0  \n4                      0  \n...                  ...  \n260495                45  \n260496                45  \n260497                45  \n260498                45  \n260499                45  \n\n[260500 rows x 7 columns]",
      "text/html": "<div>\n<style scoped>\n    .dataframe tbody tr th:only-of-type {\n        vertical-align: middle;\n    }\n\n    .dataframe tbody tr th {\n        vertical-align: top;\n    }\n\n    .dataframe thead th {\n        text-align: right;\n    }\n</style>\n<table border=\"1\" class=\"dataframe\">\n  <thead>\n    <tr style=\"text-align: right;\">\n      <th></th>\n      <th>UserID</th>\n      <th>ItemID</th>\n      <th>TopPop</th>\n      <th>P3alpha</th>\n      <th>SLIM</th>\n      <th>item_popularity</th>\n      <th>user_profile_len</th>\n    </tr>\n  </thead>\n  <tbody>\n    <tr>\n      <th>0</th>\n      <td>0</td>\n      <td>14897</td>\n      <td>3.0</td>\n      <td>0.000000</td>\n      <td>0.000000</td>\n      <td>3</td>\n      <td>0</td>\n    </tr>\n    <tr>\n      <th>1</th>\n      <td>0</td>\n      <td>14905</td>\n      <td>4.0</td>\n      <td>0.000000</td>\n      <td>0.000000</td>\n      <td>4</td>\n      <td>0</td>\n    </tr>\n    <tr>\n      <th>2</th>\n      <td>0</td>\n      <td>14893</td>\n      <td>2.0</td>\n      <td>0.000000</td>\n      <td>0.000000</td>\n      <td>2</td>\n      <td>0</td>\n    </tr>\n    <tr>\n      <th>3</th>\n      <td>0</td>\n      <td>14895</td>\n      <td>3.0</td>\n      <td>0.000000</td>\n      <td>0.000000</td>\n      <td>3</td>\n      <td>0</td>\n    </tr>\n    <tr>\n      <th>4</th>\n      <td>0</td>\n      <td>14904</td>\n      <td>2.0</td>\n      <td>0.000000</td>\n      <td>0.000000</td>\n      <td>2</td>\n      <td>0</td>\n    </tr>\n    <tr>\n      <th>...</th>\n      <td>...</td>\n      <td>...</td>\n      <td>...</td>\n      <td>...</td>\n      <td>...</td>\n      <td>...</td>\n      <td>...</td>\n    </tr>\n    <tr>\n      <th>260495</th>\n      <td>13024</td>\n      <td>4076</td>\n      <td>20.0</td>\n      <td>0.214790</td>\n      <td>0.205201</td>\n      <td>20</td>\n      <td>45</td>\n    </tr>\n    <tr>\n      <th>260496</th>\n      <td>13024</td>\n      <td>733</td>\n      <td>74.0</td>\n      <td>0.292493</td>\n      <td>0.265903</td>\n      <td>74</td>\n      <td>45</td>\n    </tr>\n    <tr>\n      <th>260497</th>\n      <td>13024</td>\n      <td>706</td>\n      <td>70.0</td>\n      <td>0.084170</td>\n      <td>0.086307</td>\n      <td>70</td>\n      <td>45</td>\n    </tr>\n    <tr>\n      <th>260498</th>\n      <td>13024</td>\n      <td>350</td>\n      <td>135.0</td>\n      <td>0.147043</td>\n      <td>0.159330</td>\n      <td>135</td>\n      <td>45</td>\n    </tr>\n    <tr>\n      <th>260499</th>\n      <td>13024</td>\n      <td>11654</td>\n      <td>8.0</td>\n      <td>0.065210</td>\n      <td>0.078316</td>\n      <td>8</td>\n      <td>45</td>\n    </tr>\n  </tbody>\n</table>\n<p>260500 rows × 7 columns</p>\n</div>"
     },
     "execution_count": 39,
     "metadata": {},
     "output_type": "execute_result"
    }
   ],
   "source": [
    "training_dataframe.drop(columns=[\"Label\"])"
   ],
   "metadata": {
    "collapsed": false,
    "ExecuteTime": {
     "end_time": "2023-12-01T16:39:06.007835Z",
     "start_time": "2023-12-01T16:39:05.939430Z"
    }
   }
  },
  {
   "cell_type": "code",
   "execution_count": 41,
   "metadata": {
    "ExecuteTime": {
     "end_time": "2023-12-01T21:14:43.348249Z",
     "start_time": "2023-12-01T21:14:41.482639Z"
    }
   },
   "outputs": [
    {
     "data": {
      "text/plain": "XGBRanker(base_score=None, booster='gbtree', callbacks=None,\n          colsample_bylevel=None, colsample_bynode=None, colsample_bytree=None,\n          device=None, early_stopping_rounds=None, enable_categorical=False,\n          eval_metric=None, feature_types=None, gamma=None,\n          grow_policy='depthwise', importance_type=None,\n          interaction_constraints=None, learning_rate=0.1, max_bin=None,\n          max_cat_threshold=None, max_cat_to_onehot=None, max_delta_step=None,\n          max_depth=5, max_leaves=0, min_child_weight=None, missing=nan,\n          monotone_constraints=None, multi_strategy=None, n_estimators=50,\n          n_jobs=None, num_parallel_tree=None, objective='rank:pairwise', ...)",
      "text/html": "<style>#sk-container-id-1 {color: black;}#sk-container-id-1 pre{padding: 0;}#sk-container-id-1 div.sk-toggleable {background-color: white;}#sk-container-id-1 label.sk-toggleable__label {cursor: pointer;display: block;width: 100%;margin-bottom: 0;padding: 0.3em;box-sizing: border-box;text-align: center;}#sk-container-id-1 label.sk-toggleable__label-arrow:before {content: \"▸\";float: left;margin-right: 0.25em;color: #696969;}#sk-container-id-1 label.sk-toggleable__label-arrow:hover:before {color: black;}#sk-container-id-1 div.sk-estimator:hover label.sk-toggleable__label-arrow:before {color: black;}#sk-container-id-1 div.sk-toggleable__content {max-height: 0;max-width: 0;overflow: hidden;text-align: left;background-color: #f0f8ff;}#sk-container-id-1 div.sk-toggleable__content pre {margin: 0.2em;color: black;border-radius: 0.25em;background-color: #f0f8ff;}#sk-container-id-1 input.sk-toggleable__control:checked~div.sk-toggleable__content {max-height: 200px;max-width: 100%;overflow: auto;}#sk-container-id-1 input.sk-toggleable__control:checked~label.sk-toggleable__label-arrow:before {content: \"▾\";}#sk-container-id-1 div.sk-estimator input.sk-toggleable__control:checked~label.sk-toggleable__label {background-color: #d4ebff;}#sk-container-id-1 div.sk-label input.sk-toggleable__control:checked~label.sk-toggleable__label {background-color: #d4ebff;}#sk-container-id-1 input.sk-hidden--visually {border: 0;clip: rect(1px 1px 1px 1px);clip: rect(1px, 1px, 1px, 1px);height: 1px;margin: -1px;overflow: hidden;padding: 0;position: absolute;width: 1px;}#sk-container-id-1 div.sk-estimator {font-family: monospace;background-color: #f0f8ff;border: 1px dotted black;border-radius: 0.25em;box-sizing: border-box;margin-bottom: 0.5em;}#sk-container-id-1 div.sk-estimator:hover {background-color: #d4ebff;}#sk-container-id-1 div.sk-parallel-item::after {content: \"\";width: 100%;border-bottom: 1px solid gray;flex-grow: 1;}#sk-container-id-1 div.sk-label:hover label.sk-toggleable__label {background-color: #d4ebff;}#sk-container-id-1 div.sk-serial::before {content: \"\";position: absolute;border-left: 1px solid gray;box-sizing: border-box;top: 0;bottom: 0;left: 50%;z-index: 0;}#sk-container-id-1 div.sk-serial {display: flex;flex-direction: column;align-items: center;background-color: white;padding-right: 0.2em;padding-left: 0.2em;position: relative;}#sk-container-id-1 div.sk-item {position: relative;z-index: 1;}#sk-container-id-1 div.sk-parallel {display: flex;align-items: stretch;justify-content: center;background-color: white;position: relative;}#sk-container-id-1 div.sk-item::before, #sk-container-id-1 div.sk-parallel-item::before {content: \"\";position: absolute;border-left: 1px solid gray;box-sizing: border-box;top: 0;bottom: 0;left: 50%;z-index: -1;}#sk-container-id-1 div.sk-parallel-item {display: flex;flex-direction: column;z-index: 1;position: relative;background-color: white;}#sk-container-id-1 div.sk-parallel-item:first-child::after {align-self: flex-end;width: 50%;}#sk-container-id-1 div.sk-parallel-item:last-child::after {align-self: flex-start;width: 50%;}#sk-container-id-1 div.sk-parallel-item:only-child::after {width: 0;}#sk-container-id-1 div.sk-dashed-wrapped {border: 1px dashed gray;margin: 0 0.4em 0.5em 0.4em;box-sizing: border-box;padding-bottom: 0.4em;background-color: white;}#sk-container-id-1 div.sk-label label {font-family: monospace;font-weight: bold;display: inline-block;line-height: 1.2em;}#sk-container-id-1 div.sk-label-container {text-align: center;}#sk-container-id-1 div.sk-container {/* jupyter's `normalize.less` sets `[hidden] { display: none; }` but bootstrap.min.css set `[hidden] { display: none !important; }` so we also need the `!important` here to be able to override the default hidden behavior on the sphinx rendered scikit-learn.org. See: https://github.com/scikit-learn/scikit-learn/issues/21755 */display: inline-block !important;position: relative;}#sk-container-id-1 div.sk-text-repr-fallback {display: none;}</style><div id=\"sk-container-id-1\" class=\"sk-top-container\"><div class=\"sk-text-repr-fallback\"><pre>XGBRanker(base_score=None, booster=&#x27;gbtree&#x27;, callbacks=None,\n          colsample_bylevel=None, colsample_bynode=None, colsample_bytree=None,\n          device=None, early_stopping_rounds=None, enable_categorical=False,\n          eval_metric=None, feature_types=None, gamma=None,\n          grow_policy=&#x27;depthwise&#x27;, importance_type=None,\n          interaction_constraints=None, learning_rate=0.1, max_bin=None,\n          max_cat_threshold=None, max_cat_to_onehot=None, max_delta_step=None,\n          max_depth=5, max_leaves=0, min_child_weight=None, missing=nan,\n          monotone_constraints=None, multi_strategy=None, n_estimators=50,\n          n_jobs=None, num_parallel_tree=None, objective=&#x27;rank:pairwise&#x27;, ...)</pre><b>In a Jupyter environment, please rerun this cell to show the HTML representation or trust the notebook. <br />On GitHub, the HTML representation is unable to render, please try loading this page with nbviewer.org.</b></div><div class=\"sk-container\" hidden><div class=\"sk-item\"><div class=\"sk-estimator sk-toggleable\"><input class=\"sk-toggleable__control sk-hidden--visually\" id=\"sk-estimator-id-1\" type=\"checkbox\" checked><label for=\"sk-estimator-id-1\" class=\"sk-toggleable__label sk-toggleable__label-arrow\">XGBRanker</label><div class=\"sk-toggleable__content\"><pre>XGBRanker(base_score=None, booster=&#x27;gbtree&#x27;, callbacks=None,\n          colsample_bylevel=None, colsample_bynode=None, colsample_bytree=None,\n          device=None, early_stopping_rounds=None, enable_categorical=False,\n          eval_metric=None, feature_types=None, gamma=None,\n          grow_policy=&#x27;depthwise&#x27;, importance_type=None,\n          interaction_constraints=None, learning_rate=0.1, max_bin=None,\n          max_cat_threshold=None, max_cat_to_onehot=None, max_delta_step=None,\n          max_depth=5, max_leaves=0, min_child_weight=None, missing=nan,\n          monotone_constraints=None, multi_strategy=None, n_estimators=50,\n          n_jobs=None, num_parallel_tree=None, objective=&#x27;rank:pairwise&#x27;, ...)</pre></div></div></div></div></div>"
     },
     "execution_count": 41,
     "metadata": {},
     "output_type": "execute_result"
    }
   ],
   "source": [
    "training_dataframe[\"ItemID\"] = training_dataframe[\"ItemID\"].astype(int)\n",
    "\n",
    "y_train = training_dataframe[\"Label\"]\n",
    "X_train = training_dataframe.drop(columns=[\"Label\"])\n",
    "\n",
    "XGB_model.fit(X_train,\n",
    "          y_train,\n",
    "          group=groups,\n",
    "          verbose=True)"
   ]
  },
  {
   "cell_type": "markdown",
   "metadata": {},
   "source": [
    "### Once the model is trained we can use it to compute predictions. Each prediction will refer to a specific user-item pair, which we will ten need to rank as we do in any other recommender model.\n",
    "\n",
    "### Important: In order to use this model to predict the score of new datapoints (i.e., new recommendations) we have to repeat the same data processing steps but:\n",
    "- We do not need a train-label split, we can user all the data we have to compute the predictions and the features\n",
    "- The recommendation models used to generate the scores should be trained on all the available data"
   ]
  },
  {
   "cell_type": "code",
   "execution_count": 42,
   "metadata": {
    "ExecuteTime": {
     "end_time": "2023-12-01T21:15:04.631400Z",
     "start_time": "2023-12-01T21:15:04.576129Z"
    }
   },
   "outputs": [
    {
     "data": {
      "text/plain": "array([ 0.06436722, -0.51014686, -0.20700783, -0.03745223, -0.09213661,\n       -0.13595112,  0.15228388, -0.20736687,  0.08331767, -0.14498761,\n       -0.04855457,  0.4348261 ,  0.19804247,  0.19804247,  0.19804247,\n        0.3729646 ,  0.14209574,  0.18778299,  0.18854119,  0.1312511 ],\n      dtype=float32)"
     },
     "execution_count": 42,
     "metadata": {},
     "output_type": "execute_result"
    }
   ],
   "source": [
    "# Let's say I want to compute the prediction for a group of user-item pairs, for simplicity I will use a slice of the data used\n",
    "# for training because it already contains all the features\n",
    "X_to_predict = X_train[X_train[\"UserID\"] == 10]\n",
    "\n",
    "XGB_model.predict(X_to_predict)"
   ]
  },
  {
   "cell_type": "markdown",
   "metadata": {},
   "source": [
    "### We can have a look to the feature importance to assess which are the most informative ones"
   ]
  },
  {
   "cell_type": "code",
   "execution_count": 43,
   "metadata": {
    "ExecuteTime": {
     "end_time": "2023-12-01T21:23:46.740015Z",
     "start_time": "2023-12-01T21:23:46.422403Z"
    }
   },
   "outputs": [
    {
     "data": {
      "text/plain": "<Axes: title={'center': 'Weight (Frequence)'}, xlabel='F score', ylabel='Features'>"
     },
     "execution_count": 43,
     "metadata": {},
     "output_type": "execute_result"
    },
    {
     "data": {
      "text/plain": "<Figure size 640x480 with 1 Axes>",
      "image/png": "[encoded data removed]"
     },
     "metadata": {},
     "output_type": "display_data"
    }
   ],
   "source": [
    "plot_importance(XGB_model, importance_type='weight', title='Weight (Frequence)')"
   ]
  },
  {
   "cell_type": "markdown",
   "metadata": {},
   "source": [
    "### Note, here ItemID and UserID are provided as integers, meaning that XGBoost will use them as any integer number and may split user groups according to whether their ID is < or > of a certain value. This makes no sense of course because the IDs are not ordinal, they are categorical and the specific numerical value of an IDs has no relation with the semantics of the problem. \n",
    "\n",
    "How to address this? \n",
    "- Use one-hot-encoded values -> drawback, the number of columns becomes very large\n",
    "- Use the native \"Categorical\" data type -> drawback, it is still experimental and may not work very well\n",
    "- Use another representation of the IDs, such as target encoding -> drawback, some further processing is needed and no teaching material is provided on this"
   ]
  },
  {
   "cell_type": "code",
   "execution_count": 44,
   "metadata": {
    "ExecuteTime": {
     "end_time": "2023-12-01T21:24:56.385042Z",
     "start_time": "2023-12-01T21:24:56.347708Z"
    }
   },
   "outputs": [],
   "source": [
    "X_train[\"UserID\"] = X_train[\"UserID\"].astype(\"category\")\n",
    "X_train[\"ItemID\"] = X_train[\"ItemID\"].astype(\"category\")"
   ]
  },
  {
   "cell_type": "code",
   "execution_count": 45,
   "metadata": {
    "ExecuteTime": {
     "end_time": "2023-12-01T21:25:02.238758Z",
     "start_time": "2023-12-01T21:24:59.774513Z"
    }
   },
   "outputs": [
    {
     "data": {
      "text/plain": "XGBRanker(base_score=None, booster='gbtree', callbacks=None,\n          colsample_bylevel=None, colsample_bynode=None, colsample_bytree=None,\n          device=None, early_stopping_rounds=None, enable_categorical=True,\n          eval_metric=None, feature_types=None, gamma=None,\n          grow_policy='depthwise', importance_type=None,\n          interaction_constraints=None, learning_rate=0.1, max_bin=None,\n          max_cat_threshold=None, max_cat_to_onehot=None, max_delta_step=None,\n          max_depth=5, max_leaves=0, min_child_weight=None, missing=nan,\n          monotone_constraints=None, multi_strategy=None, n_estimators=50,\n          n_jobs=None, num_parallel_tree=None, objective='rank:pairwise', ...)",
      "text/html": "<style>#sk-container-id-2 {color: black;}#sk-container-id-2 pre{padding: 0;}#sk-container-id-2 div.sk-toggleable {background-color: white;}#sk-container-id-2 label.sk-toggleable__label {cursor: pointer;display: block;width: 100%;margin-bottom: 0;padding: 0.3em;box-sizing: border-box;text-align: center;}#sk-container-id-2 label.sk-toggleable__label-arrow:before {content: \"▸\";float: left;margin-right: 0.25em;color: #696969;}#sk-container-id-2 label.sk-toggleable__label-arrow:hover:before {color: black;}#sk-container-id-2 div.sk-estimator:hover label.sk-toggleable__label-arrow:before {color: black;}#sk-container-id-2 div.sk-toggleable__content {max-height: 0;max-width: 0;overflow: hidden;text-align: left;background-color: #f0f8ff;}#sk-container-id-2 div.sk-toggleable__content pre {margin: 0.2em;color: black;border-radius: 0.25em;background-color: #f0f8ff;}#sk-container-id-2 input.sk-toggleable__control:checked~div.sk-toggleable__content {max-height: 200px;max-width: 100%;overflow: auto;}#sk-container-id-2 input.sk-toggleable__control:checked~label.sk-toggleable__label-arrow:before {content: \"▾\";}#sk-container-id-2 div.sk-estimator input.sk-toggleable__control:checked~label.sk-toggleable__label {background-color: #d4ebff;}#sk-container-id-2 div.sk-label input.sk-toggleable__control:checked~label.sk-toggleable__label {background-color: #d4ebff;}#sk-container-id-2 input.sk-hidden--visually {border: 0;clip: rect(1px 1px 1px 1px);clip: rect(1px, 1px, 1px, 1px);height: 1px;margin: -1px;overflow: hidden;padding: 0;position: absolute;width: 1px;}#sk-container-id-2 div.sk-estimator {font-family: monospace;background-color: #f0f8ff;border: 1px dotted black;border-radius: 0.25em;box-sizing: border-box;margin-bottom: 0.5em;}#sk-container-id-2 div.sk-estimator:hover {background-color: #d4ebff;}#sk-container-id-2 div.sk-parallel-item::after {content: \"\";width: 100%;border-bottom: 1px solid gray;flex-grow: 1;}#sk-container-id-2 div.sk-label:hover label.sk-toggleable__label {background-color: #d4ebff;}#sk-container-id-2 div.sk-serial::before {content: \"\";position: absolute;border-left: 1px solid gray;box-sizing: border-box;top: 0;bottom: 0;left: 50%;z-index: 0;}#sk-container-id-2 div.sk-serial {display: flex;flex-direction: column;align-items: center;background-color: white;padding-right: 0.2em;padding-left: 0.2em;position: relative;}#sk-container-id-2 div.sk-item {position: relative;z-index: 1;}#sk-container-id-2 div.sk-parallel {display: flex;align-items: stretch;justify-content: center;background-color: white;position: relative;}#sk-container-id-2 div.sk-item::before, #sk-container-id-2 div.sk-parallel-item::before {content: \"\";position: absolute;border-left: 1px solid gray;box-sizing: border-box;top: 0;bottom: 0;left: 50%;z-index: -1;}#sk-container-id-2 div.sk-parallel-item {display: flex;flex-direction: column;z-index: 1;position: relative;background-color: white;}#sk-container-id-2 div.sk-parallel-item:first-child::after {align-self: flex-end;width: 50%;}#sk-container-id-2 div.sk-parallel-item:last-child::after {align-self: flex-start;width: 50%;}#sk-container-id-2 div.sk-parallel-item:only-child::after {width: 0;}#sk-container-id-2 div.sk-dashed-wrapped {border: 1px dashed gray;margin: 0 0.4em 0.5em 0.4em;box-sizing: border-box;padding-bottom: 0.4em;background-color: white;}#sk-container-id-2 div.sk-label label {font-family: monospace;font-weight: bold;display: inline-block;line-height: 1.2em;}#sk-container-id-2 div.sk-label-container {text-align: center;}#sk-container-id-2 div.sk-container {/* jupyter's `normalize.less` sets `[hidden] { display: none; }` but bootstrap.min.css set `[hidden] { display: none !important; }` so we also need the `!important` here to be able to override the default hidden behavior on the sphinx rendered scikit-learn.org. See: https://github.com/scikit-learn/scikit-learn/issues/21755 */display: inline-block !important;position: relative;}#sk-container-id-2 div.sk-text-repr-fallback {display: none;}</style><div id=\"sk-container-id-2\" class=\"sk-top-container\"><div class=\"sk-text-repr-fallback\"><pre>XGBRanker(base_score=None, booster=&#x27;gbtree&#x27;, callbacks=None,\n          colsample_bylevel=None, colsample_bynode=None, colsample_bytree=None,\n          device=None, early_stopping_rounds=None, enable_categorical=True,\n          eval_metric=None, feature_types=None, gamma=None,\n          grow_policy=&#x27;depthwise&#x27;, importance_type=None,\n          interaction_constraints=None, learning_rate=0.1, max_bin=None,\n          max_cat_threshold=None, max_cat_to_onehot=None, max_delta_step=None,\n          max_depth=5, max_leaves=0, min_child_weight=None, missing=nan,\n          monotone_constraints=None, multi_strategy=None, n_estimators=50,\n          n_jobs=None, num_parallel_tree=None, objective=&#x27;rank:pairwise&#x27;, ...)</pre><b>In a Jupyter environment, please rerun this cell to show the HTML representation or trust the notebook. <br />On GitHub, the HTML representation is unable to render, please try loading this page with nbviewer.org.</b></div><div class=\"sk-container\" hidden><div class=\"sk-item\"><div class=\"sk-estimator sk-toggleable\"><input class=\"sk-toggleable__control sk-hidden--visually\" id=\"sk-estimator-id-2\" type=\"checkbox\" checked><label for=\"sk-estimator-id-2\" class=\"sk-toggleable__label sk-toggleable__label-arrow\">XGBRanker</label><div class=\"sk-toggleable__content\"><pre>XGBRanker(base_score=None, booster=&#x27;gbtree&#x27;, callbacks=None,\n          colsample_bylevel=None, colsample_bynode=None, colsample_bytree=None,\n          device=None, early_stopping_rounds=None, enable_categorical=True,\n          eval_metric=None, feature_types=None, gamma=None,\n          grow_policy=&#x27;depthwise&#x27;, importance_type=None,\n          interaction_constraints=None, learning_rate=0.1, max_bin=None,\n          max_cat_threshold=None, max_cat_to_onehot=None, max_delta_step=None,\n          max_depth=5, max_leaves=0, min_child_weight=None, missing=nan,\n          monotone_constraints=None, multi_strategy=None, n_estimators=50,\n          n_jobs=None, num_parallel_tree=None, objective=&#x27;rank:pairwise&#x27;, ...)</pre></div></div></div></div></div>"
     },
     "execution_count": 45,
     "metadata": {},
     "output_type": "execute_result"
    }
   ],
   "source": [
    "XGB_model = XGBRanker(objective='rank:{}'.format(objective),\n",
    "                      n_estimators = int(n_estimators),\n",
    "                      random_state = random_seed,\n",
    "                      learning_rate = learning_rate,\n",
    "                      reg_alpha = reg_alpha,\n",
    "                      reg_lambda = reg_lambda,\n",
    "                      max_depth = int(max_depth),\n",
    "                      max_leaves = int(max_leaves),\n",
    "                      grow_policy = grow_policy,\n",
    "                      verbosity = 0, # 2 if self.verbose else 0,\n",
    "                      booster = booster,\n",
    "                      enable_categorical = True,\n",
    "                      tree_method = \"hist\",  # Supported tree methods are `gpu_hist`, `approx`, and `hist`.\n",
    "                      )\n",
    "\n",
    "XGB_model.fit(X_train,\n",
    "          y_train,\n",
    "          group=groups,\n",
    "          verbose=True)"
   ]
  },
  {
   "cell_type": "code",
   "execution_count": 46,
   "metadata": {
    "ExecuteTime": {
     "end_time": "2023-12-01T21:25:04.554284Z",
     "start_time": "2023-12-01T21:25:04.518632Z"
    }
   },
   "outputs": [
    {
     "data": {
      "text/plain": "array([ 0.11372588, -0.16833682, -0.19006275,  0.06004903, -0.02878875,\n       -0.07479855,  0.10717294,  0.05478696,  0.06488095, -0.017274  ,\n        0.05478696,  0.16163704,  0.12365691,  0.12365691,  0.12365691,\n        0.12365691,  0.12365691,  0.12365691,  0.08391649,  0.12365691],\n      dtype=float32)"
     },
     "execution_count": 46,
     "metadata": {},
     "output_type": "execute_result"
    }
   ],
   "source": [
    "X_to_predict = X_train[X_train[\"UserID\"] == 10]\n",
    "\n",
    "XGB_model.predict(X_to_predict)"
   ]
  },
  {
   "cell_type": "code",
   "execution_count": 47,
   "metadata": {
    "scrolled": false,
    "ExecuteTime": {
     "end_time": "2023-12-01T21:25:09.427641Z",
     "start_time": "2023-12-01T21:25:09.248883Z"
    }
   },
   "outputs": [
    {
     "data": {
      "text/plain": "<Axes: title={'center': 'Weight (Frequence)'}, xlabel='F score', ylabel='Features'>"
     },
     "execution_count": 47,
     "metadata": {},
     "output_type": "execute_result"
    },
    {
     "data": {
      "text/plain": "<Figure size 640x480 with 1 Axes>",
      "image/png": "[encoded data removed]"
     },
     "metadata": {},
     "output_type": "display_data"
    }
   ],
   "source": [
    "plot_importance(XGB_model, importance_type='weight', title='Weight (Frequence)')"
   ]
  },
  {
   "cell_type": "markdown",
   "metadata": {},
   "source": [
    "### How to perform hyperparameter tuning?\n",
    "The issue with this method is that you need a label which should be an item the user has not interacted with but that is a correct recommendation. In practice the idea is:\n",
    "- Split the data in the usual training-validation-test\n",
    "- Split the training data in two: one part you use to train the recommenders and another you use as the hidden Label to train XGBoost\n",
    "- Evaluate your predictions on the validation data as you did for any other recommender model. Use this to select the optimal hyperparameters.\n",
    "- Given the selected hyperparameters, train the recommender models on all the available data and use all the available data to compute the features used by XGBoost.\n",
    "\n",
    "Challenge: Since the label we use for training XGBoost is the split of a split, it may happen that the actual correct recommendations are very few. This will result in a problem that is very unbalanced towards zero and will make the training difficult and the evaluation noisy. To mitigate this you may use k-fold cross validation and define the valdation result of a certain hyperparameter configuration as the average obtained with k different training-label splits."
   ]
  },
  {
   "cell_type": "code",
   "execution_count": null,
   "metadata": {},
   "outputs": [],
   "source": []
  }
 ],
 "metadata": {
  "kernelspec": {
   "display_name": "Python 3 (ipykernel)",
   "language": "python",
   "name": "python3"
  },
  "language_info": {
   "codemirror_mode": {
    "name": "ipython",
    "version": 3
   },
   "file_extension": ".py",
   "mimetype": "text/x-python",
   "name": "python",
   "nbconvert_exporter": "python",
   "pygments_lexer": "ipython3",
   "version": "3.8.12"
  }
 },
 "nbformat": 4,
 "nbformat_minor": 2
}
