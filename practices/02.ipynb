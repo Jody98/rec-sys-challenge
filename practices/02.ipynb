{
 "cells": [
  {
   "cell_type": "code",
   "execution_count": 44,
   "id": "initial_id",
   "metadata": {
    "ExecuteTime": {
     "end_time": "2023-10-12T12:11:45.252783Z",
     "start_time": "2023-10-12T12:11:45.236084Z"
    },
    "collapsed": true
   },
   "outputs": [],
   "source": [
    "from urllib.request import urlretrieve\n",
    "import zipfile, os"
   ]
  },
  {
   "cell_type": "code",
   "execution_count": 45,
   "id": "3b5ff3e431b4c9be",
   "metadata": {
    "ExecuteTime": {
     "end_time": "2023-10-12T12:11:47.651419Z",
     "start_time": "2023-10-12T12:11:47.627834Z"
    },
    "collapsed": false
   },
   "outputs": [],
   "source": [
    "data_file_path = \"data_manager_split_datasets/Movielens10M/\"\n",
    "data_file_name = data_file_path + \"movielens_10m.zip\"\n",
    "\n",
    "if not os.path.exists(data_file_path):\n",
    "    os.makedirs(data_file_path)\n",
    "    \n",
    "if not os.path.exists(data_file_name):\n",
    "    urlretrieve(\"http://files.grouplens.org/datasets/movielens/ml-10m.zip\", data_file_name)"
   ]
  },
  {
   "cell_type": "code",
   "execution_count": 46,
   "id": "27cc6f62e683d30d",
   "metadata": {
    "ExecuteTime": {
     "end_time": "2023-10-12T12:11:51.958620Z",
     "start_time": "2023-10-12T12:11:50.576087Z"
    },
    "collapsed": false
   },
   "outputs": [],
   "source": [
    "data_file = zipfile.ZipFile(data_file_name)\n",
    "URM_path = data_file.extract(\"ml-10M100K/ratings.dat\", path=data_file_path + \"decompressed/\")\n",
    "URM_file = open(URM_path, 'r')"
   ]
  },
  {
   "cell_type": "code",
   "execution_count": 47,
   "id": "6e09385b03a71703",
   "metadata": {
    "ExecuteTime": {
     "end_time": "2023-10-12T12:11:52.595663Z",
     "start_time": "2023-10-12T12:11:52.579952Z"
    },
    "collapsed": false
   },
   "outputs": [
    {
     "data": {
      "text/plain": [
       "_io.TextIOWrapper"
      ]
     },
     "execution_count": 47,
     "metadata": {},
     "output_type": "execute_result"
    }
   ],
   "source": [
    "type(URM_file)"
   ]
  },
  {
   "cell_type": "code",
   "execution_count": 48,
   "id": "932ea164ca069ece",
   "metadata": {
    "ExecuteTime": {
     "end_time": "2023-10-12T12:11:57.308917Z",
     "start_time": "2023-10-12T12:11:55.940003Z"
    },
    "collapsed": false
   },
   "outputs": [],
   "source": [
    "import pandas as pd"
   ]
  },
  {
   "cell_type": "code",
   "execution_count": 49,
   "id": "4840f23798906198",
   "metadata": {
    "ExecuteTime": {
     "end_time": "2023-10-12T12:12:49.079019Z",
     "start_time": "2023-10-12T12:11:58.000652Z"
    },
    "collapsed": false
   },
   "outputs": [],
   "source": [
    "URM_all_dataframe = pd.read_csv(filepath_or_buffer=URM_path,\n",
    "                                sep='::',\n",
    "                                header=None,\n",
    "                                dtype={0:int, 1:int, 2:float, 3:int},\n",
    "                                engine='python')\n",
    "URM_all_dataframe.columns = ['UserID', 'ItemID', 'Interaction', 'Timestamp']"
   ]
  },
  {
   "cell_type": "code",
   "execution_count": 50,
   "id": "5a5f7ef2af8ad0c5",
   "metadata": {
    "ExecuteTime": {
     "end_time": "2023-10-12T12:12:52.790846Z",
     "start_time": "2023-10-12T12:12:52.729249Z"
    },
    "collapsed": false
   },
   "outputs": [
    {
     "data": {
      "text/html": [
       "<div>\n",
       "<style scoped>\n",
       "    .dataframe tbody tr th:only-of-type {\n",
       "        vertical-align: middle;\n",
       "    }\n",
       "\n",
       "    .dataframe tbody tr th {\n",
       "        vertical-align: top;\n",
       "    }\n",
       "\n",
       "    .dataframe thead th {\n",
       "        text-align: right;\n",
       "    }\n",
       "</style>\n",
       "<table border=\"1\" class=\"dataframe\">\n",
       "  <thead>\n",
       "    <tr style=\"text-align: right;\">\n",
       "      <th></th>\n",
       "      <th>UserID</th>\n",
       "      <th>ItemID</th>\n",
       "      <th>Interaction</th>\n",
       "      <th>Timestamp</th>\n",
       "    </tr>\n",
       "  </thead>\n",
       "  <tbody>\n",
       "    <tr>\n",
       "      <th>0</th>\n",
       "      <td>1</td>\n",
       "      <td>122</td>\n",
       "      <td>5.0</td>\n",
       "      <td>838985046</td>\n",
       "    </tr>\n",
       "    <tr>\n",
       "      <th>1</th>\n",
       "      <td>1</td>\n",
       "      <td>185</td>\n",
       "      <td>5.0</td>\n",
       "      <td>838983525</td>\n",
       "    </tr>\n",
       "    <tr>\n",
       "      <th>2</th>\n",
       "      <td>1</td>\n",
       "      <td>231</td>\n",
       "      <td>5.0</td>\n",
       "      <td>838983392</td>\n",
       "    </tr>\n",
       "    <tr>\n",
       "      <th>3</th>\n",
       "      <td>1</td>\n",
       "      <td>292</td>\n",
       "      <td>5.0</td>\n",
       "      <td>838983421</td>\n",
       "    </tr>\n",
       "    <tr>\n",
       "      <th>4</th>\n",
       "      <td>1</td>\n",
       "      <td>316</td>\n",
       "      <td>5.0</td>\n",
       "      <td>838983392</td>\n",
       "    </tr>\n",
       "  </tbody>\n",
       "</table>\n",
       "</div>"
      ],
      "text/plain": [
       "   UserID  ItemID  Interaction  Timestamp\n",
       "0       1     122          5.0  838985046\n",
       "1       1     185          5.0  838983525\n",
       "2       1     231          5.0  838983392\n",
       "3       1     292          5.0  838983421\n",
       "4       1     316          5.0  838983392"
      ]
     },
     "execution_count": 50,
     "metadata": {},
     "output_type": "execute_result"
    }
   ],
   "source": [
    "URM_all_dataframe.head()"
   ]
  },
  {
   "cell_type": "code",
   "execution_count": 51,
   "id": "53d42f801d1b5b72",
   "metadata": {
    "ExecuteTime": {
     "end_time": "2023-10-12T12:12:55.148365Z",
     "start_time": "2023-10-12T12:12:54.956404Z"
    },
    "collapsed": false
   },
   "outputs": [
    {
     "name": "stdout",
     "output_type": "stream",
     "text": [
      "Number of items\t 10677, Number of users\t 69878\n",
      "Number of interactions\t 10000054\n",
      "Max value of UserID\t 71567, Max value of ItemID\t 65133\n"
     ]
    }
   ],
   "source": [
    "print(\"Number of items\\t {}, Number of users\\t {}\".format(len(URM_all_dataframe['ItemID'].unique()), len(URM_all_dataframe['UserID'].unique())))\n",
    "print(\"Number of interactions\\t {}\".format(URM_all_dataframe['Interaction'].count()))\n",
    "print(\"Max value of UserID\\t {}, Max value of ItemID\\t {}\".format(URM_all_dataframe['UserID'].max(), URM_all_dataframe['ItemID'].max()))"
   ]
  },
  {
   "cell_type": "code",
   "execution_count": 52,
   "id": "5c2af79061ad7843",
   "metadata": {
    "ExecuteTime": {
     "end_time": "2023-10-12T12:12:56.626182Z",
     "start_time": "2023-10-12T12:12:56.453961Z"
    },
    "collapsed": false
   },
   "outputs": [],
   "source": [
    "mapped_id, original_id = pd.factorize(URM_all_dataframe['UserID'].unique())\n",
    "user_original_ID_to_index = pd.Series(data=mapped_id, index=original_id)\n",
    "\n",
    "mapped_id, original_id = pd.factorize(URM_all_dataframe['ItemID'].unique())\n",
    "item_original_ID_to_index = pd.Series(data=mapped_id, index=original_id)"
   ]
  },
  {
   "cell_type": "code",
   "execution_count": 53,
   "id": "5674022ec709fec1",
   "metadata": {
    "ExecuteTime": {
     "end_time": "2023-10-12T12:12:59.032893Z",
     "start_time": "2023-10-12T12:12:58.589677Z"
    },
    "collapsed": false
   },
   "outputs": [],
   "source": [
    "URM_all_dataframe['UserID'] = URM_all_dataframe['UserID'].map(user_original_ID_to_index)\n",
    "URM_all_dataframe['ItemID'] = URM_all_dataframe['ItemID'].map(item_original_ID_to_index)"
   ]
  },
  {
   "cell_type": "code",
   "execution_count": 54,
   "id": "9b0ab449e049bea2",
   "metadata": {
    "ExecuteTime": {
     "end_time": "2023-10-12T12:12:59.595570Z",
     "start_time": "2023-10-12T12:12:59.585687Z"
    },
    "collapsed": false
   },
   "outputs": [
    {
     "data": {
      "text/html": [
       "<div>\n",
       "<style scoped>\n",
       "    .dataframe tbody tr th:only-of-type {\n",
       "        vertical-align: middle;\n",
       "    }\n",
       "\n",
       "    .dataframe tbody tr th {\n",
       "        vertical-align: top;\n",
       "    }\n",
       "\n",
       "    .dataframe thead th {\n",
       "        text-align: right;\n",
       "    }\n",
       "</style>\n",
       "<table border=\"1\" class=\"dataframe\">\n",
       "  <thead>\n",
       "    <tr style=\"text-align: right;\">\n",
       "      <th></th>\n",
       "      <th>UserID</th>\n",
       "      <th>ItemID</th>\n",
       "      <th>Interaction</th>\n",
       "      <th>Timestamp</th>\n",
       "    </tr>\n",
       "  </thead>\n",
       "  <tbody>\n",
       "    <tr>\n",
       "      <th>0</th>\n",
       "      <td>0</td>\n",
       "      <td>0</td>\n",
       "      <td>5.0</td>\n",
       "      <td>838985046</td>\n",
       "    </tr>\n",
       "    <tr>\n",
       "      <th>1</th>\n",
       "      <td>0</td>\n",
       "      <td>1</td>\n",
       "      <td>5.0</td>\n",
       "      <td>838983525</td>\n",
       "    </tr>\n",
       "    <tr>\n",
       "      <th>2</th>\n",
       "      <td>0</td>\n",
       "      <td>2</td>\n",
       "      <td>5.0</td>\n",
       "      <td>838983392</td>\n",
       "    </tr>\n",
       "    <tr>\n",
       "      <th>3</th>\n",
       "      <td>0</td>\n",
       "      <td>3</td>\n",
       "      <td>5.0</td>\n",
       "      <td>838983421</td>\n",
       "    </tr>\n",
       "    <tr>\n",
       "      <th>4</th>\n",
       "      <td>0</td>\n",
       "      <td>4</td>\n",
       "      <td>5.0</td>\n",
       "      <td>838983392</td>\n",
       "    </tr>\n",
       "    <tr>\n",
       "      <th>5</th>\n",
       "      <td>0</td>\n",
       "      <td>5</td>\n",
       "      <td>5.0</td>\n",
       "      <td>838983392</td>\n",
       "    </tr>\n",
       "    <tr>\n",
       "      <th>6</th>\n",
       "      <td>0</td>\n",
       "      <td>6</td>\n",
       "      <td>5.0</td>\n",
       "      <td>838984474</td>\n",
       "    </tr>\n",
       "    <tr>\n",
       "      <th>7</th>\n",
       "      <td>0</td>\n",
       "      <td>7</td>\n",
       "      <td>5.0</td>\n",
       "      <td>838983653</td>\n",
       "    </tr>\n",
       "    <tr>\n",
       "      <th>8</th>\n",
       "      <td>0</td>\n",
       "      <td>8</td>\n",
       "      <td>5.0</td>\n",
       "      <td>838984885</td>\n",
       "    </tr>\n",
       "    <tr>\n",
       "      <th>9</th>\n",
       "      <td>0</td>\n",
       "      <td>9</td>\n",
       "      <td>5.0</td>\n",
       "      <td>838983707</td>\n",
       "    </tr>\n",
       "    <tr>\n",
       "      <th>10</th>\n",
       "      <td>0</td>\n",
       "      <td>10</td>\n",
       "      <td>5.0</td>\n",
       "      <td>838984596</td>\n",
       "    </tr>\n",
       "    <tr>\n",
       "      <th>11</th>\n",
       "      <td>0</td>\n",
       "      <td>11</td>\n",
       "      <td>5.0</td>\n",
       "      <td>838983834</td>\n",
       "    </tr>\n",
       "    <tr>\n",
       "      <th>12</th>\n",
       "      <td>0</td>\n",
       "      <td>12</td>\n",
       "      <td>5.0</td>\n",
       "      <td>838983834</td>\n",
       "    </tr>\n",
       "    <tr>\n",
       "      <th>13</th>\n",
       "      <td>0</td>\n",
       "      <td>13</td>\n",
       "      <td>5.0</td>\n",
       "      <td>838984679</td>\n",
       "    </tr>\n",
       "    <tr>\n",
       "      <th>14</th>\n",
       "      <td>0</td>\n",
       "      <td>14</td>\n",
       "      <td>5.0</td>\n",
       "      <td>838983653</td>\n",
       "    </tr>\n",
       "    <tr>\n",
       "      <th>15</th>\n",
       "      <td>0</td>\n",
       "      <td>15</td>\n",
       "      <td>5.0</td>\n",
       "      <td>838984679</td>\n",
       "    </tr>\n",
       "    <tr>\n",
       "      <th>16</th>\n",
       "      <td>0</td>\n",
       "      <td>16</td>\n",
       "      <td>5.0</td>\n",
       "      <td>838984068</td>\n",
       "    </tr>\n",
       "    <tr>\n",
       "      <th>17</th>\n",
       "      <td>0</td>\n",
       "      <td>17</td>\n",
       "      <td>5.0</td>\n",
       "      <td>838984068</td>\n",
       "    </tr>\n",
       "    <tr>\n",
       "      <th>18</th>\n",
       "      <td>0</td>\n",
       "      <td>18</td>\n",
       "      <td>5.0</td>\n",
       "      <td>838983339</td>\n",
       "    </tr>\n",
       "    <tr>\n",
       "      <th>19</th>\n",
       "      <td>0</td>\n",
       "      <td>19</td>\n",
       "      <td>5.0</td>\n",
       "      <td>838983778</td>\n",
       "    </tr>\n",
       "  </tbody>\n",
       "</table>\n",
       "</div>"
      ],
      "text/plain": [
       "    UserID  ItemID  Interaction  Timestamp\n",
       "0        0       0          5.0  838985046\n",
       "1        0       1          5.0  838983525\n",
       "2        0       2          5.0  838983392\n",
       "3        0       3          5.0  838983421\n",
       "4        0       4          5.0  838983392\n",
       "5        0       5          5.0  838983392\n",
       "6        0       6          5.0  838984474\n",
       "7        0       7          5.0  838983653\n",
       "8        0       8          5.0  838984885\n",
       "9        0       9          5.0  838983707\n",
       "10       0      10          5.0  838984596\n",
       "11       0      11          5.0  838983834\n",
       "12       0      12          5.0  838983834\n",
       "13       0      13          5.0  838984679\n",
       "14       0      14          5.0  838983653\n",
       "15       0      15          5.0  838984679\n",
       "16       0      16          5.0  838984068\n",
       "17       0      17          5.0  838984068\n",
       "18       0      18          5.0  838983339\n",
       "19       0      19          5.0  838983778"
      ]
     },
     "execution_count": 54,
     "metadata": {},
     "output_type": "execute_result"
    }
   ],
   "source": [
    "URM_all_dataframe.head(n=20)"
   ]
  },
  {
   "cell_type": "code",
   "execution_count": 55,
   "id": "ac6399808dcb48dc",
   "metadata": {
    "ExecuteTime": {
     "end_time": "2023-10-12T12:13:00.994605Z",
     "start_time": "2023-10-12T12:13:00.849753Z"
    },
    "collapsed": false
   },
   "outputs": [
    {
     "name": "stdout",
     "output_type": "stream",
     "text": [
      "Number of items\t 10677, Number of users\t 69878\n",
      "Max value of UserID\t 69877, Max value of ItemID\t 10676\n",
      "Number of interactions\t 10000054\n",
      "Average interactions per user 143.11\n",
      "Average interactions per item 936.60\n",
      "Sparsity 98.66 %\n"
     ]
    }
   ],
   "source": [
    "userID_unique = URM_all_dataframe['UserID'].unique()\n",
    "itemID_unique = URM_all_dataframe['ItemID'].unique()\n",
    "\n",
    "n_users = len(userID_unique)\n",
    "n_items = len(itemID_unique)\n",
    "n_interactions = len(URM_all_dataframe)\n",
    "\n",
    "print(\"Number of items\\t {}, Number of users\\t {}\".format(n_items, n_users))\n",
    "print(\"Max value of UserID\\t {}, Max value of ItemID\\t {}\".format(userID_unique.max(), itemID_unique.max()))\n",
    "print(\"Number of interactions\\t {}\".format(n_interactions))\n",
    "\n",
    "print(\"Average interactions per user {:.2f}\\nAverage interactions per item {:.2f}\".format(n_interactions/n_users, n_interactions/n_items))\n",
    "\n",
    "print(\"Sparsity {:.2f} %\".format((1 - n_interactions/(n_users*n_items))*100))"
   ]
  },
  {
   "cell_type": "code",
   "execution_count": 56,
   "id": "47aeac750521e9ef",
   "metadata": {
    "ExecuteTime": {
     "end_time": "2023-10-12T12:16:25.047019Z",
     "start_time": "2023-10-12T12:16:08.056804Z"
    },
    "collapsed": false
   },
   "outputs": [
    {
     "data": {
      "image/png": "[encoded data removed]",
      "text/plain": [
       "<Figure size 640x480 with 1 Axes>"
      ]
     },
     "metadata": {},
     "output_type": "display_data"
    }
   ],
   "source": [
    "import matplotlib.pyplot as pyplot\n",
    "\n",
    "timestamp_sorted = URM_all_dataframe['Timestamp'].values.copy()\n",
    "timestamp_sorted.sort()\n",
    "\n",
    "pyplot.plot(timestamp_sorted, 'ro')\n",
    "pyplot.ylabel('Timestamp')\n",
    "pyplot.xlabel('Sorted Item')\n",
    "pyplot.show()"
   ]
  },
  {
   "cell_type": "code",
   "execution_count": 57,
   "id": "a1bcc06b308b5b7d",
   "metadata": {
    "ExecuteTime": {
     "end_time": "2023-10-12T12:17:24.108500Z",
     "start_time": "2023-10-12T12:17:16.344555Z"
    },
    "collapsed": false
   },
   "outputs": [],
   "source": [
    "import scipy.sparse as sps\n",
    "\n",
    "URM_all = sps.coo_matrix((URM_all_dataframe['Interaction'].values, (URM_all_dataframe['UserID'].values, URM_all_dataframe['ItemID'].values)))\n",
    "URM_all = URM_all.tocsr()"
   ]
  },
  {
   "cell_type": "code",
   "execution_count": 58,
   "id": "b4c66c896187e23e",
   "metadata": {
    "ExecuteTime": {
     "end_time": "2023-10-12T12:18:47.260885Z",
     "start_time": "2023-10-12T12:18:46.932567Z"
    },
    "collapsed": false
   },
   "outputs": [
    {
     "data": {
      "image/png": "[encoded data removed]",
      "text/plain": [
       "<Figure size 640x480 with 1 Axes>"
      ]
     },
     "metadata": {},
     "output_type": "display_data"
    }
   ],
   "source": [
    "import numpy as np\n",
    "\n",
    "item_popularity = np.ediff1d(URM_all.tocsc().indptr)\n",
    "item_popularity = np.sort(item_popularity)\n",
    "\n",
    "pyplot.plot(item_popularity, 'ro')\n",
    "pyplot.ylabel('Num Interactions ')\n",
    "pyplot.xlabel('Item Index Sorted by Popularity')\n",
    "pyplot.show()"
   ]
  },
  {
   "cell_type": "code",
   "execution_count": 59,
   "id": "e63efa6410373eec",
   "metadata": {
    "ExecuteTime": {
     "end_time": "2023-10-12T13:41:18.131331Z",
     "start_time": "2023-10-12T13:41:18.094860Z"
    },
    "collapsed": false
   },
   "outputs": [
    {
     "name": "stdout",
     "output_type": "stream",
     "text": [
      "Average per-item interactions over the whole dataset 936.60\n",
      "\n",
      "Average per-item interactions for the top 10% popular items 6479.52\n",
      "\n",
      "Average per-item interactions for the least 10% popular items 5.23\n",
      "\n",
      "Average per-item interactions for the median 10% popular items 136.48\n"
     ]
    }
   ],
   "source": [
    "ten_percent = int(n_items/10)\n",
    "\n",
    "print(\"Average per-item interactions over the whole dataset {:.2f}\\n\".format(item_popularity.mean()))\n",
    "print(\"Average per-item interactions for the top 10% popular items {:.2f}\\n\".format(item_popularity[-ten_percent:].mean()))\n",
    "print(\"Average per-item interactions for the least 10% popular items {:.2f}\\n\".format(item_popularity[:ten_percent].mean()))\n",
    "print(\"Average per-item interactions for the median 10% popular items {:.2f}\\n\".format(item_popularity[int(n_items/2-ten_percent/2):int(n_items/2+ten_percent/2)].mean()))"
   ]
  },
  {
   "cell_type": "code",
   "execution_count": 60,
   "id": "afa88bd36380671b",
   "metadata": {
    "ExecuteTime": {
     "end_time": "2023-10-12T13:41:54.419963Z",
     "start_time": "2023-10-12T13:41:54.382465Z"
    },
    "collapsed": false
   },
   "outputs": [
    {
     "name": "stdout",
     "output_type": "stream",
     "text": [
      "Number of items with zero interactions 0 out of 10677\n"
     ]
    }
   ],
   "source": [
    "print(\"Number of items with zero interactions {} out of {}\".format(np.sum(item_popularity==0), n_items))"
   ]
  },
  {
   "cell_type": "code",
   "execution_count": 61,
   "id": "99b9be63f99ed9e3",
   "metadata": {
    "ExecuteTime": {
     "end_time": "2023-10-12T13:43:20.199483Z",
     "start_time": "2023-10-12T13:43:19.939192Z"
    },
    "collapsed": false
   },
   "outputs": [
    {
     "data": {
      "image/png": "[encoded data removed]",
      "text/plain": [
       "<Figure size 640x480 with 1 Axes>"
      ]
     },
     "metadata": {},
     "output_type": "display_data"
    }
   ],
   "source": [
    "user_activity = np.ediff1d(URM_all.tocsr().indptr)\n",
    "user_activity = np.sort(user_activity)\n",
    "\n",
    "pyplot.plot(user_activity, 'ro')\n",
    "pyplot.ylabel('Num Interactions ')\n",
    "pyplot.xlabel('User Index Sorted by Popularity')\n",
    "pyplot.show()"
   ]
  },
  {
   "cell_type": "code",
   "execution_count": 62,
   "id": "6587a9327dd1caeb",
   "metadata": {
    "ExecuteTime": {
     "end_time": "2023-10-12T13:46:11.313826Z",
     "start_time": "2023-10-12T13:46:10.799620Z"
    },
    "collapsed": false
   },
   "outputs": [],
   "source": [
    "train_test_split = 0.8\n",
    "\n",
    "n_interactions = URM_all.nnz\n",
    "\n",
    "train_mask = np.random.choice([True,False], n_interactions, p=[train_test_split, 1-train_test_split])"
   ]
  },
  {
   "cell_type": "code",
   "execution_count": 63,
   "id": "19fae412f2c144fa",
   "metadata": {
    "ExecuteTime": {
     "end_time": "2023-10-12T13:56:55.424210Z",
     "start_time": "2023-10-12T13:56:54.932445Z"
    },
    "collapsed": false
   },
   "outputs": [],
   "source": [
    "URM_all = URM_all.tocoo()\n",
    "URM_train = sps.csr_matrix((URM_all.data[train_mask], (URM_all.row[train_mask], URM_all.col[train_mask])))"
   ]
  },
  {
   "cell_type": "code",
   "execution_count": 64,
   "id": "898731abbd5cdc37",
   "metadata": {
    "ExecuteTime": {
     "end_time": "2023-10-12T13:57:28.148474Z",
     "start_time": "2023-10-12T13:57:27.970907Z"
    },
    "collapsed": false
   },
   "outputs": [],
   "source": [
    "test_mask = np.logical_not(train_mask)\n",
    "URM_test = sps.csr_matrix((URM_all.data[test_mask], (URM_all.row[test_mask], URM_all.col[test_mask])))"
   ]
  },
  {
   "cell_type": "code",
   "execution_count": 65,
   "id": "10e1e6555aee1390",
   "metadata": {
    "ExecuteTime": {
     "end_time": "2023-10-12T14:08:07.259341Z",
     "start_time": "2023-10-12T14:08:07.253065Z"
    },
    "collapsed": false
   },
   "outputs": [],
   "source": [
    "user_id = 124\n",
    "relevant_items = URM_test[user_id].indices\n",
    "recommended_items = np.array([241, 1622, 15, 857, 5823])\n",
    "is_relevant = np.isin(recommended_items, relevant_items, assume_unique=True)"
   ]
  },
  {
   "cell_type": "code",
   "execution_count": 66,
   "id": "b2fff6917f2f8416",
   "metadata": {
    "collapsed": false
   },
   "outputs": [],
   "source": [
    "def precision(recommended_items, relevant_items):\n",
    "    is_relevant = np.isin(recommended_items, relevant_items, assume_unique=True)\n",
    "    precision_score = np.sum(is_relevant, dtype=np.float32) / len(is_relevant)\n",
    "    \n",
    "    return precision_score"
   ]
  },
  {
   "cell_type": "code",
   "execution_count": 67,
   "id": "ede273fe",
   "metadata": {},
   "outputs": [],
   "source": [
    "def recall(recommended_items, relevant_items):\n",
    "    is_relevant = np.isin(recommended_items, relevant_items, assume_unique=True)\n",
    "    recall_score = np.sum(is_relevant, dtype=np.float32) / relevant_items.shape[0]\n",
    "    \n",
    "    return recall_score"
   ]
  },
  {
   "cell_type": "code",
   "execution_count": 68,
   "id": "3ec27da6",
   "metadata": {},
   "outputs": [],
   "source": [
    "def average_precision(recommended_items, relevant_items):\n",
    "    is_relevant = np.isin(recommended_items, relevant_items, assume_unique=True)\n",
    "    precision_at_k = is_relevant * np.cumsum(is_relevant, dtype=np.float32) / (1 + np.arange(is_relevant.shape[0]))\n",
    "    average_precision_score = np.sum(precision_at_k) / np.min([relevant_items.shape[0], is_relevant.shape[0]])\n",
    "    return average_precision_score"
   ]
  },
  {
   "cell_type": "code",
   "execution_count": 69,
   "id": "231b88c2",
   "metadata": {},
   "outputs": [],
   "source": [
    "class RandomRecommender(object):\n",
    "    def fit(self, URM_train):\n",
    "        self.n_items = URM_train.shape[1]\n",
    "        \n",
    "    def recommend(self, user_id, at=10):\n",
    "        recommended_items = np.random.choice(self.n_items, at)\n",
    "        return recommended_items"
   ]
  },
  {
   "cell_type": "code",
   "execution_count": 70,
   "id": "765615bb",
   "metadata": {},
   "outputs": [
    {
     "name": "stdout",
     "output_type": "stream",
     "text": [
      "Recommendations for user_id 0\n",
      "[5490 4167 8750 2918 2625]\n",
      "Recommendations for user_id 1\n",
      "[9014 2507 3534 8173 8927]\n",
      "Recommendations for user_id 2\n",
      "[4470 2973 9967 5382 1393]\n",
      "Recommendations for user_id 3\n",
      "[6735 6534 8803 5048 8149]\n",
      "Recommendations for user_id 4\n",
      "[4760 8952 6306 5283 7639]\n",
      "Recommendations for user_id 5\n",
      "[ 2910 10561  2820  9546  9060]\n",
      "Recommendations for user_id 6\n",
      "[5879 7831 2276 3777 8851]\n",
      "Recommendations for user_id 7\n",
      "[2636 8505 7313 8730 5667]\n",
      "Recommendations for user_id 8\n",
      "[3749 4351 5100 7519 4243]\n",
      "Recommendations for user_id 9\n",
      "[6560 5529 1717   33 3859]\n"
     ]
    }
   ],
   "source": [
    "random_recommender = RandomRecommender()\n",
    "random_recommender.fit(URM_train)\n",
    "\n",
    "for user_id in range(10):\n",
    "    print(\"Recommendations for user_id {}\".format(user_id))\n",
    "    print(random_recommender.recommend(user_id, at=5))"
   ]
  },
  {
   "cell_type": "code",
   "execution_count": 71,
   "id": "a7ff6423",
   "metadata": {},
   "outputs": [],
   "source": [
    "def evaluate_algorithm(URM_test, recommender_object, at=5):\n",
    "    cumulative_precision = 0.0\n",
    "    cumulative_recall = 0.0\n",
    "    cumulative_AP = 0.0\n",
    "    \n",
    "    num_eval = 0\n",
    "    \n",
    "    URM_test = sps.csr_matrix(URM_test)\n",
    "    \n",
    "    for user_id in range(URM_test.shape[0]):\n",
    "        relevant_items = URM_test.indices[URM_test.indptr[user_id]:URM_test.indptr[user_id+1]]\n",
    "        \n",
    "        if len(relevant_items)>0:\n",
    "            recommended_items = recommender_object.recommend(user_id, at=at)\n",
    "            \n",
    "            num_eval+=1\n",
    "            cumulative_precision += precision(recommended_items, relevant_items)\n",
    "            cumulative_recall += recall(recommended_items, relevant_items)\n",
    "            cumulative_AP += average_precision(recommended_items, relevant_items)\n",
    "            \n",
    "    cumulative_precision /= num_eval\n",
    "    cumulative_recall /= num_eval\n",
    "    MAP = cumulative_AP / num_eval\n",
    "    \n",
    "    print(\"Recommender performance is: Precision = {:.4f}, Recall = {:.4f}, MAP = {:.4f}\".format(cumulative_precision, cumulative_recall, MAP))"
   ]
  },
  {
   "cell_type": "code",
   "execution_count": 72,
   "id": "0ab83172",
   "metadata": {},
   "outputs": [
    {
     "name": "stdout",
     "output_type": "stream",
     "text": [
      "Recommender performance is: Precision = 0.0028, Recall = 0.0005, MAP = 0.0013\n"
     ]
    }
   ],
   "source": [
    "evaluate_algorithm(URM_test, random_recommender)"
   ]
  },
  {
   "cell_type": "code",
   "execution_count": 73,
   "id": "f442c286",
   "metadata": {},
   "outputs": [],
   "source": [
    "class TopPopRecommender(object):\n",
    "    def fit(self, URM_train):\n",
    "        item_popularity = np.ediff1d(URM_train.tocsc().indptr)\n",
    "        self.popular_items = np.argsort(item_popularity)\n",
    "        self.popular_items = np.flip(self.popular_items, axis=0)\n",
    "\n",
    "    def recommend(self, user_id, at=5):\n",
    "        recommended_items = self.popular_items[0:at]\n",
    "        return recommended_items"
   ]
  },
  {
   "cell_type": "code",
   "execution_count": 74,
   "id": "01f9c770",
   "metadata": {},
   "outputs": [
    {
     "name": "stdout",
     "output_type": "stream",
     "text": [
      "Recommendations for user_id 0\n",
      "[1008    7  139   14 1293]\n",
      "Recommendations for user_id 1\n",
      "[1008    7  139   14 1293]\n",
      "Recommendations for user_id 2\n",
      "[1008    7  139   14 1293]\n",
      "Recommendations for user_id 3\n",
      "[1008    7  139   14 1293]\n",
      "Recommendations for user_id 4\n",
      "[1008    7  139   14 1293]\n",
      "Recommendations for user_id 5\n",
      "[1008    7  139   14 1293]\n",
      "Recommendations for user_id 6\n",
      "[1008    7  139   14 1293]\n",
      "Recommendations for user_id 7\n",
      "[1008    7  139   14 1293]\n",
      "Recommendations for user_id 8\n",
      "[1008    7  139   14 1293]\n",
      "Recommendations for user_id 9\n",
      "[1008    7  139   14 1293]\n"
     ]
    }
   ],
   "source": [
    "top_pop_recommender = TopPopRecommender()\n",
    "top_pop_recommender.fit(URM_train)\n",
    "\n",
    "for user_id in range(10):\n",
    "    print(\"Recommendations for user_id {}\".format(user_id))\n",
    "    print(top_pop_recommender.recommend(user_id, at=5))"
   ]
  },
  {
   "cell_type": "code",
   "execution_count": 75,
   "id": "a316469b",
   "metadata": {},
   "outputs": [
    {
     "name": "stdout",
     "output_type": "stream",
     "text": [
      "Recommender performance is: Precision = 0.0955, Recall = 0.0309, MAP = 0.0526\n"
     ]
    }
   ],
   "source": [
    "evaluate_algorithm(URM_test, top_pop_recommender, at=5)"
   ]
  },
  {
   "cell_type": "code",
   "execution_count": 76,
   "id": "92db000d",
   "metadata": {},
   "outputs": [],
   "source": [
    "class TopPopRecommenderRemoved(object):\n",
    "    def fit(self, URM_train):\n",
    "        self.URM_train = URM_train\n",
    "        item_popularity = np.ediff1d(URM_train.tocsc().indptr)\n",
    "        self.popular_items = np.argsort(item_popularity)\n",
    "        self.popular_items = np.flip(self.popular_items, axis=0)\n",
    "\n",
    "    def recommend(self, user_id, at=5, remove_seen=True):\n",
    "        if remove_seen:\n",
    "            seen_items = self.URM_train.indices[self.URM_train.indptr[user_id]:self.URM_train.indptr[user_id + 1]]\n",
    "            unseen_items_mask = np.in1d(self.popular_items, seen_items, assume_unique=True, invert=True)\n",
    "            unseen_items = self.popular_items[unseen_items_mask]\n",
    "            recommended_items = unseen_items[0:at]\n",
    "        else:\n",
    "            recommended_items = self.popular_items[0:at]\n",
    "        return recommended_items"
   ]
  },
  {
   "cell_type": "code",
   "execution_count": 77,
   "id": "9a4b9e8c",
   "metadata": {},
   "outputs": [
    {
     "name": "stdout",
     "output_type": "stream",
     "text": [
      "Recommendations for user_id 0\n",
      "[1008  139 1293   22  175]\n",
      "Recommendations for user_id 1\n",
      "[1008    7  139   14 1293]\n",
      "Recommendations for user_id 2\n",
      "[1008    7  139   14 1293]\n",
      "Recommendations for user_id 3\n",
      "[1008    7  139 1293  175]\n",
      "Recommendations for user_id 4\n",
      "[1008    7   14 1293   22]\n",
      "Recommendations for user_id 5\n",
      "[1008    7  139   14 1293]\n",
      "Recommendations for user_id 6\n",
      "[1008    7   14 1293   22]\n",
      "Recommendations for user_id 7\n",
      "[1008    7 1293   22   24]\n",
      "Recommendations for user_id 8\n",
      "[1008    7  139   14 1293]\n",
      "Recommendations for user_id 9\n",
      "[   7   14 1293   22   19]\n"
     ]
    }
   ],
   "source": [
    "top_pop_recommender_removed = TopPopRecommenderRemoved()\n",
    "top_pop_recommender_removed.fit(URM_train)\n",
    "\n",
    "for user_id in range(10):\n",
    "    print(\"Recommendations for user_id {}\".format(user_id))\n",
    "    print(top_pop_recommender_removed.recommend(user_id, at=5))"
   ]
  },
  {
   "cell_type": "code",
   "execution_count": 78,
   "id": "4e21f442",
   "metadata": {},
   "outputs": [
    {
     "name": "stdout",
     "output_type": "stream",
     "text": [
      "Recommender performance is: Precision = 0.1980, Recall = 0.0531, MAP = 0.1468\n"
     ]
    }
   ],
   "source": [
    "evaluate_algorithm(URM_test, top_pop_recommender_removed)"
   ]
  },
  {
   "cell_type": "code",
   "execution_count": 79,
   "id": "de9aa799",
   "metadata": {},
   "outputs": [
    {
     "name": "stdout",
     "output_type": "stream",
     "text": [
      "The global average is 3.51\n"
     ]
    }
   ],
   "source": [
    "global_average = np.mean(URM_train.data)\n",
    "print(\"The global average is {:.2f}\".format(global_average))"
   ]
  },
  {
   "cell_type": "code",
   "execution_count": 80,
   "id": "d45261c5",
   "metadata": {},
   "outputs": [
    {
     "name": "stdout",
     "output_type": "stream",
     "text": [
      "[1.48749946 1.48749946 1.48749946 1.48749946 1.48749946 1.48749946\n",
      " 1.48749946 1.48749946 1.48749946 1.48749946]\n"
     ]
    }
   ],
   "source": [
    "URM_train_unbiased = URM_train.copy()\n",
    "URM_train_unbiased.data -= global_average\n",
    "print(URM_train_unbiased.data[0:10])"
   ]
  },
  {
   "cell_type": "code",
   "execution_count": 81,
   "id": "4be5f293",
   "metadata": {},
   "outputs": [
    {
     "data": {
      "text/plain": [
       "array([-0.63036037, -0.38615034, -0.56985744, ..., -0.01944448,\n",
       "       -0.0581731 ,  0.01874998])"
      ]
     },
     "execution_count": 81,
     "metadata": {},
     "output_type": "execute_result"
    }
   ],
   "source": [
    "lambda_item = 25\n",
    "lambda_user = 10\n",
    "col_nnz = np.ediff1d(sps.csc_matrix(URM_train_unbiased).indptr)\n",
    "item_mean_rating = URM_train_unbiased.sum(axis=0) / (col_nnz + lambda_item)\n",
    "item_mean_rating = np.asarray(item_mean_rating).ravel()\n",
    "item_mean_rating[col_nnz==0] = -np.inf\n",
    "item_mean_rating"
   ]
  },
  {
   "cell_type": "code",
   "execution_count": 82,
   "id": "690d8157",
   "metadata": {},
   "outputs": [
    {
     "data": {
      "image/png": "[encoded data removed]",
      "text/plain": [
       "<Figure size 640x480 with 1 Axes>"
      ]
     },
     "metadata": {},
     "output_type": "display_data"
    }
   ],
   "source": [
    "item_mean_rating = np.array(item_mean_rating).squeeze()\n",
    "item_mean_rating = np.sort(item_mean_rating[item_mean_rating != 0])\n",
    "\n",
    "pyplot.plot(item_mean_rating, 'ro')\n",
    "pyplot.ylabel('Item Bias (Mean Rating)')\n",
    "pyplot.xlabel('Sorted Item')\n",
    "pyplot.show()"
   ]
  },
  {
   "cell_type": "code",
   "execution_count": 83,
   "id": "d9efc4bb",
   "metadata": {},
   "outputs": [
    {
     "data": {
      "text/plain": [
       "array([ 0.95624965, -0.24861145,  0.26874961, ...,  0.40118998,\n",
       "        0.22474447, -0.31383973])"
      ]
     },
     "execution_count": 83,
     "metadata": {},
     "output_type": "execute_result"
    }
   ],
   "source": [
    "row_nnz = np.ediff1d(sps.csr_matrix(URM_train_unbiased).indptr)\n",
    "user_mean_rating = URM_train_unbiased.sum(axis=1).ravel() / (row_nnz + lambda_user)\n",
    "user_mean_rating = np.asarray(user_mean_rating).ravel()\n",
    "user_mean_rating[row_nnz==0] = -np.inf\n",
    "user_mean_rating"
   ]
  },
  {
   "cell_type": "code",
   "execution_count": 84,
   "id": "e39dfb06",
   "metadata": {},
   "outputs": [
    {
     "data": {
      "image/png": "[encoded data removed]",
      "text/plain": [
       "<Figure size 640x480 with 1 Axes>"
      ]
     },
     "metadata": {},
     "output_type": "display_data"
    }
   ],
   "source": [
    "user_mean_rating = np.array(user_mean_rating).squeeze()\n",
    "user_mean_rating = np.sort(user_mean_rating[user_mean_rating != 0])\n",
    "\n",
    "pyplot.plot(user_mean_rating, 'ro')\n",
    "pyplot.ylabel('User Bias (Mean Rating)')\n",
    "pyplot.xlabel('Sorted User')\n",
    "pyplot.show()"
   ]
  },
  {
   "cell_type": "code",
   "execution_count": 85,
   "id": "0e964844",
   "metadata": {},
   "outputs": [],
   "source": [
    "class GlobalEffectsRecommender(object):\n",
    "\n",
    "    def fit(self, URM_train, lambda_user=10, lambda_item=25):\n",
    "        \n",
    "        self.URM_train = URM_train\n",
    "\n",
    "        self.mu = self.URM_train.data.sum(dtype=np.float32) / self.URM_train.nnz\n",
    "\n",
    "        col_nnz = np.ediff1d(sps.csc_matrix(self.URM_train).indptr)\n",
    "\n",
    "        URM_train_unbiased = self.URM_train.copy()\n",
    "        URM_train_unbiased.data -= self.mu\n",
    "        \n",
    "        item_bias = URM_train_unbiased.sum(axis=0) / (col_nnz + lambda_item)\n",
    "        item_bias = np.asarray(item_bias).ravel()\n",
    "        item_bias[col_nnz==0] = -np.inf \n",
    "        \n",
    "        self.bestRatedItems = np.argsort(item_bias)\n",
    "        self.bestRatedItems = np.flip(self.bestRatedItems, axis = 0)\n",
    "        \n",
    "    \n",
    "    def recommend(self, user_id, at=5, remove_seen=True):\n",
    "\n",
    "        if remove_seen:\n",
    "            seen_items = self.URM_train.indices[self.URM_train.indptr[user_id]:self.URM_train.indptr[user_id+1]]\n",
    "            \n",
    "            unseen_items_mask = np.in1d(self.bestRatedItems, seen_items, assume_unique=True, invert = True)\n",
    "\n",
    "            unseen_items = self.bestRatedItems[unseen_items_mask]\n",
    "\n",
    "            recommended_items = unseen_items[0:at]\n",
    "\n",
    "        else:\n",
    "            recommended_items = self.bestRatedItems[0:at]\n",
    "            \n",
    "\n",
    "        return recommended_items"
   ]
  },
  {
   "cell_type": "code",
   "execution_count": 86,
   "id": "4383c4cd",
   "metadata": {},
   "outputs": [
    {
     "name": "stdout",
     "output_type": "stream",
     "text": [
      "Recommender performance is: Precision = 0.0760, Recall = 0.0188, MAP = 0.0546\n"
     ]
    }
   ],
   "source": [
    "globalEffectsRecommender = GlobalEffectsRecommender()\n",
    "globalEffectsRecommender.fit(URM_train)\n",
    "\n",
    "evaluate_algorithm(URM_test, globalEffectsRecommender)"
   ]
  },
  {
   "cell_type": "code",
   "execution_count": 87,
   "id": "4ffe197b",
   "metadata": {},
   "outputs": [
    {
     "name": "stdout",
     "output_type": "stream",
     "text": [
      "Removing ratings <= 0\n",
      "Recommender performance is: Precision = 0.0955, Recall = 0.0309, MAP = 0.0526\n",
      "Removing ratings <= 1\n",
      "Recommender performance is: Precision = 0.0955, Recall = 0.0309, MAP = 0.0522\n",
      "Removing ratings <= 2\n",
      "Recommender performance is: Precision = 0.0955, Recall = 0.0309, MAP = 0.0522\n",
      "Removing ratings <= 3\n",
      "Recommender performance is: Precision = 0.0927, Recall = 0.0296, MAP = 0.0503\n",
      "Removing ratings <= 4\n",
      "Recommender performance is: Precision = 0.0880, Recall = 0.0274, MAP = 0.0479\n"
     ]
    }
   ],
   "source": [
    "for rating_threshold in range(0, 5):\n",
    "    \n",
    "    print(\"Removing ratings <= {}\".format(rating_threshold))\n",
    "    \n",
    "    URM_train_filtered = URM_train.copy()\n",
    "    URM_train_filtered.data[URM_train.data <= rating_threshold] = 0\n",
    "    \n",
    "    URM_train_filtered.eliminate_zeros()\n",
    "    \n",
    "    top_pop_recommender = TopPopRecommender()\n",
    "    top_pop_recommender.fit(URM_train_filtered)\n",
    "    \n",
    "    evaluate_algorithm(URM_test, top_pop_recommender)"
   ]
  },
  {
   "cell_type": "code",
   "execution_count": null,
   "id": "f811fa92",
   "metadata": {},
   "outputs": [],
   "source": [
    "class UserCBFKNNRecommender(object):"
   ]
  }
 ],
 "metadata": {
  "kernelspec": {
   "display_name": "Python 3",
   "language": "python",
   "name": "python3"
  },
  "language_info": {
   "codemirror_mode": {
    "name": "ipython",
    "version": 3
   },
   "file_extension": ".py",
   "mimetype": "text/x-python",
   "name": "python",
   "nbconvert_exporter": "python",
   "pygments_lexer": "ipython3",
   "version": "3.11.0"
  }
 },
 "nbformat": 4,
 "nbformat_minor": 5
}
