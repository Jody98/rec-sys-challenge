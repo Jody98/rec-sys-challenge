{
 "cells": [
  {
   "cell_type": "code",
   "execution_count": 1,
   "id": "initial_id",
   "metadata": {
    "collapsed": true,
    "ExecuteTime": {
     "end_time": "2023-10-12T12:11:45.252783Z",
     "start_time": "2023-10-12T12:11:45.236084Z"
    }
   },
   "outputs": [],
   "source": [
    "from urllib.request import urlretrieve\n",
    "import zipfile, os"
   ]
  },
  {
   "cell_type": "code",
   "execution_count": 2,
   "outputs": [],
   "source": [
    "data_file_path = \"data_manager_split_datasets/Movielens10M/\"\n",
    "data_file_name = data_file_path + \"movielens_10m.zip\"\n",
    "\n",
    "if not os.path.exists(data_file_path):\n",
    "    os.makedirs(data_file_path)\n",
    "    \n",
    "if not os.path.exists(data_file_name):\n",
    "    urlretrieve(\"http://files.grouplens.org/datasets/movielens/ml-10m.zip\", data_file_name)"
   ],
   "metadata": {
    "collapsed": false,
    "ExecuteTime": {
     "end_time": "2023-10-12T12:11:47.651419Z",
     "start_time": "2023-10-12T12:11:47.627834Z"
    }
   },
   "id": "3b5ff3e431b4c9be"
  },
  {
   "cell_type": "code",
   "execution_count": 3,
   "outputs": [],
   "source": [
    "data_file = zipfile.ZipFile(data_file_name)\n",
    "URM_path = data_file.extract(\"ml-10M100K/ratings.dat\", path=data_file_path + \"decompressed/\")\n",
    "URM_file = open(URM_path, 'r')"
   ],
   "metadata": {
    "collapsed": false,
    "ExecuteTime": {
     "end_time": "2023-10-12T12:11:51.958620Z",
     "start_time": "2023-10-12T12:11:50.576087Z"
    }
   },
   "id": "27cc6f62e683d30d"
  },
  {
   "cell_type": "code",
   "execution_count": 4,
   "outputs": [
    {
     "data": {
      "text/plain": "_io.TextIOWrapper"
     },
     "execution_count": 4,
     "metadata": {},
     "output_type": "execute_result"
    }
   ],
   "source": [
    "type(URM_file)"
   ],
   "metadata": {
    "collapsed": false,
    "ExecuteTime": {
     "end_time": "2023-10-12T12:11:52.595663Z",
     "start_time": "2023-10-12T12:11:52.579952Z"
    }
   },
   "id": "6e09385b03a71703"
  },
  {
   "cell_type": "code",
   "execution_count": 5,
   "outputs": [],
   "source": [
    "import pandas as pd"
   ],
   "metadata": {
    "collapsed": false,
    "ExecuteTime": {
     "end_time": "2023-10-12T12:11:57.308917Z",
     "start_time": "2023-10-12T12:11:55.940003Z"
    }
   },
   "id": "932ea164ca069ece"
  },
  {
   "cell_type": "code",
   "execution_count": 6,
   "outputs": [],
   "source": [
    "URM_all_dataframe = pd.read_csv(filepath_or_buffer=URM_path,\n",
    "                                sep='::',\n",
    "                                header=None,\n",
    "                                dtype={0:int, 1:int, 2:float, 3:int},\n",
    "                                engine='python')\n",
    "URM_all_dataframe.columns = ['UserID', 'ItemID', 'Interaction', 'Timestamp']"
   ],
   "metadata": {
    "collapsed": false,
    "ExecuteTime": {
     "end_time": "2023-10-12T12:12:49.079019Z",
     "start_time": "2023-10-12T12:11:58.000652Z"
    }
   },
   "id": "4840f23798906198"
  },
  {
   "cell_type": "code",
   "execution_count": 7,
   "outputs": [
    {
     "data": {
      "text/plain": "   UserID  ItemID  Interaction  Timestamp\n0       1     122          5.0  838985046\n1       1     185          5.0  838983525\n2       1     231          5.0  838983392\n3       1     292          5.0  838983421\n4       1     316          5.0  838983392",
      "text/html": "<div>\n<style scoped>\n    .dataframe tbody tr th:only-of-type {\n        vertical-align: middle;\n    }\n\n    .dataframe tbody tr th {\n        vertical-align: top;\n    }\n\n    .dataframe thead th {\n        text-align: right;\n    }\n</style>\n<table border=\"1\" class=\"dataframe\">\n  <thead>\n    <tr style=\"text-align: right;\">\n      <th></th>\n      <th>UserID</th>\n      <th>ItemID</th>\n      <th>Interaction</th>\n      <th>Timestamp</th>\n    </tr>\n  </thead>\n  <tbody>\n    <tr>\n      <th>0</th>\n      <td>1</td>\n      <td>122</td>\n      <td>5.0</td>\n      <td>838985046</td>\n    </tr>\n    <tr>\n      <th>1</th>\n      <td>1</td>\n      <td>185</td>\n      <td>5.0</td>\n      <td>838983525</td>\n    </tr>\n    <tr>\n      <th>2</th>\n      <td>1</td>\n      <td>231</td>\n      <td>5.0</td>\n      <td>838983392</td>\n    </tr>\n    <tr>\n      <th>3</th>\n      <td>1</td>\n      <td>292</td>\n      <td>5.0</td>\n      <td>838983421</td>\n    </tr>\n    <tr>\n      <th>4</th>\n      <td>1</td>\n      <td>316</td>\n      <td>5.0</td>\n      <td>838983392</td>\n    </tr>\n  </tbody>\n</table>\n</div>"
     },
     "execution_count": 7,
     "metadata": {},
     "output_type": "execute_result"
    }
   ],
   "source": [
    "URM_all_dataframe.head()"
   ],
   "metadata": {
    "collapsed": false,
    "ExecuteTime": {
     "end_time": "2023-10-12T12:12:52.790846Z",
     "start_time": "2023-10-12T12:12:52.729249Z"
    }
   },
   "id": "5a5f7ef2af8ad0c5"
  },
  {
   "cell_type": "code",
   "execution_count": 8,
   "outputs": [
    {
     "name": "stdout",
     "output_type": "stream",
     "text": [
      "Number of items\t 10677, Number of users\t 69878\n",
      "Number of interactions\t 10000054\n",
      "Max value of UserID\t 71567, Max value of ItemID\t 65133\n"
     ]
    }
   ],
   "source": [
    "print(\"Number of items\\t {}, Number of users\\t {}\".format(len(URM_all_dataframe['ItemID'].unique()), len(URM_all_dataframe['UserID'].unique())))\n",
    "print(\"Number of interactions\\t {}\".format(URM_all_dataframe['Interaction'].count()))\n",
    "print(\"Max value of UserID\\t {}, Max value of ItemID\\t {}\".format(URM_all_dataframe['UserID'].max(), URM_all_dataframe['ItemID'].max()))"
   ],
   "metadata": {
    "collapsed": false,
    "ExecuteTime": {
     "end_time": "2023-10-12T12:12:55.148365Z",
     "start_time": "2023-10-12T12:12:54.956404Z"
    }
   },
   "id": "53d42f801d1b5b72"
  },
  {
   "cell_type": "code",
   "execution_count": 9,
   "outputs": [],
   "source": [
    "mapped_id, original_id = pd.factorize(URM_all_dataframe['UserID'].unique())\n",
    "user_original_ID_to_index = pd.Series(data=mapped_id, index=original_id)\n",
    "\n",
    "mapped_id, original_id = pd.factorize(URM_all_dataframe['ItemID'].unique())\n",
    "item_original_ID_to_index = pd.Series(data=mapped_id, index=original_id)"
   ],
   "metadata": {
    "collapsed": false,
    "ExecuteTime": {
     "end_time": "2023-10-12T12:12:56.626182Z",
     "start_time": "2023-10-12T12:12:56.453961Z"
    }
   },
   "id": "5c2af79061ad7843"
  },
  {
   "cell_type": "code",
   "execution_count": 10,
   "outputs": [],
   "source": [
    "URM_all_dataframe['UserID'] = URM_all_dataframe['UserID'].map(user_original_ID_to_index)\n",
    "URM_all_dataframe['ItemID'] = URM_all_dataframe['ItemID'].map(item_original_ID_to_index)"
   ],
   "metadata": {
    "collapsed": false,
    "ExecuteTime": {
     "end_time": "2023-10-12T12:12:59.032893Z",
     "start_time": "2023-10-12T12:12:58.589677Z"
    }
   },
   "id": "5674022ec709fec1"
  },
  {
   "cell_type": "code",
   "execution_count": 11,
   "outputs": [
    {
     "data": {
      "text/plain": "    UserID  ItemID  Interaction  Timestamp\n0        0       0          5.0  838985046\n1        0       1          5.0  838983525\n2        0       2          5.0  838983392\n3        0       3          5.0  838983421\n4        0       4          5.0  838983392\n5        0       5          5.0  838983392\n6        0       6          5.0  838984474\n7        0       7          5.0  838983653\n8        0       8          5.0  838984885\n9        0       9          5.0  838983707\n10       0      10          5.0  838984596\n11       0      11          5.0  838983834\n12       0      12          5.0  838983834\n13       0      13          5.0  838984679\n14       0      14          5.0  838983653\n15       0      15          5.0  838984679\n16       0      16          5.0  838984068\n17       0      17          5.0  838984068\n18       0      18          5.0  838983339\n19       0      19          5.0  838983778",
      "text/html": "<div>\n<style scoped>\n    .dataframe tbody tr th:only-of-type {\n        vertical-align: middle;\n    }\n\n    .dataframe tbody tr th {\n        vertical-align: top;\n    }\n\n    .dataframe thead th {\n        text-align: right;\n    }\n</style>\n<table border=\"1\" class=\"dataframe\">\n  <thead>\n    <tr style=\"text-align: right;\">\n      <th></th>\n      <th>UserID</th>\n      <th>ItemID</th>\n      <th>Interaction</th>\n      <th>Timestamp</th>\n    </tr>\n  </thead>\n  <tbody>\n    <tr>\n      <th>0</th>\n      <td>0</td>\n      <td>0</td>\n      <td>5.0</td>\n      <td>838985046</td>\n    </tr>\n    <tr>\n      <th>1</th>\n      <td>0</td>\n      <td>1</td>\n      <td>5.0</td>\n      <td>838983525</td>\n    </tr>\n    <tr>\n      <th>2</th>\n      <td>0</td>\n      <td>2</td>\n      <td>5.0</td>\n      <td>838983392</td>\n    </tr>\n    <tr>\n      <th>3</th>\n      <td>0</td>\n      <td>3</td>\n      <td>5.0</td>\n      <td>838983421</td>\n    </tr>\n    <tr>\n      <th>4</th>\n      <td>0</td>\n      <td>4</td>\n      <td>5.0</td>\n      <td>838983392</td>\n    </tr>\n    <tr>\n      <th>5</th>\n      <td>0</td>\n      <td>5</td>\n      <td>5.0</td>\n      <td>838983392</td>\n    </tr>\n    <tr>\n      <th>6</th>\n      <td>0</td>\n      <td>6</td>\n      <td>5.0</td>\n      <td>838984474</td>\n    </tr>\n    <tr>\n      <th>7</th>\n      <td>0</td>\n      <td>7</td>\n      <td>5.0</td>\n      <td>838983653</td>\n    </tr>\n    <tr>\n      <th>8</th>\n      <td>0</td>\n      <td>8</td>\n      <td>5.0</td>\n      <td>838984885</td>\n    </tr>\n    <tr>\n      <th>9</th>\n      <td>0</td>\n      <td>9</td>\n      <td>5.0</td>\n      <td>838983707</td>\n    </tr>\n    <tr>\n      <th>10</th>\n      <td>0</td>\n      <td>10</td>\n      <td>5.0</td>\n      <td>838984596</td>\n    </tr>\n    <tr>\n      <th>11</th>\n      <td>0</td>\n      <td>11</td>\n      <td>5.0</td>\n      <td>838983834</td>\n    </tr>\n    <tr>\n      <th>12</th>\n      <td>0</td>\n      <td>12</td>\n      <td>5.0</td>\n      <td>838983834</td>\n    </tr>\n    <tr>\n      <th>13</th>\n      <td>0</td>\n      <td>13</td>\n      <td>5.0</td>\n      <td>838984679</td>\n    </tr>\n    <tr>\n      <th>14</th>\n      <td>0</td>\n      <td>14</td>\n      <td>5.0</td>\n      <td>838983653</td>\n    </tr>\n    <tr>\n      <th>15</th>\n      <td>0</td>\n      <td>15</td>\n      <td>5.0</td>\n      <td>838984679</td>\n    </tr>\n    <tr>\n      <th>16</th>\n      <td>0</td>\n      <td>16</td>\n      <td>5.0</td>\n      <td>838984068</td>\n    </tr>\n    <tr>\n      <th>17</th>\n      <td>0</td>\n      <td>17</td>\n      <td>5.0</td>\n      <td>838984068</td>\n    </tr>\n    <tr>\n      <th>18</th>\n      <td>0</td>\n      <td>18</td>\n      <td>5.0</td>\n      <td>838983339</td>\n    </tr>\n    <tr>\n      <th>19</th>\n      <td>0</td>\n      <td>19</td>\n      <td>5.0</td>\n      <td>838983778</td>\n    </tr>\n  </tbody>\n</table>\n</div>"
     },
     "execution_count": 11,
     "metadata": {},
     "output_type": "execute_result"
    }
   ],
   "source": [
    "URM_all_dataframe.head(n=20)"
   ],
   "metadata": {
    "collapsed": false,
    "ExecuteTime": {
     "end_time": "2023-10-12T12:12:59.595570Z",
     "start_time": "2023-10-12T12:12:59.585687Z"
    }
   },
   "id": "9b0ab449e049bea2"
  },
  {
   "cell_type": "code",
   "execution_count": 12,
   "outputs": [
    {
     "name": "stdout",
     "output_type": "stream",
     "text": [
      "Number of items\t 10677, Number of users\t 69878\n",
      "Max value of UserID\t 69877, Max value of ItemID\t 10676\n",
      "Number of interactions\t 10000054\n",
      "Average interactions per user 143.11\n",
      "Average interactions per item 936.60\n",
      "Sparsity 98.66 %\n"
     ]
    }
   ],
   "source": [
    "userID_unique = URM_all_dataframe['UserID'].unique()\n",
    "itemID_unique = URM_all_dataframe['ItemID'].unique()\n",
    "\n",
    "n_users = len(userID_unique)\n",
    "n_items = len(itemID_unique)\n",
    "n_interactions = len(URM_all_dataframe)\n",
    "\n",
    "print(\"Number of items\\t {}, Number of users\\t {}\".format(n_items, n_users))\n",
    "print(\"Max value of UserID\\t {}, Max value of ItemID\\t {}\".format(userID_unique.max(), itemID_unique.max()))\n",
    "print(\"Number of interactions\\t {}\".format(n_interactions))\n",
    "\n",
    "print(\"Average interactions per user {:.2f}\\nAverage interactions per item {:.2f}\".format(n_interactions/n_users, n_interactions/n_items))\n",
    "\n",
    "print(\"Sparsity {:.2f} %\".format((1 - n_interactions/(n_users*n_items))*100))"
   ],
   "metadata": {
    "collapsed": false,
    "ExecuteTime": {
     "end_time": "2023-10-12T12:13:00.994605Z",
     "start_time": "2023-10-12T12:13:00.849753Z"
    }
   },
   "id": "ac6399808dcb48dc"
  },
  {
   "cell_type": "code",
   "execution_count": 14,
   "outputs": [
    {
     "data": {
      "text/plain": "<Figure size 640x480 with 1 Axes>",
      "image/png": "[encoded data removed]"
     },
     "metadata": {},
     "output_type": "display_data"
    }
   ],
   "source": [
    "import matplotlib.pyplot as pyplot\n",
    "\n",
    "timestamp_sorted = URM_all_dataframe['Timestamp'].values.copy()\n",
    "timestamp_sorted.sort()\n",
    "\n",
    "pyplot.plot(timestamp_sorted, 'ro')\n",
    "pyplot.ylabel('Timestamp')\n",
    "pyplot.xlabel('Sorted Item')\n",
    "pyplot.show()"
   ],
   "metadata": {
    "collapsed": false,
    "ExecuteTime": {
     "end_time": "2023-10-12T12:16:25.047019Z",
     "start_time": "2023-10-12T12:16:08.056804Z"
    }
   },
   "id": "47aeac750521e9ef"
  },
  {
   "cell_type": "code",
   "execution_count": 15,
   "outputs": [],
   "source": [
    "import scipy.sparse as sps\n",
    "\n",
    "URM_all = sps.coo_matrix((URM_all_dataframe['Interaction'].values, (URM_all_dataframe['UserID'].values, URM_all_dataframe['ItemID'].values)))\n",
    "URM_all = URM_all.tocsr()"
   ],
   "metadata": {
    "collapsed": false,
    "ExecuteTime": {
     "end_time": "2023-10-12T12:17:24.108500Z",
     "start_time": "2023-10-12T12:17:16.344555Z"
    }
   },
   "id": "a1bcc06b308b5b7d"
  },
  {
   "cell_type": "code",
   "execution_count": 17,
   "outputs": [
    {
     "data": {
      "text/plain": "<Figure size 640x480 with 1 Axes>",
      "image/png": "[encoded data removed]"
     },
     "metadata": {},
     "output_type": "display_data"
    }
   ],
   "source": [
    "import numpy as np\n",
    "\n",
    "item_popularity = np.ediff1d(URM_all.tocsc().indptr)\n",
    "item_popularity = np.sort(item_popularity)\n",
    "\n",
    "pyplot.plot(item_popularity, 'ro')\n",
    "pyplot.ylabel('Num Interactions ')\n",
    "pyplot.xlabel('Item Index Sorted by Popularity')\n",
    "pyplot.show()"
   ],
   "metadata": {
    "collapsed": false,
    "ExecuteTime": {
     "end_time": "2023-10-12T12:18:47.260885Z",
     "start_time": "2023-10-12T12:18:46.932567Z"
    }
   },
   "id": "b4c66c896187e23e"
  },
  {
   "cell_type": "code",
   "execution_count": 18,
   "outputs": [
    {
     "name": "stdout",
     "output_type": "stream",
     "text": [
      "Average per-item interactions over the whole dataset 936.60\n",
      "\n",
      "Average per-item interactions for the top 10% popular items 6479.52\n",
      "\n",
      "Average per-item interactions for the least 10% popular items 5.23\n",
      "\n",
      "Average per-item interactions for the median 10% popular items 136.48\n"
     ]
    }
   ],
   "source": [
    "ten_percent = int(n_items/10)\n",
    "\n",
    "print(\"Average per-item interactions over the whole dataset {:.2f}\\n\".format(item_popularity.mean()))\n",
    "print(\"Average per-item interactions for the top 10% popular items {:.2f}\\n\".format(item_popularity[-ten_percent:].mean()))\n",
    "print(\"Average per-item interactions for the least 10% popular items {:.2f}\\n\".format(item_popularity[:ten_percent].mean()))\n",
    "print(\"Average per-item interactions for the median 10% popular items {:.2f}\\n\".format(item_popularity[int(n_items/2-ten_percent/2):int(n_items/2+ten_percent/2)].mean()))"
   ],
   "metadata": {
    "collapsed": false,
    "ExecuteTime": {
     "end_time": "2023-10-12T13:41:18.131331Z",
     "start_time": "2023-10-12T13:41:18.094860Z"
    }
   },
   "id": "e63efa6410373eec"
  },
  {
   "cell_type": "code",
   "execution_count": 19,
   "outputs": [
    {
     "name": "stdout",
     "output_type": "stream",
     "text": [
      "Number of items with zero interactions 0 out of 10677\n"
     ]
    }
   ],
   "source": [
    "print(\"Number of items with zero interactions {} out of {}\".format(np.sum(item_popularity==0), n_items))"
   ],
   "metadata": {
    "collapsed": false,
    "ExecuteTime": {
     "end_time": "2023-10-12T13:41:54.419963Z",
     "start_time": "2023-10-12T13:41:54.382465Z"
    }
   },
   "id": "afa88bd36380671b"
  },
  {
   "cell_type": "code",
   "execution_count": 21,
   "outputs": [
    {
     "data": {
      "text/plain": "<Figure size 640x480 with 1 Axes>",
      "image/png": "[encoded data removed]"
     },
     "metadata": {},
     "output_type": "display_data"
    }
   ],
   "source": [
    "user_activity = np.ediff1d(URM_all.tocsr().indptr)\n",
    "user_activity = np.sort(user_activity)\n",
    "\n",
    "pyplot.plot(user_activity, 'ro')\n",
    "pyplot.ylabel('Num Interactions ')\n",
    "pyplot.xlabel('User Index Sorted by Popularity')\n",
    "pyplot.show()"
   ],
   "metadata": {
    "collapsed": false,
    "ExecuteTime": {
     "end_time": "2023-10-12T13:43:20.199483Z",
     "start_time": "2023-10-12T13:43:19.939192Z"
    }
   },
   "id": "99b9be63f99ed9e3"
  },
  {
   "cell_type": "code",
   "execution_count": 22,
   "outputs": [],
   "source": [
    "train_test_split = 0.8\n",
    "\n",
    "n_interactions = URM_all.nnz\n",
    "\n",
    "train_mask = np.random.choice([True,False], n_interactions, p=[train_test_split, 1-train_test_split])"
   ],
   "metadata": {
    "collapsed": false,
    "ExecuteTime": {
     "end_time": "2023-10-12T13:46:11.313826Z",
     "start_time": "2023-10-12T13:46:10.799620Z"
    }
   },
   "id": "6587a9327dd1caeb"
  },
  {
   "cell_type": "code",
   "execution_count": 35,
   "outputs": [],
   "source": [
    "URM_all = URM_all.tocoo()\n",
    "URM_train = sps.csr_matrix((URM_all.data[train_mask], (URM_all.row[train_mask], URM_all.col[train_mask])))"
   ],
   "metadata": {
    "collapsed": false,
    "ExecuteTime": {
     "end_time": "2023-10-12T13:56:55.424210Z",
     "start_time": "2023-10-12T13:56:54.932445Z"
    }
   },
   "id": "19fae412f2c144fa"
  },
  {
   "cell_type": "code",
   "execution_count": 36,
   "outputs": [],
   "source": [
    "test_mask = np.logical_not(train_mask)\n",
    "URM_test = sps.csr_matrix((URM_all.data[test_mask], (URM_all.row[test_mask], URM_all.col[test_mask])))"
   ],
   "metadata": {
    "collapsed": false,
    "ExecuteTime": {
     "end_time": "2023-10-12T13:57:28.148474Z",
     "start_time": "2023-10-12T13:57:27.970907Z"
    }
   },
   "id": "898731abbd5cdc37"
  },
  {
   "cell_type": "code",
   "execution_count": 39,
   "outputs": [],
   "source": [
    "user_id = 124\n",
    "relevant_items = URM_test[user_id].indices\n",
    "reccomended_items = np.array([241, 1622, 15, 857, 5823])\n",
    "is_relevant = np.in1d(reccomended_items, relevant_items, assume_unique=True)"
   ],
   "metadata": {
    "collapsed": false,
    "ExecuteTime": {
     "end_time": "2023-10-12T14:08:07.259341Z",
     "start_time": "2023-10-12T14:08:07.253065Z"
    }
   },
   "id": "10e1e6555aee1390"
  },
  {
   "cell_type": "code",
   "execution_count": null,
   "outputs": [],
   "source": [],
   "metadata": {
    "collapsed": false
   },
   "id": "b2fff6917f2f8416"
  }
 ],
 "metadata": {
  "kernelspec": {
   "display_name": "Python 3",
   "language": "python",
   "name": "python3"
  },
  "language_info": {
   "codemirror_mode": {
    "name": "ipython",
    "version": 2
   },
   "file_extension": ".py",
   "mimetype": "text/x-python",
   "name": "python",
   "nbconvert_exporter": "python",
   "pygments_lexer": "ipython2",
   "version": "2.7.6"
  }
 },
 "nbformat": 4,
 "nbformat_minor": 5
}
