{
 "cells": [
  {
   "cell_type": "code",
   "execution_count": 98,
   "metadata": {
    "ExecuteTime": {
     "end_time": "2023-11-05T15:31:04.467639Z",
     "start_time": "2023-11-05T15:31:02.625218Z"
    }
   },
   "outputs": [
    {
     "data": {
      "text/plain": "   UserID  ItemID  Data\n0       1       7   1.0\n1       1      15   1.0\n2       1      16   1.0\n3       1     133   1.0\n4       1     161   1.0",
      "text/html": "<div>\n<style scoped>\n    .dataframe tbody tr th:only-of-type {\n        vertical-align: middle;\n    }\n\n    .dataframe tbody tr th {\n        vertical-align: top;\n    }\n\n    .dataframe thead th {\n        text-align: right;\n    }\n</style>\n<table border=\"1\" class=\"dataframe\">\n  <thead>\n    <tr style=\"text-align: right;\">\n      <th></th>\n      <th>UserID</th>\n      <th>ItemID</th>\n      <th>Data</th>\n    </tr>\n  </thead>\n  <tbody>\n    <tr>\n      <th>0</th>\n      <td>1</td>\n      <td>7</td>\n      <td>1.0</td>\n    </tr>\n    <tr>\n      <th>1</th>\n      <td>1</td>\n      <td>15</td>\n      <td>1.0</td>\n    </tr>\n    <tr>\n      <th>2</th>\n      <td>1</td>\n      <td>16</td>\n      <td>1.0</td>\n    </tr>\n    <tr>\n      <th>3</th>\n      <td>1</td>\n      <td>133</td>\n      <td>1.0</td>\n    </tr>\n    <tr>\n      <th>4</th>\n      <td>1</td>\n      <td>161</td>\n      <td>1.0</td>\n    </tr>\n  </tbody>\n</table>\n</div>"
     },
     "execution_count": 98,
     "metadata": {},
     "output_type": "execute_result"
    }
   ],
   "source": [
    "import pandas as pd\n",
    "import numpy as np\n",
    "import matplotlib.pyplot as pyplot\n",
    "import scipy.sparse as sps\n",
    "\n",
    "data_file_path = 'data_train.csv'\n",
    "URM_all_dataframe = pd.read_csv(filepath_or_buffer=data_file_path,\n",
    "                                sep=',',\n",
    "                                engine='python')\n",
    "URM_all_dataframe.columns = ['UserID', 'ItemID', 'Data']\n",
    "URM_all_dataframe.head()\n"
   ]
  },
  {
   "cell_type": "code",
   "execution_count": 99,
   "metadata": {
    "ExecuteTime": {
     "end_time": "2023-11-05T15:31:04.495439Z",
     "start_time": "2023-11-05T15:31:04.468203Z"
    }
   },
   "outputs": [
    {
     "name": "stdout",
     "output_type": "stream",
     "text": [
      "Number of items\t 22222, Number of users\t 12638\n",
      "Number of interactions\t 478730\n",
      "Max value of UserID\t 13024, Max value of ItemID\t 22347\n"
     ]
    }
   ],
   "source": [
    "print(\"Number of items\\t {}, Number of users\\t {}\".format(len(URM_all_dataframe['ItemID'].unique()), len(URM_all_dataframe['UserID'].unique())))\n",
    "print(\"Number of interactions\\t {}\".format(URM_all_dataframe['Data'].count()))\n",
    "print(\"Max value of UserID\\t {}, Max value of ItemID\\t {}\".format(URM_all_dataframe['UserID'].max(), URM_all_dataframe['ItemID'].max()))"
   ]
  },
  {
   "cell_type": "code",
   "execution_count": 100,
   "metadata": {
    "ExecuteTime": {
     "end_time": "2023-11-05T15:31:04.573590Z",
     "start_time": "2023-11-05T15:31:04.491452Z"
    }
   },
   "outputs": [],
   "source": [
    "mapped_id, original_id = pd.factorize(URM_all_dataframe['UserID'].unique())\n",
    "user_original_ID_to_index = pd.Series(data=mapped_id, index=original_id)\n",
    "\n",
    "mapped_id, original_id = pd.factorize(URM_all_dataframe['ItemID'].unique())\n",
    "item_original_ID_to_index = pd.Series(data=mapped_id, index=original_id)"
   ]
  },
  {
   "cell_type": "code",
   "execution_count": 101,
   "metadata": {
    "ExecuteTime": {
     "end_time": "2023-11-05T15:31:04.618130Z",
     "start_time": "2023-11-05T15:31:04.513212Z"
    }
   },
   "outputs": [],
   "source": [
    "URM_all_dataframe['UserID'] = URM_all_dataframe['UserID'].map(user_original_ID_to_index)\n",
    "URM_all_dataframe['ItemID'] = URM_all_dataframe['ItemID'].map(item_original_ID_to_index)"
   ]
  },
  {
   "cell_type": "code",
   "execution_count": 102,
   "metadata": {
    "ExecuteTime": {
     "end_time": "2023-11-05T15:31:04.644806Z",
     "start_time": "2023-11-05T15:31:04.536388Z"
    }
   },
   "outputs": [
    {
     "data": {
      "text/plain": "   UserID  ItemID  Data\n0       0       0   1.0\n1       0       1   1.0\n2       0       2   1.0\n3       0       3   1.0\n4       0       4   1.0",
      "text/html": "<div>\n<style scoped>\n    .dataframe tbody tr th:only-of-type {\n        vertical-align: middle;\n    }\n\n    .dataframe tbody tr th {\n        vertical-align: top;\n    }\n\n    .dataframe thead th {\n        text-align: right;\n    }\n</style>\n<table border=\"1\" class=\"dataframe\">\n  <thead>\n    <tr style=\"text-align: right;\">\n      <th></th>\n      <th>UserID</th>\n      <th>ItemID</th>\n      <th>Data</th>\n    </tr>\n  </thead>\n  <tbody>\n    <tr>\n      <th>0</th>\n      <td>0</td>\n      <td>0</td>\n      <td>1.0</td>\n    </tr>\n    <tr>\n      <th>1</th>\n      <td>0</td>\n      <td>1</td>\n      <td>1.0</td>\n    </tr>\n    <tr>\n      <th>2</th>\n      <td>0</td>\n      <td>2</td>\n      <td>1.0</td>\n    </tr>\n    <tr>\n      <th>3</th>\n      <td>0</td>\n      <td>3</td>\n      <td>1.0</td>\n    </tr>\n    <tr>\n      <th>4</th>\n      <td>0</td>\n      <td>4</td>\n      <td>1.0</td>\n    </tr>\n  </tbody>\n</table>\n</div>"
     },
     "execution_count": 102,
     "metadata": {},
     "output_type": "execute_result"
    }
   ],
   "source": [
    "URM_all_dataframe.head()"
   ]
  },
  {
   "cell_type": "code",
   "execution_count": 103,
   "metadata": {
    "ExecuteTime": {
     "end_time": "2023-11-05T15:31:04.645598Z",
     "start_time": "2023-11-05T15:31:04.543158Z"
    }
   },
   "outputs": [
    {
     "name": "stdout",
     "output_type": "stream",
     "text": [
      "Number of items\t 22222, Number of users\t 12638\n",
      "Max value of UserID\t 12637, Max value of ItemID\t 22221\n",
      "Number of interactions\t 478730\n",
      "Average interactions per user 37.88\n",
      "Average interactions per item 21.54\n",
      "Sparsity 99.82954 %\n"
     ]
    }
   ],
   "source": [
    "userID_unique = URM_all_dataframe['UserID'].unique()\n",
    "itemID_unique = URM_all_dataframe['ItemID'].unique()\n",
    "\n",
    "n_users = len(userID_unique)\n",
    "n_items = len(itemID_unique)\n",
    "n_interactions = len(URM_all_dataframe)\n",
    "\n",
    "print(\"Number of items\\t {}, Number of users\\t {}\".format(n_items, n_users))\n",
    "print(\"Max value of UserID\\t {}, Max value of ItemID\\t {}\".format(userID_unique.max(), itemID_unique.max()))\n",
    "print(\"Number of interactions\\t {}\".format(n_interactions))\n",
    "\n",
    "print(\"Average interactions per user {:.2f}\\nAverage interactions per item {:.2f}\".format(n_interactions/n_users, n_interactions/n_items))\n",
    "\n",
    "print(\"Sparsity {:.5f} %\".format((1 - n_interactions/(n_users*n_items))*100))"
   ]
  },
  {
   "cell_type": "code",
   "execution_count": 104,
   "metadata": {
    "ExecuteTime": {
     "end_time": "2023-11-05T15:31:04.647464Z",
     "start_time": "2023-11-05T15:31:04.561264Z"
    }
   },
   "outputs": [],
   "source": [
    "URM_all = sps.coo_matrix((URM_all_dataframe['Data'].values, (URM_all_dataframe['UserID'].values, URM_all_dataframe['ItemID'].values)))\n",
    "URM_all = URM_all.tocsr()"
   ]
  },
  {
   "cell_type": "code",
   "execution_count": 105,
   "metadata": {
    "ExecuteTime": {
     "end_time": "2023-11-05T15:31:04.785904Z",
     "start_time": "2023-11-05T15:31:04.595244Z"
    }
   },
   "outputs": [
    {
     "data": {
      "text/plain": "<Figure size 640x480 with 1 Axes>",
      "image/png": "[encoded data removed]"
     },
     "metadata": {},
     "output_type": "display_data"
    }
   ],
   "source": [
    "item_popularity = np.ediff1d(URM_all.tocsc().indptr)\n",
    "item_popularity = np.sort(item_popularity)\n",
    "\n",
    "pyplot.plot(item_popularity, 'ro')\n",
    "pyplot.ylabel('Num Interactions ')\n",
    "pyplot.xlabel('Item Index Sorted by Popularity')\n",
    "pyplot.show()"
   ]
  },
  {
   "cell_type": "code",
   "execution_count": 106,
   "outputs": [
    {
     "name": "stdout",
     "output_type": "stream",
     "text": [
      "Average per-item interactions over the whole dataset 21.54\n",
      "\n",
      "Average per-item interactions for the top 10% popular items 122.73\n",
      "\n",
      "Average per-item interactions for the least 10% popular items 2.35\n",
      "\n",
      "Average per-item interactions for the median 10% popular items 8.37\n"
     ]
    }
   ],
   "source": [
    "ten_percent = int(n_items/10)\n",
    "\n",
    "print(\"Average per-item interactions over the whole dataset {:.2f}\\n\".format(item_popularity.mean()))\n",
    "print(\"Average per-item interactions for the top 10% popular items {:.2f}\\n\".format(item_popularity[-ten_percent:].mean()))\n",
    "print(\"Average per-item interactions for the least 10% popular items {:.2f}\\n\".format(item_popularity[:ten_percent].mean()))\n",
    "print(\"Average per-item interactions for the median 10% popular items {:.2f}\\n\".format(item_popularity[int(n_items/2-ten_percent/2):int(n_items/2+ten_percent/2)].mean()))"
   ],
   "metadata": {
    "collapsed": false,
    "ExecuteTime": {
     "end_time": "2023-11-05T15:31:04.786906Z",
     "start_time": "2023-11-05T15:31:04.777027Z"
    }
   }
  },
  {
   "cell_type": "code",
   "execution_count": 107,
   "outputs": [
    {
     "name": "stdout",
     "output_type": "stream",
     "text": [
      "Number of items with zero interactions 0 out of 22222\n"
     ]
    }
   ],
   "source": [
    "print(\"Number of items with zero interactions {} out of {}\".format(np.sum(item_popularity==0), n_items))\n"
   ],
   "metadata": {
    "collapsed": false,
    "ExecuteTime": {
     "end_time": "2023-11-05T15:31:04.836475Z",
     "start_time": "2023-11-05T15:31:04.785545Z"
    }
   }
  },
  {
   "cell_type": "code",
   "execution_count": 108,
   "outputs": [
    {
     "data": {
      "text/plain": "<Figure size 640x480 with 1 Axes>",
      "image/png": "[encoded data removed]"
     },
     "metadata": {},
     "output_type": "display_data"
    }
   ],
   "source": [
    "user_activity = np.ediff1d(URM_all.tocsr().indptr)\n",
    "user_activity = np.sort(user_activity)\n",
    "\n",
    "pyplot.plot(user_activity, 'ro')\n",
    "pyplot.ylabel('Num Interactions ')\n",
    "pyplot.xlabel('User Index Sorted by Popularity')\n",
    "pyplot.show()"
   ],
   "metadata": {
    "collapsed": false,
    "ExecuteTime": {
     "end_time": "2023-11-05T15:31:04.994224Z",
     "start_time": "2023-11-05T15:31:04.792536Z"
    }
   }
  },
  {
   "cell_type": "code",
   "execution_count": 109,
   "outputs": [],
   "source": [
    "train_test_split = 0.8\n",
    "\n",
    "n_interactions = URM_all.nnz\n",
    "\n",
    "train_mask = np.random.choice([True,False], n_interactions, p=[train_test_split, 1-train_test_split])"
   ],
   "metadata": {
    "collapsed": false,
    "ExecuteTime": {
     "end_time": "2023-11-05T15:31:05.015907Z",
     "start_time": "2023-11-05T15:31:04.984590Z"
    }
   }
  },
  {
   "cell_type": "code",
   "execution_count": 110,
   "outputs": [],
   "source": [
    "URM_all = URM_all.tocoo()\n",
    "URM_train = sps.csr_matrix((URM_all.data[train_mask], (URM_all.row[train_mask], URM_all.col[train_mask])))"
   ],
   "metadata": {
    "collapsed": false,
    "ExecuteTime": {
     "end_time": "2023-11-05T15:31:05.120960Z",
     "start_time": "2023-11-05T15:31:05.011070Z"
    }
   }
  },
  {
   "cell_type": "code",
   "execution_count": 111,
   "outputs": [],
   "source": [
    "test_mask = np.logical_not(train_mask)\n",
    "URM_test = sps.csr_matrix((URM_all.data[test_mask], (URM_all.row[test_mask], URM_all.col[test_mask])))"
   ],
   "metadata": {
    "collapsed": false,
    "ExecuteTime": {
     "end_time": "2023-11-05T15:31:05.121261Z",
     "start_time": "2023-11-05T15:31:05.034780Z"
    }
   }
  },
  {
   "cell_type": "code",
   "execution_count": 112,
   "outputs": [],
   "source": [
    "user_id = 124\n",
    "relevant_items = URM_test[user_id].indices\n",
    "recommended_items = np.array([241, 1622, 15, 857, 5823])\n",
    "is_relevant = np.isin(recommended_items, relevant_items, assume_unique=True)"
   ],
   "metadata": {
    "collapsed": false,
    "ExecuteTime": {
     "end_time": "2023-11-05T15:31:05.121422Z",
     "start_time": "2023-11-05T15:31:05.050769Z"
    }
   }
  },
  {
   "cell_type": "code",
   "execution_count": 113,
   "outputs": [],
   "source": [
    "def precision(recommended_items, relevant_items):\n",
    "    is_relevant = np.isin(recommended_items, relevant_items, assume_unique=True)\n",
    "    precision_score = np.sum(is_relevant, dtype=np.float32) / len(is_relevant)\n",
    "    \n",
    "    return precision_score"
   ],
   "metadata": {
    "collapsed": false,
    "ExecuteTime": {
     "end_time": "2023-11-05T15:31:05.121537Z",
     "start_time": "2023-11-05T15:31:05.058898Z"
    }
   }
  },
  {
   "cell_type": "code",
   "execution_count": 114,
   "outputs": [],
   "source": [
    "def recall(recommended_items, relevant_items):\n",
    "    is_relevant = np.isin(recommended_items, relevant_items, assume_unique=True)\n",
    "    recall_score = np.sum(is_relevant, dtype=np.float32) / relevant_items.shape[0]\n",
    "    \n",
    "    return recall_score"
   ],
   "metadata": {
    "collapsed": false,
    "ExecuteTime": {
     "end_time": "2023-11-05T15:31:05.122643Z",
     "start_time": "2023-11-05T15:31:05.063898Z"
    }
   }
  },
  {
   "cell_type": "code",
   "execution_count": 115,
   "outputs": [],
   "source": [
    "def average_precision(recommended_items, relevant_items):\n",
    "    is_relevant = np.isin(recommended_items, relevant_items, assume_unique=True)\n",
    "    precision_at_k = is_relevant * np.cumsum(is_relevant, dtype=np.float32) / (1 + np.arange(is_relevant.shape[0]))\n",
    "    average_precision_score = np.sum(precision_at_k) / np.min([relevant_items.shape[0], is_relevant.shape[0]])\n",
    "    return average_precision_score"
   ],
   "metadata": {
    "collapsed": false,
    "ExecuteTime": {
     "end_time": "2023-11-05T15:31:05.124011Z",
     "start_time": "2023-11-05T15:31:05.070091Z"
    }
   }
  },
  {
   "cell_type": "code",
   "execution_count": 122,
   "outputs": [],
   "source": [
    "class RandomRecommender(object):\n",
    "    def __init__(self, users_list):\n",
    "        self.users_list = users_list\n",
    "        self.n_items = None\n",
    "        self.recommendations = {} \n",
    "    \n",
    "    def fit(self, URM_train):\n",
    "        self.n_items = URM_train.shape[1]\n",
    "        \n",
    "    def recommend(self, at=10):\n",
    "        recommended_items = np.random.choice(self.n_items, at)\n",
    "        return recommended_items\n",
    "    \n",
    "    def generate_submission_csv(self, filename):\n",
    "        data = []\n",
    "        for user_id in self.users_list:\n",
    "            if user_id in self.recommendations:\n",
    "                recommended_items = self.recommendations[user_id]\n",
    "                data.append([user_id, \" \".join(map(str, recommended_items))])\n",
    "\n",
    "        submission_df = pd.DataFrame(data, columns=['user_id', 'item_list'])\n",
    "        submission_df.to_csv(filename, index=False)"
   ],
   "metadata": {
    "collapsed": false,
    "ExecuteTime": {
     "end_time": "2023-11-05T15:32:14.926516Z",
     "start_time": "2023-11-05T15:32:14.756476Z"
    }
   }
  },
  {
   "cell_type": "code",
   "execution_count": 117,
   "outputs": [],
   "source": [
    "def evaluate_algorithm(URM_test, recommender_object, at=5):\n",
    "    cumulative_precision = 0.0\n",
    "    cumulative_recall = 0.0\n",
    "    cumulative_AP = 0.0\n",
    "    \n",
    "    num_eval = 0\n",
    "    \n",
    "    URM_test = sps.csr_matrix(URM_test)\n",
    "    \n",
    "    for user_id in range(URM_test.shape[0]):\n",
    "        relevant_items = URM_test.indices[URM_test.indptr[user_id]:URM_test.indptr[user_id+1]]\n",
    "        \n",
    "        if len(relevant_items)>0:\n",
    "            recommended_items = recommender_object.recommend(user_id, at=at)\n",
    "            \n",
    "            num_eval+=1\n",
    "            cumulative_precision += precision(recommended_items, relevant_items)\n",
    "            cumulative_recall += recall(recommended_items, relevant_items)\n",
    "            cumulative_AP += average_precision(recommended_items, relevant_items)\n",
    "            \n",
    "    cumulative_precision /= num_eval\n",
    "    cumulative_recall /= num_eval\n",
    "    MAP = cumulative_AP / num_eval\n",
    "    \n",
    "    print(\"Recommender performance is: Precision = {:.4f}, Recall = {:.4f}, MAP = {:.4f}\".format(cumulative_precision, cumulative_recall, MAP))"
   ],
   "metadata": {
    "collapsed": false,
    "ExecuteTime": {
     "end_time": "2023-11-05T15:31:05.130839Z",
     "start_time": "2023-11-05T15:31:05.082166Z"
    }
   }
  },
  {
   "cell_type": "code",
   "execution_count": 118,
   "outputs": [
    {
     "name": "stdout",
     "output_type": "stream",
     "text": [
      "       UserID\n",
      "0           1\n",
      "1           2\n",
      "2           3\n",
      "3           4\n",
      "4           5\n",
      "...       ...\n",
      "10877   13020\n",
      "10878   13021\n",
      "10879   13022\n",
      "10880   13023\n",
      "10881   13024\n",
      "\n",
      "[10882 rows x 1 columns]\n",
      "[    1     2     3 ... 13022 13023 13024]\n"
     ]
    }
   ],
   "source": [
    "users_file_path = 'data_target_users_test.csv'\n",
    "test_users = pd.read_csv(filepath_or_buffer=users_file_path,\n",
    "                                sep=',',\n",
    "                                engine='python')\n",
    "test_users.columns = ['UserID']\n",
    "print(test_users.head(n=20000))\n",
    "users_list = test_users['UserID'].values\n",
    "print(users_list)"
   ],
   "metadata": {
    "collapsed": false,
    "ExecuteTime": {
     "end_time": "2023-11-05T15:31:05.132224Z",
     "start_time": "2023-11-05T15:31:05.089813Z"
    }
   }
  },
  {
   "cell_type": "code",
   "execution_count": 123,
   "outputs": [
    {
     "name": "stdout",
     "output_type": "stream",
     "text": [
      "Unexpected exception formatting exception. Falling back to standard exception\n"
     ]
    },
    {
     "name": "stderr",
     "output_type": "stream",
     "text": [
      "Traceback (most recent call last):\n",
      "  File \"/Library/Frameworks/Python.framework/Versions/3.11/lib/python3.11/site-packages/IPython/core/interactiveshell.py\", line 3508, in run_code\n",
      "    exec(code_obj, self.user_global_ns, self.user_ns)\n",
      "  File \"/var/folders/45/5q6zskw54k5crwq2ngs9b_mh0000gn/T/ipykernel_43691/900247670.py\", line 7, in <module>\n",
      "    random_recommender.generate_submission_csv('submission_random.csv')\n",
      "  File \"/var/folders/45/5q6zskw54k5crwq2ngs9b_mh0000gn/T/ipykernel_43691/977540169.py\", line -1, in generate_submission_csv\n",
      "KeyboardInterrupt\n",
      "\n",
      "During handling of the above exception, another exception occurred:\n",
      "\n",
      "Traceback (most recent call last):\n",
      "  File \"/Library/Frameworks/Python.framework/Versions/3.11/lib/python3.11/site-packages/IPython/core/interactiveshell.py\", line 2105, in showtraceback\n",
      "    stb = self.InteractiveTB.structured_traceback(\n",
      "          ^^^^^^^^^^^^^^^^^^^^^^^^^^^^^^^^^^^^^^^^\n",
      "  File \"/Library/Frameworks/Python.framework/Versions/3.11/lib/python3.11/site-packages/IPython/core/ultratb.py\", line 1428, in structured_traceback\n",
      "    return FormattedTB.structured_traceback(\n",
      "           ^^^^^^^^^^^^^^^^^^^^^^^^^^^^^^^^^\n",
      "  File \"/Library/Frameworks/Python.framework/Versions/3.11/lib/python3.11/site-packages/IPython/core/ultratb.py\", line 1319, in structured_traceback\n",
      "    return VerboseTB.structured_traceback(\n",
      "           ^^^^^^^^^^^^^^^^^^^^^^^^^^^^^^^\n",
      "  File \"/Library/Frameworks/Python.framework/Versions/3.11/lib/python3.11/site-packages/IPython/core/ultratb.py\", line 1172, in structured_traceback\n",
      "    formatted_exception = self.format_exception_as_a_whole(etype, evalue, etb, number_of_lines_of_context,\n",
      "                          ^^^^^^^^^^^^^^^^^^^^^^^^^^^^^^^^^^^^^^^^^^^^^^^^^^^^^^^^^^^^^^^^^^^^^^^^^^^^^^^^\n",
      "  File \"/Library/Frameworks/Python.framework/Versions/3.11/lib/python3.11/site-packages/IPython/core/ultratb.py\", line 1087, in format_exception_as_a_whole\n",
      "    frames.append(self.format_record(record))\n",
      "                  ^^^^^^^^^^^^^^^^^^^^^^^^^^\n",
      "  File \"/Library/Frameworks/Python.framework/Versions/3.11/lib/python3.11/site-packages/IPython/core/ultratb.py\", line 969, in format_record\n",
      "    frame_info.lines, Colors, self.has_colors, lvals\n",
      "    ^^^^^^^^^^^^^^^^\n",
      "  File \"/Library/Frameworks/Python.framework/Versions/3.11/lib/python3.11/site-packages/IPython/core/ultratb.py\", line 792, in lines\n",
      "    return self._sd.lines\n",
      "           ^^^^^^^^^^^^^^\n",
      "  File \"/Library/Frameworks/Python.framework/Versions/3.11/lib/python3.11/site-packages/stack_data/utils.py\", line 144, in cached_property_wrapper\n",
      "    value = obj.__dict__[self.func.__name__] = self.func(obj)\n",
      "                                               ^^^^^^^^^^^^^^\n",
      "  File \"/Library/Frameworks/Python.framework/Versions/3.11/lib/python3.11/site-packages/stack_data/core.py\", line 734, in lines\n",
      "    pieces = self.included_pieces\n",
      "             ^^^^^^^^^^^^^^^^^^^^\n",
      "  File \"/Library/Frameworks/Python.framework/Versions/3.11/lib/python3.11/site-packages/stack_data/utils.py\", line 144, in cached_property_wrapper\n",
      "    value = obj.__dict__[self.func.__name__] = self.func(obj)\n",
      "                                               ^^^^^^^^^^^^^^\n",
      "  File \"/Library/Frameworks/Python.framework/Versions/3.11/lib/python3.11/site-packages/stack_data/core.py\", line 681, in included_pieces\n",
      "    pos = scope_pieces.index(self.executing_piece)\n",
      "                             ^^^^^^^^^^^^^^^^^^^^\n",
      "  File \"/Library/Frameworks/Python.framework/Versions/3.11/lib/python3.11/site-packages/stack_data/utils.py\", line 144, in cached_property_wrapper\n",
      "    value = obj.__dict__[self.func.__name__] = self.func(obj)\n",
      "                                               ^^^^^^^^^^^^^^\n",
      "  File \"/Library/Frameworks/Python.framework/Versions/3.11/lib/python3.11/site-packages/stack_data/core.py\", line 660, in executing_piece\n",
      "    return only(\n",
      "           ^^^^^\n",
      "  File \"/Library/Frameworks/Python.framework/Versions/3.11/lib/python3.11/site-packages/executing/executing.py\", line 190, in only\n",
      "    raise NotOneValueFound('Expected one value, found 0')\n",
      "executing.executing.NotOneValueFound: Expected one value, found 0\n"
     ]
    }
   ],
   "source": [
    "random_recommender = RandomRecommender(users_list)\n",
    "random_recommender.fit(URM_train)\n",
    "\n",
    "for user_id in users_list:\n",
    "    random_recommender.recommend(user_id, at=10)\n",
    "\n",
    "    random_recommender.generate_submission_csv('submission_random.csv')"
   ],
   "metadata": {
    "collapsed": false,
    "ExecuteTime": {
     "end_time": "2023-11-05T15:33:00.193950Z",
     "start_time": "2023-11-05T15:32:34.189872Z"
    }
   }
  },
  {
   "cell_type": "code",
   "execution_count": 120,
   "outputs": [
    {
     "name": "stdout",
     "output_type": "stream",
     "text": [
      "Recommender performance is: Precision = 0.0005, Recall = 0.0007, MAP = 0.0003\n"
     ]
    }
   ],
   "source": [
    "evaluate_algorithm(URM_test, random_recommender, at=10)"
   ],
   "metadata": {
    "collapsed": false,
    "ExecuteTime": {
     "end_time": "2023-11-05T15:31:31.559294Z",
     "start_time": "2023-11-05T15:31:30.296883Z"
    }
   }
  },
  {
   "cell_type": "code",
   "execution_count": 121,
   "outputs": [
    {
     "name": "stdout",
     "output_type": "stream",
     "text": [
      "  (0, 0)\t1.0\n",
      "  (0, 1)\t1.0\n",
      "  (0, 2)\t1.0\n",
      "  (0, 3)\t1.0\n",
      "  (0, 4)\t1.0\n",
      "  (0, 5)\t1.0\n",
      "  (0, 6)\t1.0\n",
      "  (0, 8)\t1.0\n",
      "  (0, 9)\t1.0\n",
      "  (0, 10)\t1.0\n",
      "  (0, 11)\t1.0\n",
      "  (0, 12)\t1.0\n",
      "  (0, 13)\t1.0\n",
      "  (0, 14)\t1.0\n",
      "  (0, 15)\t1.0\n",
      "  (0, 18)\t1.0\n",
      "  (0, 19)\t1.0\n",
      "  (0, 20)\t1.0\n",
      "  (0, 22)\t1.0\n",
      "  (0, 23)\t1.0\n",
      "  (0, 24)\t1.0\n",
      "  (0, 26)\t1.0\n",
      "  (0, 27)\t1.0\n",
      "  (0, 28)\t1.0\n",
      "  (0, 29)\t1.0\n",
      "  :\t:\n",
      "  (12637, 8356)\t1.0\n",
      "  (12637, 8357)\t1.0\n",
      "  (12637, 8440)\t1.0\n",
      "  (12637, 9570)\t1.0\n",
      "  (12637, 9770)\t1.0\n",
      "  (12637, 10771)\t1.0\n",
      "  (12637, 10897)\t1.0\n",
      "  (12637, 10899)\t1.0\n",
      "  (12637, 10910)\t1.0\n",
      "  (12637, 11115)\t1.0\n",
      "  (12637, 11426)\t1.0\n",
      "  (12637, 11823)\t1.0\n",
      "  (12637, 11978)\t1.0\n",
      "  (12637, 13248)\t1.0\n",
      "  (12637, 13249)\t1.0\n",
      "  (12637, 14344)\t1.0\n",
      "  (12637, 16341)\t1.0\n",
      "  (12637, 16585)\t1.0\n",
      "  (12637, 16590)\t1.0\n",
      "  (12637, 16594)\t1.0\n",
      "  (12637, 16595)\t1.0\n",
      "  (12637, 16602)\t1.0\n",
      "  (12637, 17034)\t1.0\n",
      "  (12637, 17581)\t1.0\n",
      "  (12637, 17584)\t1.0\n"
     ]
    }
   ],
   "source": [
    "print(URM_train)"
   ],
   "metadata": {
    "collapsed": false,
    "ExecuteTime": {
     "end_time": "2023-11-05T15:31:31.569109Z",
     "start_time": "2023-11-05T15:31:31.559601Z"
    }
   }
  },
  {
   "cell_type": "code",
   "execution_count": 121,
   "outputs": [],
   "source": [],
   "metadata": {
    "collapsed": false,
    "ExecuteTime": {
     "end_time": "2023-11-05T15:31:31.571633Z",
     "start_time": "2023-11-05T15:31:31.567923Z"
    }
   }
  }
 ],
 "metadata": {
  "kernelspec": {
   "display_name": "Python 3",
   "language": "python",
   "name": "python3"
  },
  "language_info": {
   "codemirror_mode": {
    "name": "ipython",
    "version": 3
   },
   "file_extension": ".py",
   "mimetype": "text/x-python",
   "name": "python",
   "nbconvert_exporter": "python",
   "pygments_lexer": "ipython3",
   "version": "3.11.0"
  }
 },
 "nbformat": 4,
 "nbformat_minor": 2
}
